{
  "cells": [
    {
      "cell_type": "markdown",
      "metadata": {
        "id": "view-in-github",
        "colab_type": "text"
      },
      "source": [
        "<a href=\"https://colab.research.google.com/github/MohmedAAK/-Advanced-computer-vision-v1/blob/main/mnist_team2.ipynb\" target=\"_parent\"><img src=\"https://colab.research.google.com/assets/colab-badge.svg\" alt=\"Open In Colab\"/></a>"
      ]
    },
    {
      "cell_type": "markdown",
      "metadata": {
        "_uuid": "7ed04b1e7a00a7ad31ee98a7d8e55880e6274f29",
        "id": "LxxSDiGhQ7bD"
      },
      "source": [
        "**Import all Necessary Libraries**"
      ]
    },
    {
      "cell_type": "code",
      "execution_count": 1,
      "metadata": {
        "_uuid": "0f935bddcc5ca02702578e712bf7f396ba7154ef",
        "id": "hWu4cUUWQ7bE"
      },
      "outputs": [],
      "source": [
        "import pandas as pd\n",
        "import numpy as np\n",
        "\n",
        "import matplotlib.pyplot as plt\n",
        "import seaborn as sns\n",
        "\n",
        "from sklearn.model_selection import train_test_split\n",
        "from sklearn.metrics import confusion_matrix\n",
        "\n",
        "from keras.models import Sequential\n",
        "from keras.layers import Conv2D, Lambda, MaxPooling2D # convolution layers\n",
        "from keras.layers import Dense, Dropout, Flatten # core layers\n",
        "\n",
        "#from keras.layers.normalization import BatchNormalization\n",
        "\n",
        "from keras.preprocessing.image import ImageDataGenerator\n",
        "\n",
        "from keras.utils.np_utils import to_categorical\n",
        "\n",
        "from keras.datasets import mnist"
      ]
    },
    {
      "cell_type": "code",
      "execution_count": 2,
      "metadata": {
        "id": "qwAZkjwfQ7bG"
      },
      "outputs": [],
      "source": [
        "import os\n"
      ]
    },
    {
      "cell_type": "markdown",
      "metadata": {
        "_uuid": "f94870f1682c45b0e4ea378d287302656af3cf8e",
        "id": "fFssmU5tQ7bG"
      },
      "source": [
        "## 2. Data preparation\n",
        "## 2.1 Load data"
      ]
    },
    {
      "cell_type": "code",
      "execution_count": 3,
      "metadata": {
        "colab": {
          "base_uri": "https://localhost:8080/"
        },
        "id": "6hAafR4CQ7bH",
        "outputId": "45cf0961-a61d-423d-ab78-fc02e52929eb"
      },
      "outputs": [
        {
          "output_type": "stream",
          "name": "stdout",
          "text": [
            "Data are Ready!!\n"
          ]
        }
      ],
      "source": [
        "train = pd.read_csv('train.csv')\n",
        "test = pd.read_csv('test.csv')\n",
        "sub = pd.read_csv('sample_submission.csv')\n",
        "print(\"Data are Ready!!\")"
      ]
    },
    {
      "cell_type": "code",
      "execution_count": 4,
      "metadata": {
        "colab": {
          "base_uri": "https://localhost:8080/"
        },
        "id": "JSC9FZqGQ7bI",
        "outputId": "eca72b68-694c-4732-dbbe-51de07c027f1"
      },
      "outputs": [
        {
          "output_type": "stream",
          "name": "stdout",
          "text": [
            "Training data size is (42000, 785)\n",
            "Testing data size is (28000, 784)\n"
          ]
        }
      ],
      "source": [
        "print(f\"Training data size is {train.shape}\\nTesting data size is {test.shape}\")"
      ]
    },
    {
      "cell_type": "markdown",
      "metadata": {
        "id": "bx37Sq4dQ7bI"
      },
      "source": [
        "**Set data features and labels**"
      ]
    },
    {
      "cell_type": "code",
      "execution_count": 5,
      "metadata": {
        "colab": {
          "base_uri": "https://localhost:8080/"
        },
        "id": "IMoQWk6KQ7bJ",
        "outputId": "a4a52db5-c7a4-4fc1-88d5-581acfdd61bf"
      },
      "outputs": [
        {
          "output_type": "stream",
          "name": "stderr",
          "text": [
            "/usr/local/lib/python3.7/dist-packages/ipykernel_launcher.py:1: FutureWarning: In a future version of pandas all arguments of DataFrame.drop except for the argument 'labels' will be keyword-only\n",
            "  \"\"\"Entry point for launching an IPython kernel.\n"
          ]
        }
      ],
      "source": [
        "X = train.drop(['label'], 1).values\n",
        "y = train['label'].values\n",
        "\n",
        "test_x = test.values"
      ]
    },
    {
      "cell_type": "markdown",
      "metadata": {
        "id": "GR3_h1yYQ7bK"
      },
      "source": [
        "## 2.2 Normalization"
      ]
    },
    {
      "cell_type": "markdown",
      "metadata": {
        "id": "lk58CmmqQ7bK"
      },
      "source": [
        "We perform a grayscale normalization to reduce the effect of illumination's differences. \n",
        "\n",
        "Moreover the CNN converg faster on [0..1] data than on [0..255]."
      ]
    },
    {
      "cell_type": "code",
      "execution_count": 6,
      "metadata": {
        "id": "VIbK2NDBQ7bK"
      },
      "outputs": [],
      "source": [
        "X = X / 255.0\n",
        "test_x = test_x / 255.0"
      ]
    },
    {
      "cell_type": "markdown",
      "metadata": {
        "id": "cLpNACeaQ7bL"
      },
      "source": [
        "## 2.3 Reshape"
      ]
    },
    {
      "cell_type": "code",
      "execution_count": 7,
      "metadata": {
        "id": "W7h8pG4SQ7bL"
      },
      "outputs": [],
      "source": [
        "# Reshape image in 3 dimensions (height = 28px, width = 28px , canal = 1)\n",
        "# canal = 1 => For gray scale\n",
        "X = X.reshape(-1,28,28,1)\n",
        "test_x = test_x.reshape(-1,28,28,1)"
      ]
    },
    {
      "cell_type": "markdown",
      "metadata": {
        "id": "nLvEppyAQ7bL"
      },
      "source": [
        "## 2.4 Label encoding"
      ]
    },
    {
      "cell_type": "markdown",
      "metadata": {
        "id": "Cx17e09pQ7bM"
      },
      "source": [
        "**One-Hot Encoding**"
      ]
    },
    {
      "cell_type": "code",
      "execution_count": 8,
      "metadata": {
        "colab": {
          "base_uri": "https://localhost:8080/"
        },
        "id": "krRUpGLHQ7bM",
        "outputId": "128ccc52-9562-4079-a28e-7e1bed7d9fe5"
      },
      "outputs": [
        {
          "output_type": "stream",
          "name": "stdout",
          "text": [
            "Label size (42000, 10)\n"
          ]
        }
      ],
      "source": [
        "# Encode labels to one hot vectors (ex : 2 -> [0,0,1,0,0,0,0,0,0,0])\n",
        "y = to_categorical(y)\n",
        "\n",
        "print(f\"Label size {y.shape}\")"
      ]
    },
    {
      "cell_type": "markdown",
      "metadata": {
        "id": "17p1GiSoQ7bN"
      },
      "source": [
        "## 2.5 Split training and valdiation set"
      ]
    },
    {
      "cell_type": "code",
      "execution_count": 9,
      "metadata": {
        "id": "v86CM8rsQ7bN"
      },
      "outputs": [],
      "source": [
        "# Split the train and the validation set for the fitting\n",
        "X_train, X_test, y_train, y_test = train_test_split(X, y, test_size=0.1, random_state=0)"
      ]
    },
    {
      "cell_type": "code",
      "execution_count": 10,
      "metadata": {
        "colab": {
          "base_uri": "https://localhost:8080/"
        },
        "id": "Xc8UcFZqQ7bN",
        "outputId": "2a309b45-d559-456f-c6b2-643fad8049c4"
      },
      "outputs": [
        {
          "output_type": "execute_result",
          "data": {
            "text/plain": [
              "((37800, 28, 28, 1), (4200, 28, 28, 1), (37800, 10), (4200, 10))"
            ]
          },
          "metadata": {},
          "execution_count": 10
        }
      ],
      "source": [
        "X_train.shape, X_test.shape, y_train.shape, y_test.shape"
      ]
    },
    {
      "cell_type": "markdown",
      "metadata": {
        "_uuid": "d9f73cd8890cc89d03837ef47210b27b94b156dc",
        "id": "nufuY7dGQ7bO"
      },
      "source": [
        "**Data Visualization**"
      ]
    },
    {
      "cell_type": "code",
      "execution_count": 11,
      "metadata": {
        "_uuid": "d00d9b96668d11a33c272b2b64cbb4397dcbba89",
        "scrolled": true,
        "colab": {
          "base_uri": "https://localhost:8080/",
          "height": 298
        },
        "id": "5_55nwjLQ7bO",
        "outputId": "492ed5e6-226a-4ea0-b1ed-c6305739440b"
      },
      "outputs": [
        {
          "output_type": "display_data",
          "data": {
            "image/png": "[encoded data removed]",
            "text/plain": [
              "<Figure size 1440x720 with 4 Axes>"
            ]
          },
          "metadata": {
            "needs_background": "light"
          }
        }
      ],
      "source": [
        "X_train__ = X_train.reshape(X_train.shape[0], 28, 28)\n",
        "\n",
        "fig, axis = plt.subplots(1, 4, figsize=(20, 10))\n",
        "for i, ax in enumerate(axis.flat):\n",
        "    ax.imshow(X_train__[i], cmap='binary')\n",
        "    digit = y_train[i].argmax()\n",
        "    ax.set(title = f\"Real Number is {digit}\");"
      ]
    },
    {
      "cell_type": "markdown",
      "metadata": {
        "_uuid": "a4f73e65842423bae7cfce945cd4dc0e367c180a",
        "id": "nuuwqPBwQ7bO"
      },
      "source": [
        "**Normalization**"
      ]
    },
    {
      "cell_type": "code",
      "execution_count": 12,
      "metadata": {
        "_uuid": "82bddf135bfad1d3f91b52cd0cadb62e55db964b",
        "id": "442D6UMWQ7bO"
      },
      "outputs": [],
      "source": [
        "mean = np.mean(X_train)\n",
        "std = np.std(X_train)\n",
        "\n",
        "def standardize(x):\n",
        "    return (x-mean)/std"
      ]
    },
    {
      "cell_type": "code",
      "execution_count": 13,
      "metadata": {
        "id": "Iq50RQsnQ7bP"
      },
      "outputs": [],
      "source": [
        "epochs = 50\n",
        "batch_size = 64"
      ]
    },
    {
      "cell_type": "markdown",
      "metadata": {
        "_uuid": "57904be2d2935cece025811c128ca6738cf86800",
        "id": "q_f9HuhpQ7bP"
      },
      "source": [
        "**Model Definition**"
      ]
    },
    {
      "cell_type": "code",
      "execution_count": 14,
      "metadata": {
        "_uuid": "e935c979b0715a68bc8739e6a31f5d9a8189a750",
        "id": "AU8qdtSEQ7bP"
      },
      "outputs": [],
      "source": [
        "model=Sequential()\n",
        "\n",
        "#model.add(Lambda(standardize,input_shape=(28,28,1)))    \n",
        "model.add(Conv2D(filters=64, kernel_size = (3,3), activation=\"relu\", input_shape=(28,28,1)))\n",
        "model.add(Conv2D(filters=64, kernel_size = (3,3), activation=\"relu\"))\n",
        "\n",
        "model.add(MaxPooling2D(pool_size=(2,2)))\n",
        "\n",
        "model.add(Conv2D(filters=128, kernel_size = (3,3), activation=\"relu\"))\n",
        "model.add(Conv2D(filters=128, kernel_size = (3,3), activation=\"relu\"))\n",
        "\n",
        "model.add(MaxPooling2D(pool_size=(2,2)))\n",
        "  \n",
        "model.add(Conv2D(filters=256, kernel_size = (3,3), activation=\"relu\"))\n",
        "    \n",
        "model.add(MaxPooling2D(pool_size=(2,2)))\n",
        "    \n",
        "model.add(Flatten())\n",
        "\n",
        "model.add(Dense(512,activation=\"relu\"))\n",
        "    \n",
        "model.add(Dense(10,activation=\"softmax\"))\n",
        "    \n",
        "model.compile(loss=\"categorical_crossentropy\", optimizer=\"adam\", metrics=[\"accuracy\"])"
      ]
    },
    {
      "cell_type": "markdown",
      "metadata": {
        "id": "hvYBn7IOQ7bQ"
      },
      "source": [
        "## 3.2 Data augmentation"
      ]
    },
    {
      "cell_type": "code",
      "execution_count": 15,
      "metadata": {
        "id": "ybZX_5tqQ7bQ"
      },
      "outputs": [],
      "source": [
        "# With data augmentation to prevent overfitting\n",
        "\n",
        "datagen = ImageDataGenerator(\n",
        "        featurewise_center=False,  # set input mean to 0 over the dataset\n",
        "        samplewise_center=False,  # set each sample mean to 0\n",
        "        featurewise_std_normalization=False,  # divide inputs by std of the dataset\n",
        "        samplewise_std_normalization=False,  # divide each input by its std\n",
        "        zca_whitening=False,  # apply ZCA whitening\n",
        "        rotation_range=10,  # randomly rotate images in the range (degrees, 0 to 180)\n",
        "        zoom_range = 0.1, # Randomly zoom image \n",
        "        width_shift_range=0.1,  # randomly shift images horizontally (fraction of total width)\n",
        "        height_shift_range=0.1,  # randomly shift images vertically (fraction of total height)\n",
        "        horizontal_flip=False,  # randomly flip images\n",
        "        vertical_flip=False)  # randomly flip images\n",
        "\n",
        "\n",
        "#datagen.fit(X_train)\n",
        "train_gen = datagen.flow(X_train, y_train, batch_size=batch_size)\n",
        "test_gen = datagen.flow(X_test, y_test, batch_size=batch_size)"
      ]
    },
    {
      "cell_type": "markdown",
      "metadata": {
        "_uuid": "5a9a1f37ef33b24887f97e7992b7d24567602eb8",
        "id": "C_XYlDIqQ7bQ"
      },
      "source": [
        "## 3.3 Model training"
      ]
    },
    {
      "cell_type": "code",
      "execution_count": null,
      "metadata": {
        "id": "lGjs1LzvQ7bR"
      },
      "outputs": [],
      "source": [
        ""
      ]
    },
    {
      "cell_type": "code",
      "execution_count": 16,
      "metadata": {
        "colab": {
          "base_uri": "https://localhost:8080/"
        },
        "id": "wyfF5D1nQ7bR",
        "outputId": "5a66a330-3db5-48f8-c12a-84c89863afc1"
      },
      "outputs": [
        {
          "output_type": "stream",
          "name": "stderr",
          "text": [
            "/usr/local/lib/python3.7/dist-packages/ipykernel_launcher.py:6: UserWarning: `Model.fit_generator` is deprecated and will be removed in a future version. Please use `Model.fit`, which supports generators.\n",
            "  \n"
          ]
        },
        {
          "output_type": "stream",
          "name": "stdout",
          "text": [
            "Epoch 1/50\n",
            "590/590 [==============================] - 31s 38ms/step - loss: 0.2635 - accuracy: 0.9158 - val_loss: 0.0894 - val_accuracy: 0.9736\n",
            "Epoch 2/50\n",
            "590/590 [==============================] - 22s 38ms/step - loss: 0.0705 - accuracy: 0.9786 - val_loss: 0.0747 - val_accuracy: 0.9781\n",
            "Epoch 3/50\n",
            "590/590 [==============================] - 22s 38ms/step - loss: 0.0570 - accuracy: 0.9826 - val_loss: 0.0528 - val_accuracy: 0.9849\n",
            "Epoch 4/50\n",
            "590/590 [==============================] - 22s 37ms/step - loss: 0.0481 - accuracy: 0.9854 - val_loss: 0.0398 - val_accuracy: 0.9877\n",
            "Epoch 5/50\n",
            "590/590 [==============================] - 22s 38ms/step - loss: 0.0413 - accuracy: 0.9877 - val_loss: 0.0593 - val_accuracy: 0.9817\n",
            "Epoch 6/50\n",
            "590/590 [==============================] - 23s 39ms/step - loss: 0.0393 - accuracy: 0.9879 - val_loss: 0.0420 - val_accuracy: 0.9875\n",
            "Epoch 7/50\n",
            "590/590 [==============================] - 23s 38ms/step - loss: 0.0328 - accuracy: 0.9902 - val_loss: 0.0382 - val_accuracy: 0.9880\n",
            "Epoch 8/50\n",
            "590/590 [==============================] - 22s 38ms/step - loss: 0.0343 - accuracy: 0.9896 - val_loss: 0.0308 - val_accuracy: 0.9899\n",
            "Epoch 9/50\n",
            "590/590 [==============================] - 22s 37ms/step - loss: 0.0285 - accuracy: 0.9912 - val_loss: 0.0458 - val_accuracy: 0.9861\n",
            "Epoch 10/50\n",
            "590/590 [==============================] - 22s 37ms/step - loss: 0.0280 - accuracy: 0.9915 - val_loss: 0.0284 - val_accuracy: 0.9918\n",
            "Epoch 11/50\n",
            "590/590 [==============================] - 22s 37ms/step - loss: 0.0263 - accuracy: 0.9921 - val_loss: 0.0569 - val_accuracy: 0.9817\n",
            "Epoch 12/50\n",
            "590/590 [==============================] - 22s 37ms/step - loss: 0.0249 - accuracy: 0.9923 - val_loss: 0.0355 - val_accuracy: 0.9889\n",
            "Epoch 13/50\n",
            "590/590 [==============================] - 22s 37ms/step - loss: 0.0225 - accuracy: 0.9931 - val_loss: 0.0322 - val_accuracy: 0.9913\n",
            "Epoch 14/50\n",
            "590/590 [==============================] - 22s 37ms/step - loss: 0.0239 - accuracy: 0.9927 - val_loss: 0.0461 - val_accuracy: 0.9901\n",
            "Epoch 15/50\n",
            "590/590 [==============================] - 22s 37ms/step - loss: 0.0239 - accuracy: 0.9925 - val_loss: 0.0291 - val_accuracy: 0.9901\n",
            "Epoch 16/50\n",
            "590/590 [==============================] - 22s 37ms/step - loss: 0.0201 - accuracy: 0.9935 - val_loss: 0.0617 - val_accuracy: 0.9832\n",
            "Epoch 17/50\n",
            "590/590 [==============================] - 22s 37ms/step - loss: 0.0201 - accuracy: 0.9938 - val_loss: 0.0254 - val_accuracy: 0.9935\n",
            "Epoch 18/50\n",
            "590/590 [==============================] - 22s 38ms/step - loss: 0.0197 - accuracy: 0.9940 - val_loss: 0.0317 - val_accuracy: 0.9916\n",
            "Epoch 19/50\n",
            "590/590 [==============================] - 22s 37ms/step - loss: 0.0185 - accuracy: 0.9944 - val_loss: 0.0293 - val_accuracy: 0.9928\n",
            "Epoch 20/50\n",
            "590/590 [==============================] - 22s 38ms/step - loss: 0.0182 - accuracy: 0.9944 - val_loss: 0.0284 - val_accuracy: 0.9923\n",
            "Epoch 21/50\n",
            "590/590 [==============================] - 22s 38ms/step - loss: 0.0175 - accuracy: 0.9945 - val_loss: 0.0505 - val_accuracy: 0.9882\n",
            "Epoch 22/50\n",
            "590/590 [==============================] - 22s 37ms/step - loss: 0.0185 - accuracy: 0.9943 - val_loss: 0.0317 - val_accuracy: 0.9901\n",
            "Epoch 23/50\n",
            "590/590 [==============================] - 22s 37ms/step - loss: 0.0176 - accuracy: 0.9948 - val_loss: 0.0404 - val_accuracy: 0.9897\n",
            "Epoch 24/50\n",
            "590/590 [==============================] - 22s 37ms/step - loss: 0.0167 - accuracy: 0.9949 - val_loss: 0.0322 - val_accuracy: 0.9913\n",
            "Epoch 25/50\n",
            "590/590 [==============================] - 22s 37ms/step - loss: 0.0167 - accuracy: 0.9955 - val_loss: 0.0381 - val_accuracy: 0.9887\n",
            "Epoch 26/50\n",
            "590/590 [==============================] - 22s 37ms/step - loss: 0.0147 - accuracy: 0.9960 - val_loss: 0.0211 - val_accuracy: 0.9940\n",
            "Epoch 27/50\n",
            "590/590 [==============================] - 22s 38ms/step - loss: 0.0142 - accuracy: 0.9955 - val_loss: 0.0374 - val_accuracy: 0.9904\n",
            "Epoch 28/50\n",
            "590/590 [==============================] - 22s 37ms/step - loss: 0.0140 - accuracy: 0.9960 - val_loss: 0.0253 - val_accuracy: 0.9925\n",
            "Epoch 29/50\n",
            "590/590 [==============================] - 23s 38ms/step - loss: 0.0160 - accuracy: 0.9954 - val_loss: 0.0268 - val_accuracy: 0.9933\n",
            "Epoch 30/50\n",
            "590/590 [==============================] - 23s 38ms/step - loss: 0.0137 - accuracy: 0.9960 - val_loss: 0.0288 - val_accuracy: 0.9925\n",
            "Epoch 31/50\n",
            "590/590 [==============================] - 22s 37ms/step - loss: 0.0135 - accuracy: 0.9961 - val_loss: 0.0277 - val_accuracy: 0.9928\n",
            "Epoch 32/50\n",
            "590/590 [==============================] - 23s 39ms/step - loss: 0.0141 - accuracy: 0.9961 - val_loss: 0.0292 - val_accuracy: 0.9925\n",
            "Epoch 33/50\n",
            "590/590 [==============================] - 23s 39ms/step - loss: 0.0134 - accuracy: 0.9961 - val_loss: 0.0312 - val_accuracy: 0.9921\n",
            "Epoch 34/50\n",
            "590/590 [==============================] - 22s 37ms/step - loss: 0.0136 - accuracy: 0.9961 - val_loss: 0.0299 - val_accuracy: 0.9925\n",
            "Epoch 35/50\n",
            "590/590 [==============================] - 22s 38ms/step - loss: 0.0132 - accuracy: 0.9961 - val_loss: 0.0302 - val_accuracy: 0.9918\n",
            "Epoch 36/50\n",
            "590/590 [==============================] - 22s 38ms/step - loss: 0.0138 - accuracy: 0.9958 - val_loss: 0.0257 - val_accuracy: 0.9928\n",
            "Epoch 37/50\n",
            "590/590 [==============================] - 22s 38ms/step - loss: 0.0108 - accuracy: 0.9971 - val_loss: 0.0391 - val_accuracy: 0.9897\n",
            "Epoch 38/50\n",
            "590/590 [==============================] - 22s 37ms/step - loss: 0.0135 - accuracy: 0.9959 - val_loss: 0.0407 - val_accuracy: 0.9909\n",
            "Epoch 39/50\n",
            "590/590 [==============================] - 22s 37ms/step - loss: 0.0142 - accuracy: 0.9959 - val_loss: 0.0229 - val_accuracy: 0.9933\n",
            "Epoch 40/50\n",
            "590/590 [==============================] - 22s 38ms/step - loss: 0.0143 - accuracy: 0.9955 - val_loss: 0.0351 - val_accuracy: 0.9904\n",
            "Epoch 41/50\n",
            "590/590 [==============================] - 22s 38ms/step - loss: 0.0135 - accuracy: 0.9959 - val_loss: 0.0260 - val_accuracy: 0.9942\n",
            "Epoch 42/50\n",
            "590/590 [==============================] - 22s 38ms/step - loss: 0.0105 - accuracy: 0.9968 - val_loss: 0.0337 - val_accuracy: 0.9925\n",
            "Epoch 43/50\n",
            "590/590 [==============================] - 22s 38ms/step - loss: 0.0109 - accuracy: 0.9971 - val_loss: 0.0403 - val_accuracy: 0.9911\n",
            "Epoch 44/50\n",
            "590/590 [==============================] - 22s 37ms/step - loss: 0.0138 - accuracy: 0.9961 - val_loss: 0.0313 - val_accuracy: 0.9913\n",
            "Epoch 45/50\n",
            "590/590 [==============================] - 22s 37ms/step - loss: 0.0096 - accuracy: 0.9970 - val_loss: 0.0233 - val_accuracy: 0.9942\n",
            "Epoch 46/50\n",
            "590/590 [==============================] - 22s 37ms/step - loss: 0.0128 - accuracy: 0.9964 - val_loss: 0.0288 - val_accuracy: 0.9928\n",
            "Epoch 47/50\n",
            "590/590 [==============================] - 22s 38ms/step - loss: 0.0106 - accuracy: 0.9970 - val_loss: 0.0428 - val_accuracy: 0.9901\n",
            "Epoch 48/50\n",
            "590/590 [==============================] - 22s 37ms/step - loss: 0.0109 - accuracy: 0.9971 - val_loss: 0.0384 - val_accuracy: 0.9923\n",
            "Epoch 49/50\n",
            "590/590 [==============================] - 23s 38ms/step - loss: 0.0122 - accuracy: 0.9964 - val_loss: 0.0329 - val_accuracy: 0.9928\n",
            "Epoch 50/50\n",
            "590/590 [==============================] - 22s 38ms/step - loss: 0.0117 - accuracy: 0.9966 - val_loss: 0.0306 - val_accuracy: 0.9918\n"
          ]
        }
      ],
      "source": [
        "# Fit the model\n",
        "history = model.fit_generator(train_gen, \n",
        "                              epochs = epochs, \n",
        "                              steps_per_epoch = X_train.shape[0] // batch_size,\n",
        "                              validation_data = test_gen,\n",
        "                              validation_steps = X_test.shape[0] // batch_size)"
      ]
    },
    {
      "cell_type": "markdown",
      "metadata": {
        "id": "3F9lo5BPQ7bT"
      },
      "source": [
        "## 5.1 Prediction validation results"
      ]
    },
    {
      "cell_type": "code",
      "execution_count": 20,
      "metadata": {
        "colab": {
          "base_uri": "https://localhost:8080/",
          "height": 820
        },
        "id": "3tsLvAYAQ7bT",
        "outputId": "88da3484-3260-47e3-f494-ef250696ac5a"
      },
      "outputs": [
        {
          "output_type": "display_data",
          "data": {
            "image/png": "[encoded data removed]",
            "text/plain": [
              "<Figure size 864x1008 with 16 Axes>"
            ]
          },
          "metadata": {
            "needs_background": "light"
          }
        }
      ],
      "source": [
        "y_pred = model.predict(X_test)\n",
        "X_test__ = X_test.reshape(X_test.shape[0], 28, 28)\n",
        "\n",
        "fig, axis = plt.subplots(4, 4, figsize=(12, 14))\n",
        "for i, ax in enumerate(axis.flat):\n",
        "    ax.imshow(X_test__[i], cmap='binary')\n",
        "    ax.set(title = f\"Real Number is {y_test[i].argmax()}\\nPredict Number is {y_pred[i].argmax()}\");"
      ]
    }
  ],
  "metadata": {
    "kernelspec": {
      "display_name": "Python 3",
      "language": "python",
      "name": "python3"
    },
    "language_info": {
      "codemirror_mode": {
        "name": "ipython",
        "version": 3
      },
      "file_extension": ".py",
      "mimetype": "text/x-python",
      "name": "python",
      "nbconvert_exporter": "python",
      "pygments_lexer": "ipython3",
      "version": "3.6.6"
    },
    "colab": {
      "name": "mnist team2.ipynb",
      "provenance": [],
      "include_colab_link": true
    },
    "accelerator": "GPU"
  },
  "nbformat": 4,
  "nbformat_minor": 0
}