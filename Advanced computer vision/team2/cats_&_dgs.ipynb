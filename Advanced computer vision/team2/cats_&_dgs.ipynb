{
  "nbformat": 4,
  "nbformat_minor": 0,
  "metadata": {
    "accelerator": "GPU",
    "colab": {
      "name": "cats & dgs.ipynb",
      "provenance": [],
      "collapsed_sections": []
    },
    "kernelspec": {
      "display_name": "Python 3",
      "name": "python3"
    },
    "language_info": {
      "name": "python"
    }
  },
  "cells": [
    {
      "cell_type": "markdown",
      "metadata": {
        "id": "IXp1B-cne6yX"
      },
      "source": [
        "# New Section"
      ]
    },
    {
      "cell_type": "code",
      "metadata": {
        "colab": {
          "base_uri": "https://localhost:8080/"
        },
        "id": "4UJumq7gfIIm",
        "outputId": "4e60e770-730c-4929-c83c-c7c2c1d8894f"
      },
      "source": [
        "pip install kaggle"
      ],
      "execution_count": 3,
      "outputs": [
        {
          "output_type": "stream",
          "name": "stdout",
          "text": [
            "Requirement already satisfied: kaggle in /usr/local/lib/python3.7/dist-packages (1.5.12)\n",
            "Requirement already satisfied: urllib3 in /usr/local/lib/python3.7/dist-packages (from kaggle) (1.24.3)\n",
            "Requirement already satisfied: requests in /usr/local/lib/python3.7/dist-packages (from kaggle) (2.23.0)\n",
            "Requirement already satisfied: six>=1.10 in /usr/local/lib/python3.7/dist-packages (from kaggle) (1.15.0)\n",
            "Requirement already satisfied: certifi in /usr/local/lib/python3.7/dist-packages (from kaggle) (2021.10.8)\n",
            "Requirement already satisfied: tqdm in /usr/local/lib/python3.7/dist-packages (from kaggle) (4.62.3)\n",
            "Requirement already satisfied: python-dateutil in /usr/local/lib/python3.7/dist-packages (from kaggle) (2.8.2)\n",
            "Requirement already satisfied: python-slugify in /usr/local/lib/python3.7/dist-packages (from kaggle) (5.0.2)\n",
            "Requirement already satisfied: text-unidecode>=1.3 in /usr/local/lib/python3.7/dist-packages (from python-slugify->kaggle) (1.3)\n",
            "Requirement already satisfied: chardet<4,>=3.0.2 in /usr/local/lib/python3.7/dist-packages (from requests->kaggle) (3.0.4)\n",
            "Requirement already satisfied: idna<3,>=2.5 in /usr/local/lib/python3.7/dist-packages (from requests->kaggle) (2.10)\n"
          ]
        }
      ]
    },
    {
      "cell_type": "code",
      "metadata": {
        "id": "kSd7EGV3fLcM"
      },
      "source": [
        "mkdir ~/.kaggle"
      ],
      "execution_count": null,
      "outputs": []
    },
    {
      "cell_type": "code",
      "metadata": {
        "id": "28JZwKFUfR3-"
      },
      "source": [
        "cp kaggle.json ~/.kaggle/"
      ],
      "execution_count": null,
      "outputs": []
    },
    {
      "cell_type": "code",
      "metadata": {
        "id": "RDEMCTPhfTJ4"
      },
      "source": [
        "!chmod 600 ~/.kaggle/kaggle.json"
      ],
      "execution_count": null,
      "outputs": []
    },
    {
      "cell_type": "code",
      "metadata": {
        "colab": {
          "base_uri": "https://localhost:8080/"
        },
        "id": "Rryx_M3BfbF5",
        "outputId": "aa1ccc28-911b-4b09-8ada-02262c476433"
      },
      "source": [
        "! kaggle competitions download dogs-vs-cats"
      ],
      "execution_count": null,
      "outputs": [
        {
          "output_type": "stream",
          "name": "stdout",
          "text": [
            "Warning: Looks like you're using an outdated API Version, please consider updating (server 1.5.12 / client 1.5.4)\n",
            "Downloading test1.zip to /content\n",
            " 99% 269M/271M [00:01<00:00, 163MB/s]\n",
            "100% 271M/271M [00:01<00:00, 154MB/s]\n",
            "Downloading train.zip to /content\n",
            " 98% 532M/543M [00:03<00:00, 164MB/s]\n",
            "100% 543M/543M [00:03<00:00, 155MB/s]\n",
            "Downloading sampleSubmission.csv to /content\n",
            "  0% 0.00/86.8k [00:00<?, ?B/s]\n",
            "100% 86.8k/86.8k [00:00<00:00, 89.1MB/s]\n"
          ]
        }
      ]
    },
    {
      "cell_type": "code",
      "metadata": {
        "id": "BETNfnfKgV9k"
      },
      "source": [
        ""
      ],
      "execution_count": null,
      "outputs": []
    },
    {
      "cell_type": "code",
      "metadata": {
        "id": "l-tGKV3zfqyG"
      },
      "source": [
        "import numpy as np\n",
        "import pandas as pd\n",
        "import matplotlib.pyplot as plt\n",
        "import tensorflow as tf\n",
        "import os \n",
        "import zipfile\n",
        "from tqdm import tqdm\n",
        "from glob import glob\n",
        "from shutil import copy, move"
      ],
      "execution_count": null,
      "outputs": []
    },
    {
      "cell_type": "code",
      "metadata": {
        "id": "Mjrtr_ubf4xJ"
      },
      "source": [
        "zipfile_dir = '/content/train.zip' \n",
        "train_dir = zipfile.ZipFile(zipfile_dir, 'r')\n",
        "train_dir.extractall()\n",
        "\n",
        "zipfile_dir = '/content/test1.zip'\n",
        "test_dir = zipfile.ZipFile(zipfile_dir, 'r')\n",
        "test_dir.extractall()"
      ],
      "execution_count": null,
      "outputs": []
    },
    {
      "cell_type": "code",
      "metadata": {
        "id": "YPR8r-sAkfP4"
      },
      "source": [
        "zipfileDir='/content/train.zip'\n",
        "trainDir= zipfile.ZipFile(zipfileDir,'r')\n",
        "trainDir.extractall()\n",
        "\n",
        "\n",
        "zipfileDir='/content/test1.zip'\n",
        "testDir= zipfile.ZipFile(zipfileDir)\n",
        "testDir.extractall()\n",
        "\n"
      ],
      "execution_count": null,
      "outputs": []
    },
    {
      "cell_type": "code",
      "metadata": {
        "colab": {
          "base_uri": "https://localhost:8080/"
        },
        "id": "Nmzn3dqbguco",
        "outputId": "0f465201-1de2-4374-f874-afd6e1873bac"
      },
      "source": [
        "TrainDir= '/content/train'\n",
        "TestDir = '/content/test1'\n",
        "\n",
        "train_set = os.listdir(TrainDir)\n",
        "test_set = os.listdir(TestDir)\n",
        "\n",
        "print('Number of train images: %s'%len(train_set))\n",
        "print('Number of test images: %s'%len(test_set))\n",
        "print(train_set[:10])\n",
        "print(test_set[:10])"
      ],
      "execution_count": null,
      "outputs": [
        {
          "output_type": "stream",
          "name": "stdout",
          "text": [
            "Number of train images: 25000\n",
            "Number of test images: 12500\n",
            "['dog.3938.jpg', 'dog.9303.jpg', 'dog.7764.jpg', 'dog.8367.jpg', 'dog.603.jpg', 'cat.129.jpg', 'dog.12068.jpg', 'cat.4523.jpg', 'cat.7741.jpg', 'cat.11423.jpg']\n",
            "['2226.jpg', '9149.jpg', '6087.jpg', '270.jpg', '7802.jpg', '11616.jpg', '1189.jpg', '6802.jpg', '1072.jpg', '11734.jpg']\n"
          ]
        }
      ]
    },
    {
      "cell_type": "code",
      "metadata": {
        "id": "F5iDLyGSF5cf"
      },
      "source": [
        "dog_train_dir = './training/dog'\n",
        "dog_val_dir = './validation/dog'\n",
        "cat_train_dir = './training/cat'\n",
        "cat_val_dir = './validation/cat'\n",
        "\n",
        "file_dirs = [dog_train_dir, dog_val_dir, cat_train_dir, cat_val_dir]\n",
        "\n",
        "for dir in file_dirs:\n",
        "    os.makedirs(dir,exist_ok = True)"
      ],
      "execution_count": null,
      "outputs": []
    },
    {
      "cell_type": "code",
      "metadata": {
        "colab": {
          "base_uri": "https://localhost:8080/"
        },
        "id": "Luy35bIyGrZZ",
        "outputId": "c326f07b-ab18-439f-d8e1-044714ca31b2"
      },
      "source": [
        "all_dogs = glob('./train/dog*jpg')\n",
        "all_cats = glob('./train/cat*jpg')\n",
        "\n",
        "print(len(all_dogs))\n",
        "print(len(all_cats))"
      ],
      "execution_count": null,
      "outputs": [
        {
          "output_type": "stream",
          "name": "stdout",
          "text": [
            "12500\n",
            "12500\n"
          ]
        }
      ]
    },
    {
      "cell_type": "code",
      "metadata": {
        "id": "GLIBdDXlhlE1"
      },
      "source": [
        "from sklearn.model_selection import train_test_split\n",
        "\n",
        "dogs_train, dogs_test = train_test_split(all_dogs, test_size=0.1, shuffle=True,random_state = 100)\n",
        "cats_train, cats_test = train_test_split(all_cats, test_size=0.1, shuffle=True,random_state = 100)"
      ],
      "execution_count": null,
      "outputs": []
    },
    {
      "cell_type": "code",
      "metadata": {
        "colab": {
          "base_uri": "https://localhost:8080/"
        },
        "id": "r7IKi4kdFfOX",
        "outputId": "1649c054-ea55-4833-e296-b3218d0ec815"
      },
      "source": [
        "for name in tqdm(dogs_train):\n",
        "  copy(name , os.path.join(dog_train_dir , name.split('/')[-1]))\n",
        "for name in tqdm(cats_train):\n",
        "  copy(name , os.path.join(cat_train_dir , name.split('/')[-1]))\n",
        "  \n",
        "for name in tqdm(dogs_test):\n",
        "  copy(name , os.path.join(dog_val_dir , name.split('/')[-1]))\n",
        "for name in tqdm(cats_test):\n",
        "  copy(name , os.path.join(cat_val_dir , name.split('/')[-1]))"
      ],
      "execution_count": null,
      "outputs": [
        {
          "output_type": "stream",
          "name": "stderr",
          "text": [
            "100%|██████████| 11250/11250 [00:02<00:00, 5050.60it/s]\n",
            "100%|██████████| 11250/11250 [00:02<00:00, 5026.26it/s]\n",
            "100%|██████████| 1250/1250 [00:00<00:00, 4762.29it/s]\n",
            "100%|██████████| 1250/1250 [00:00<00:00, 5633.97it/s]\n"
          ]
        }
      ]
    },
    {
      "cell_type": "code",
      "metadata": {
        "colab": {
          "base_uri": "https://localhost:8080/"
        },
        "id": "AvHnqT_3GqPE",
        "outputId": "3a898dc6-2a19-4338-e59a-b08f6f31d403"
      },
      "source": [
        "from tensorflow.keras.preprocessing.image import ImageDataGenerator\n",
        "\n",
        "TRAINING_DIR = './training'\n",
        "train_datagen = ImageDataGenerator(rescale=1 / 255)\n",
        "train_generator = train_datagen.flow_from_directory(\n",
        "    TRAINING_DIR,\n",
        "    batch_size=64,\n",
        "    class_mode='binary',\n",
        "    target_size=(150, 150)\n",
        ")\n",
        "\n",
        "VALIDATION_DIR = './validation'\n",
        "validation_datagen = ImageDataGenerator(rescale=1/255)\n",
        "validation_generator = validation_datagen.flow_from_directory(\n",
        "    VALIDATION_DIR,\n",
        "    batch_size = 64,\n",
        "    class_mode = 'binary',\n",
        "    target_size = (150, 150)\n",
        ")"
      ],
      "execution_count": null,
      "outputs": [
        {
          "output_type": "stream",
          "name": "stdout",
          "text": [
            "Found 22500 images belonging to 2 classes.\n",
            "Found 2500 images belonging to 2 classes.\n"
          ]
        }
      ]
    },
    {
      "cell_type": "code",
      "metadata": {
        "colab": {
          "base_uri": "https://localhost:8080/"
        },
        "id": "RPkP2r749Tk0",
        "outputId": "37c487f2-e404-48a3-d4ec-17bd69465df9"
      },
      "source": [
        "print(len(os.listdir(dog_train_dir)))\n",
        "print(len(os.listdir(cat_train_dir)))\n",
        "print(len(os.listdir(dog_val_dir)))\n",
        "print(len(os.listdir(cat_val_dir)))"
      ],
      "execution_count": null,
      "outputs": [
        {
          "output_type": "stream",
          "name": "stdout",
          "text": [
            "11250\n",
            "11250\n",
            "1250\n",
            "1250\n"
          ]
        }
      ]
    },
    {
      "cell_type": "code",
      "metadata": {
        "id": "qKSVU_bdeLJd"
      },
      "source": [
        "from tensorflow.keras.models import Sequential\n",
        "from tensorflow.keras.layers import Conv2D, Dense, MaxPool2D, Flatten, Dropout\n",
        "\n",
        "'''\n",
        "SRC : https://www.pyimagesearch.com/2018/12/31/keras-conv2d-and-convolutional-layers/\n",
        "----------------------------------\n",
        "STRIDES = The stridesparameter is a 2-tuple of integers, specifying the “step” of the \n",
        "convolution along the x and y axis of the input volume.\n",
        "PADDING = Typically, we set the values of the extra pixels to zero 'valid' or 'same'\n",
        "KERNEL_INITIALIZER = The kernel_initializercontrols the initialization method used to initialize\n",
        "all values in the Conv2D class prior to actually training the network.\n",
        "\n",
        "FLATTEN = Return a copy of the array collapsed into one dimension.\n",
        "DROPOUT = dropout refers to ignoring units (i.e. neurons) during the training \n",
        "phase of certain set of neurons which is chosen at random. When created, the dropout rate can be specified to the \n",
        "layer as the probability of setting each input to the layer to zero. TO PREVENT OVER-FITTING.!\n",
        "\n",
        "DENSE = A Dense layer feeds all outputs from the previous layer\n",
        "to all its neurons, each neuron providing one output to the next layer. \n",
        "----------------------------------\n",
        "'''\n",
        "\n",
        "\n",
        "\n",
        "\n",
        "model = Sequential()\n",
        "model.add(Conv2D(64, (3,3), strides=(1,1), padding='same', activation='relu',kernel_initializer='he_normal',input_shape=(150, 150, 3)))\n",
        "model.add(Conv2D(64, (3,3), strides=(1,1), padding='same', activation='relu',kernel_initializer='he_normal'))\n",
        "model.add(MaxPool2D((2,2)))\n",
        "model.add(Dropout(0.4))\n",
        "\n",
        "model.add(Conv2D(128, (3,3), strides=(1,1), padding='same', activation='relu',kernel_initializer='he_normal'))\n",
        "model.add(Conv2D(128, (3,3), strides=(1,1), padding='same', activation='relu',kernel_initializer='he_normal'))\n",
        "model.add(Conv2D(128, (3,3), strides=(1,1), padding='same', activation='relu',kernel_initializer='he_normal'))\n",
        "model.add(MaxPool2D((2,2)))\n",
        "model.add(Dropout(0.4))\n",
        "\n",
        "model.add(Conv2D(256, (3,3), strides=(1,1), padding='same', activation='relu',kernel_initializer='he_normal'))\n",
        "model.add(Dropout(0.4))\n",
        "model.add(Conv2D(256, (3,3), strides=(1,1), padding='same', activation='relu',kernel_initializer='he_normal'))\n",
        "model.add(Dropout(0.4))\n",
        "model.add(Conv2D(256, (3,3), strides=(1,1), padding='same', activation='relu',kernel_initializer='he_normal'))\n",
        "model.add(MaxPool2D((2,2)))\n",
        "model.add(Dropout(0.4))\n",
        "\n",
        "model.add(Conv2D(512, (3,3), strides=(1,1), padding='same', activation='relu',kernel_initializer='he_normal'))\n",
        "model.add(Dropout(0.4))\n",
        "model.add(Conv2D(512, (3,3), strides=(1,1), padding='same', activation='relu',kernel_initializer='he_normal'))\n",
        "model.add(Dropout(0.4))\n",
        "model.add(Conv2D(512, (3,3), strides=(1,1), padding='same', activation='relu',kernel_initializer='he_normal'))\n",
        "model.add(MaxPool2D((2,2)))\n",
        "model.add(Dropout(0.4))\n",
        "\n",
        "model.add(Flatten())\n",
        "model.add(Dense(units=1024, activation='relu'))\n",
        "model.add(Dropout(0.4))\n",
        "model.add(Dense(units=1024, activation='relu'))\n",
        "model.add(Dropout(0.4))\n",
        "model.add(Dense(units=1024, activation='relu'))\n",
        "model.add(Dropout(0.4))\n",
        "model.add(Dense(units=1, activation='sigmoid'))"
      ],
      "execution_count": null,
      "outputs": []
    },
    {
      "cell_type": "code",
      "metadata": {
        "colab": {
          "base_uri": "https://localhost:8080/"
        },
        "id": "BWjd_Lt57cuG",
        "outputId": "7aa34fc2-5362-42f9-ee7e-e5c04c2b2a33"
      },
      "source": [
        "model.summary()"
      ],
      "execution_count": null,
      "outputs": [
        {
          "output_type": "stream",
          "name": "stdout",
          "text": [
            "Model: \"sequential\"\n",
            "_________________________________________________________________\n",
            " Layer (type)                Output Shape              Param #   \n",
            "=================================================================\n",
            " conv2d (Conv2D)             (None, 150, 150, 64)      1792      \n",
            "                                                                 \n",
            " conv2d_1 (Conv2D)           (None, 150, 150, 64)      36928     \n",
            "                                                                 \n",
            " max_pooling2d (MaxPooling2D  (None, 75, 75, 64)       0         \n",
            " )                                                               \n",
            "                                                                 \n",
            " dropout (Dropout)           (None, 75, 75, 64)        0         \n",
            "                                                                 \n",
            " conv2d_2 (Conv2D)           (None, 75, 75, 128)       73856     \n",
            "                                                                 \n",
            " conv2d_3 (Conv2D)           (None, 75, 75, 128)       147584    \n",
            "                                                                 \n",
            " conv2d_4 (Conv2D)           (None, 75, 75, 128)       147584    \n",
            "                                                                 \n",
            " max_pooling2d_1 (MaxPooling  (None, 37, 37, 128)      0         \n",
            " 2D)                                                             \n",
            "                                                                 \n",
            " dropout_1 (Dropout)         (None, 37, 37, 128)       0         \n",
            "                                                                 \n",
            " conv2d_5 (Conv2D)           (None, 37, 37, 256)       295168    \n",
            "                                                                 \n",
            " dropout_2 (Dropout)         (None, 37, 37, 256)       0         \n",
            "                                                                 \n",
            " conv2d_6 (Conv2D)           (None, 37, 37, 256)       590080    \n",
            "                                                                 \n",
            " dropout_3 (Dropout)         (None, 37, 37, 256)       0         \n",
            "                                                                 \n",
            " conv2d_7 (Conv2D)           (None, 37, 37, 256)       590080    \n",
            "                                                                 \n",
            " max_pooling2d_2 (MaxPooling  (None, 18, 18, 256)      0         \n",
            " 2D)                                                             \n",
            "                                                                 \n",
            " dropout_4 (Dropout)         (None, 18, 18, 256)       0         \n",
            "                                                                 \n",
            " conv2d_8 (Conv2D)           (None, 18, 18, 512)       1180160   \n",
            "                                                                 \n",
            " dropout_5 (Dropout)         (None, 18, 18, 512)       0         \n",
            "                                                                 \n",
            " conv2d_9 (Conv2D)           (None, 18, 18, 512)       2359808   \n",
            "                                                                 \n",
            " dropout_6 (Dropout)         (None, 18, 18, 512)       0         \n",
            "                                                                 \n",
            " conv2d_10 (Conv2D)          (None, 18, 18, 512)       2359808   \n",
            "                                                                 \n",
            " max_pooling2d_3 (MaxPooling  (None, 9, 9, 512)        0         \n",
            " 2D)                                                             \n",
            "                                                                 \n",
            " dropout_7 (Dropout)         (None, 9, 9, 512)         0         \n",
            "                                                                 \n",
            " flatten (Flatten)           (None, 41472)             0         \n",
            "                                                                 \n",
            " dense (Dense)               (None, 1024)              42468352  \n",
            "                                                                 \n",
            " dropout_8 (Dropout)         (None, 1024)              0         \n",
            "                                                                 \n",
            " dense_1 (Dense)             (None, 1024)              1049600   \n",
            "                                                                 \n",
            " dropout_9 (Dropout)         (None, 1024)              0         \n",
            "                                                                 \n",
            " dense_2 (Dense)             (None, 1024)              1049600   \n",
            "                                                                 \n",
            " dropout_10 (Dropout)        (None, 1024)              0         \n",
            "                                                                 \n",
            " dense_3 (Dense)             (None, 1)                 1025      \n",
            "                                                                 \n",
            "=================================================================\n",
            "Total params: 52,351,425\n",
            "Trainable params: 52,351,425\n",
            "Non-trainable params: 0\n",
            "_________________________________________________________________\n"
          ]
        }
      ]
    },
    {
      "cell_type": "code",
      "metadata": {
        "id": "FP8sfWpd9yux"
      },
      "source": [
        "check_point_path = './best.h5'\n",
        "model_checkpoint = tf.keras.callbacks.ModelCheckpoint(\n",
        "    filepath = check_point_path,\n",
        "    monitor = 'val_accuracy',\n",
        "    save_weights_only=False,\n",
        "    save_best_only=True,\n",
        "    verbose=1\n",
        ")"
      ],
      "execution_count": null,
      "outputs": []
    },
    {
      "cell_type": "code",
      "metadata": {
        "id": "mUm4rvl090OL"
      },
      "source": [
        "model.compile(optimizer = tf.keras.optimizers.Adam(0.0005,decay=1e-5),\n",
        "             loss = 'binary_crossentropy',\n",
        "             metrics = ['acc'])\n",
        "\n",
        "tb_callback = tf.keras.callbacks.TensorBoard(log_dir=\"logs/\", histogram_freq=1)"
      ],
      "execution_count": null,
      "outputs": []
    },
    {
      "cell_type": "code",
      "metadata": {
        "colab": {
          "base_uri": "https://localhost:8080/",
          "height": 235
        },
        "id": "IYzIReyF-F8V",
        "outputId": "230e3e18-e241-4522-bdd3-cd3f38da2a7e"
      },
      "source": [
        "print('Num Params : ',model.count_params())\n",
        "\n",
        "\n",
        "'''\n",
        "VERBOSE = By setting verbose 0, 1 or 2 you just say how do you want to 'see' the training progress for each epoch.\n",
        "'''\n",
        "model_history = model.fit(\n",
        "    train_generator,\n",
        "    epochs=5,\n",
        "    batch_size=128,\n",
        "    verbose=1,\n",
        "    callbacks = [tb_callback],\n",
        "    validation_data=validation_generator\n",
        ")"
      ],
      "execution_count": 5,
      "outputs": [
        {
          "output_type": "error",
          "ename": "NameError",
          "evalue": "ignored",
          "traceback": [
            "\u001b[0;31m---------------------------------------------------------------------------\u001b[0m",
            "\u001b[0;31mNameError\u001b[0m                                 Traceback (most recent call last)",
            "\u001b[0;32m<ipython-input-5-f5557c4f3de9>\u001b[0m in \u001b[0;36m<module>\u001b[0;34m()\u001b[0m\n\u001b[0;32m----> 1\u001b[0;31m \u001b[0mprint\u001b[0m\u001b[0;34m(\u001b[0m\u001b[0;34m'Num Params : '\u001b[0m\u001b[0;34m,\u001b[0m\u001b[0mmodel\u001b[0m\u001b[0;34m.\u001b[0m\u001b[0mcount_params\u001b[0m\u001b[0;34m(\u001b[0m\u001b[0;34m)\u001b[0m\u001b[0;34m)\u001b[0m\u001b[0;34m\u001b[0m\u001b[0;34m\u001b[0m\u001b[0m\n\u001b[0m\u001b[1;32m      2\u001b[0m \u001b[0;34m\u001b[0m\u001b[0m\n\u001b[1;32m      3\u001b[0m \u001b[0;34m\u001b[0m\u001b[0m\n\u001b[1;32m      4\u001b[0m '''\n\u001b[1;32m      5\u001b[0m \u001b[0mVERBOSE\u001b[0m \u001b[0;34m=\u001b[0m \u001b[0mBy\u001b[0m \u001b[0msetting\u001b[0m \u001b[0mverbose\u001b[0m \u001b[0;36m0\u001b[0m\u001b[0;34m,\u001b[0m \u001b[0;36m1\u001b[0m \u001b[0;32mor\u001b[0m \u001b[0;36m2\u001b[0m \u001b[0myou\u001b[0m \u001b[0mjust\u001b[0m \u001b[0msay\u001b[0m \u001b[0mhow\u001b[0m \u001b[0mdo\u001b[0m \u001b[0myou\u001b[0m \u001b[0mwant\u001b[0m \u001b[0mto\u001b[0m \u001b[0;34m'see'\u001b[0m \u001b[0mthe\u001b[0m \u001b[0mtraining\u001b[0m \u001b[0mprogress\u001b[0m \u001b[0;32mfor\u001b[0m \u001b[0meach\u001b[0m \u001b[0mepoch\u001b[0m\u001b[0;34m.\u001b[0m\u001b[0;34m\u001b[0m\u001b[0;34m\u001b[0m\u001b[0m\n",
            "\u001b[0;31mNameError\u001b[0m: name 'model' is not defined"
          ]
        }
      ]
    },
    {
      "cell_type": "code",
      "metadata": {
        "id": "4MGeMqeb-esS"
      },
      "source": [
        "%reload_ext tensorboard\n",
        "%tensorboard --logdir logs/fit"
      ],
      "execution_count": null,
      "outputs": []
    },
    {
      "cell_type": "code",
      "metadata": {
        "colab": {
          "base_uri": "https://localhost:8080/",
          "height": 228
        },
        "id": "Yd9e35ZgAfyj",
        "outputId": "edd98dc9-6ea9-4723-dd4e-12ee7cdc163d"
      },
      "source": [
        "%matplotlib inline\n",
        "\n",
        "import matplotlib.image  as mpimg\n",
        "import matplotlib.pyplot as plt\n",
        "\n",
        "#-----------------------------------------------------------\n",
        "# Retrieve a list of list results on training and test data\n",
        "# sets for each training epoch\n",
        "#-----------------------------------------------------------\n",
        "acc=model_history.history['acc']\n",
        "val_acc=model_history.history['val_acc']\n",
        "loss=model_history.history['loss']\n",
        "val_loss=model_history.history['val_loss']\n",
        "\n",
        "epochs=range(len(acc)) # Get number of epochs\n",
        "\n",
        "#------------------------------------------------\n",
        "# Plot training and validation accuracy per epoch\n",
        "#------------------------------------------------\n",
        "plt.plot(epochs, acc, 'r')\n",
        "plt.plot(epochs, val_acc, 'b')\n",
        "plt.title('Training and validation accuracy')\n",
        "plt.xlabel('epochs')\n",
        "plt.ylabel('accuracy')\n",
        "plt.legend([\"Training Accuracy\",\"Validation Accuracy\"])\n",
        "plt.show()\n",
        "\n",
        "#------------------------------------------------\n",
        "# Plot training and validation loss per epoch\n",
        "#------------------------------------------------\n",
        "plt.plot(epochs, loss, 'r')\n",
        "plt.plot(epochs, val_loss, 'b')\n",
        "plt.title('Training and validation loss')\n",
        "plt.title('Training and validation loss')\n",
        "plt.xlabel('epochs')\n",
        "plt.ylabel('loss')\n",
        "plt.legend([\"Training Loss\",\"Validation Loss\"])\n",
        "plt.show()\n",
        "\n",
        "# Desired output. Charts with training and validation metrics. \n"
      ],
      "execution_count": null,
      "outputs": [
        {
          "ename": "NameError",
          "evalue": "ignored",
          "output_type": "error",
          "traceback": [
            "\u001b[0;31m---------------------------------------------------------------------------\u001b[0m",
            "\u001b[0;31mNameError\u001b[0m                                 Traceback (most recent call last)",
            "\u001b[0;32m<ipython-input-1-d6d2b0276760>\u001b[0m in \u001b[0;36m<module>\u001b[0;34m()\u001b[0m\n\u001b[1;32m      8\u001b[0m \u001b[0;31m# sets for each training epoch\u001b[0m\u001b[0;34m\u001b[0m\u001b[0;34m\u001b[0m\u001b[0;34m\u001b[0m\u001b[0m\n\u001b[1;32m      9\u001b[0m \u001b[0;31m#-----------------------------------------------------------\u001b[0m\u001b[0;34m\u001b[0m\u001b[0;34m\u001b[0m\u001b[0;34m\u001b[0m\u001b[0m\n\u001b[0;32m---> 10\u001b[0;31m \u001b[0macc\u001b[0m\u001b[0;34m=\u001b[0m\u001b[0mmodel_history\u001b[0m\u001b[0;34m.\u001b[0m\u001b[0mhistory\u001b[0m\u001b[0;34m[\u001b[0m\u001b[0;34m'acc'\u001b[0m\u001b[0;34m]\u001b[0m\u001b[0;34m\u001b[0m\u001b[0;34m\u001b[0m\u001b[0m\n\u001b[0m\u001b[1;32m     11\u001b[0m \u001b[0mval_acc\u001b[0m\u001b[0;34m=\u001b[0m\u001b[0mmodel_history\u001b[0m\u001b[0;34m.\u001b[0m\u001b[0mhistory\u001b[0m\u001b[0;34m[\u001b[0m\u001b[0;34m'val_acc'\u001b[0m\u001b[0;34m]\u001b[0m\u001b[0;34m\u001b[0m\u001b[0;34m\u001b[0m\u001b[0m\n\u001b[1;32m     12\u001b[0m \u001b[0mloss\u001b[0m\u001b[0;34m=\u001b[0m\u001b[0mmodel_history\u001b[0m\u001b[0;34m.\u001b[0m\u001b[0mhistory\u001b[0m\u001b[0;34m[\u001b[0m\u001b[0;34m'loss'\u001b[0m\u001b[0;34m]\u001b[0m\u001b[0;34m\u001b[0m\u001b[0;34m\u001b[0m\u001b[0m\n",
            "\u001b[0;31mNameError\u001b[0m: name 'model_history' is not defined"
          ]
        }
      ]
    },
    {
      "cell_type": "code",
      "metadata": {
        "id": "WkeMCAyiAiff"
      },
      "source": [
        "test_file = os.listdir(\"./test1\")\n",
        "test_df = pd.DataFrame({\n",
        "    'filename': test_file\n",
        "})\n",
        "test_df"
      ],
      "execution_count": null,
      "outputs": []
    },
    {
      "cell_type": "code",
      "metadata": {
        "id": "iLoCMUEEAlRH"
      },
      "source": [
        "TESTING_DIR = './test1'\n",
        "test_generator = train_datagen.flow_from_dataframe(\n",
        "    test_df,\n",
        "    directory = TESTING_DIR,\n",
        "    x_col='filename',\n",
        "    y_col=None,\n",
        "    batch_size=64,\n",
        "    target_size=(150, 150),\n",
        "    shuffle = False,\n",
        "    class_mode = None\n",
        ")"
      ],
      "execution_count": null,
      "outputs": []
    },
    {
      "cell_type": "code",
      "metadata": {
        "id": "xM34E-rWAowk"
      },
      "source": [
        "test_generator.reset()\n",
        "y_pred = model.predict(test_generator)"
      ],
      "execution_count": null,
      "outputs": []
    },
    {
      "cell_type": "code",
      "metadata": {
        "id": "kToMoOhRArNr"
      },
      "source": [
        "train_generator.class_indices"
      ],
      "execution_count": null,
      "outputs": []
    },
    {
      "cell_type": "code",
      "metadata": {
        "id": "J2nz-s9ZAtZ0"
      },
      "source": [
        "y_pred_classification = np.where(y_pred > 0.5, 1, 0)\n",
        "y_pred_classification"
      ],
      "execution_count": null,
      "outputs": []
    },
    {
      "cell_type": "code",
      "metadata": {
        "id": "tZ9OIaI-AwDE"
      },
      "source": [
        "test_generator.reset()\n",
        "test_images = test_generator[0][:9]\n",
        "\n",
        "fig, ax = plt.subplots(3,3)\n",
        "fig.set_size_inches(10,10)\n",
        "for i, img in enumerate(test_images):\n",
        "    ax[i//3][i%3].imshow(img)\n",
        "    if y_pred_classification[i]==1:\n",
        "        label = 'Dog'\n",
        "    else:\n",
        "        label = 'Cat'\n",
        "    ax[i//3][i%3].set_title(label)"
      ],
      "execution_count": null,
      "outputs": []
    },
    {
      "cell_type": "code",
      "metadata": {
        "id": "85Crt6zyAyiM"
      },
      "source": [
        "model.layers\n"
      ],
      "execution_count": null,
      "outputs": []
    },
    {
      "cell_type": "code",
      "metadata": {
        "id": "pibky0lqA2F6"
      },
      "source": [
        "first_conv = model.layers[0]\n",
        "output_layer1 = first_conv(test_images)[4]\n",
        "\n",
        "print(output_layer1.shape)\n",
        "fig, ax = plt.subplots(3,3)\n",
        "fig.set_size_inches(10,10)\n",
        "for i in range(9):\n",
        "  ax[i//3][i%3].imshow(output_layer1[:,:,i])"
      ],
      "execution_count": null,
      "outputs": []
    },
    {
      "cell_type": "code",
      "metadata": {
        "id": "LTCV-5SzA44Z"
      },
      "source": [
        "submission = pd.read_csv('../input/dogs-vs-cats/sampleSubmission.csv')\n",
        "submission['label'] = y_pred_classification\n",
        "submission"
      ],
      "execution_count": null,
      "outputs": []
    },
    {
      "cell_type": "code",
      "metadata": {
        "id": "ZvHaT892A7Fl"
      },
      "source": [
        "submission.to_csv('submission.csv',index='False')\n"
      ],
      "execution_count": null,
      "outputs": []
    }
  ]
}