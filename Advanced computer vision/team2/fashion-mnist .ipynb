{
 "cells": [
  {
   "cell_type": "code",
   "execution_count": 1,
   "id": "40176e97",
   "metadata": {
    "_cell_guid": "b1076dfc-b9ad-4769-8c92-a6c4dae69d19",
    "_uuid": "8f2839f25d086af736a60e9eeb907d3b93b6e0e5",
    "execution": {
     "iopub.execute_input": "2022-01-08T00:03:15.780405Z",
     "iopub.status.busy": "2022-01-08T00:03:15.779747Z",
     "iopub.status.idle": "2022-01-08T00:03:22.801113Z",
     "shell.execute_reply": "2022-01-08T00:03:22.800026Z",
     "shell.execute_reply.started": "2022-01-08T00:01:51.450594Z"
    },
    "papermill": {
     "duration": 7.050973,
     "end_time": "2022-01-08T00:03:22.801287",
     "exception": false,
     "start_time": "2022-01-08T00:03:15.750314",
     "status": "completed"
    },
    "tags": []
   },
   "outputs": [],
   "source": [
    "# basis\n",
    "import numpy as np \n",
    "import pandas as pd \n",
    "import warnings\n",
    "warnings.filterwarnings('ignore')\n",
    "\n",
    "# display\n",
    "import matplotlib\n",
    "import matplotlib.pyplot as plt\n",
    "import seaborn as sns\n",
    "\n",
    "# data split \n",
    "from sklearn.model_selection import train_test_split\n",
    "\n",
    "# engine\n",
    "import keras\n",
    "from keras.models import Sequential \n",
    "from keras.layers import Flatten,Dense"
   ]
  },
  {
   "cell_type": "markdown",
   "id": "f9d251de",
   "metadata": {
    "papermill": {
     "duration": 0.016903,
     "end_time": "2022-01-08T00:03:22.836344",
     "exception": false,
     "start_time": "2022-01-08T00:03:22.819441",
     "status": "completed"
    },
    "tags": []
   },
   "source": [
    "# global variables"
   ]
  },
  {
   "cell_type": "code",
   "execution_count": 2,
   "id": "afcc3396",
   "metadata": {
    "execution": {
     "iopub.execute_input": "2022-01-08T00:03:22.875442Z",
     "iopub.status.busy": "2022-01-08T00:03:22.874430Z",
     "iopub.status.idle": "2022-01-08T00:03:22.881109Z",
     "shell.execute_reply": "2022-01-08T00:03:22.880536Z",
     "shell.execute_reply.started": "2022-01-07T23:58:35.538017Z"
    },
    "papermill": {
     "duration": 0.027559,
     "end_time": "2022-01-08T00:03:22.881254",
     "exception": false,
     "start_time": "2022-01-08T00:03:22.853695",
     "status": "completed"
    },
    "tags": []
   },
   "outputs": [],
   "source": [
    "SEED = 2021\n",
    "\n",
    "TRAIN_PATH =\"../input/fashionmnist/fashion-mnist_train.csv\"\n",
    "TEST_PATH = \"../input/fashionmnist/fashion-mnist_test.csv\"\n",
    "\n",
    "TARGET = \"label\"\n",
    "SCALE_SIZE = 255\n",
    "\n",
    "TEST_SIZE = 0.25\n",
    "\n",
    "class_labels= ['T-shirt/top','Trouser','Pullover','Dress','Coat',\n",
    "               'Sandal','Shirt','Sneakers','Bag','Ankle boot']"
   ]
  },
  {
   "cell_type": "markdown",
   "id": "3b9b670e",
   "metadata": {
    "papermill": {
     "duration": 0.016901,
     "end_time": "2022-01-08T00:03:22.916427",
     "exception": false,
     "start_time": "2022-01-08T00:03:22.899526",
     "status": "completed"
    },
    "tags": []
   },
   "source": [
    "# load data"
   ]
  },
  {
   "cell_type": "code",
   "execution_count": 3,
   "id": "f0786221",
   "metadata": {
    "execution": {
     "iopub.execute_input": "2022-01-08T00:03:22.956203Z",
     "iopub.status.busy": "2022-01-08T00:03:22.955417Z",
     "iopub.status.idle": "2022-01-08T00:03:30.792525Z",
     "shell.execute_reply": "2022-01-08T00:03:30.793033Z",
     "shell.execute_reply.started": "2022-01-07T23:58:41.738545Z"
    },
    "papermill": {
     "duration": 7.859543,
     "end_time": "2022-01-08T00:03:30.793213",
     "exception": false,
     "start_time": "2022-01-08T00:03:22.933670",
     "status": "completed"
    },
    "tags": []
   },
   "outputs": [],
   "source": [
    "train=pd.read_csv(TRAIN_PATH)\n",
    "test=pd.read_csv(TEST_PATH)"
   ]
  },
  {
   "cell_type": "markdown",
   "id": "1519cc8e",
   "metadata": {
    "papermill": {
     "duration": 0.017041,
     "end_time": "2022-01-08T00:03:30.828244",
     "exception": false,
     "start_time": "2022-01-08T00:03:30.811203",
     "status": "completed"
    },
    "tags": []
   },
   "source": [
    "# target count check"
   ]
  },
  {
   "cell_type": "code",
   "execution_count": 4,
   "id": "51ee59b9",
   "metadata": {
    "execution": {
     "iopub.execute_input": "2022-01-08T00:03:30.865771Z",
     "iopub.status.busy": "2022-01-08T00:03:30.865088Z",
     "iopub.status.idle": "2022-01-08T00:03:31.171464Z",
     "shell.execute_reply": "2022-01-08T00:03:31.172023Z",
     "shell.execute_reply.started": "2022-01-07T23:58:53.151598Z"
    },
    "papermill": {
     "duration": 0.326559,
     "end_time": "2022-01-08T00:03:31.172218",
     "exception": false,
     "start_time": "2022-01-08T00:03:30.845659",
     "status": "completed"
    },
    "tags": []
   },
   "outputs": [
    {
     "data": {
      "text/plain": [
       "<AxesSubplot:xlabel='count', ylabel='label'>"
      ]
     },
     "execution_count": 4,
     "metadata": {},
     "output_type": "execute_result"
    },
    {
     "data": {
      "image/png": "[encoded data removed]",
      "text/plain": [
       "<Figure size 432x288 with 1 Axes>"
      ]
     },
     "metadata": {
      "needs_background": "light"
     },
     "output_type": "display_data"
    }
   ],
   "source": [
    "sns.countplot(data=train,y=TARGET)"
   ]
  },
  {
   "cell_type": "markdown",
   "id": "9160b82b",
   "metadata": {
    "papermill": {
     "duration": 0.01807,
     "end_time": "2022-01-08T00:03:31.212332",
     "exception": false,
     "start_time": "2022-01-08T00:03:31.194262",
     "status": "completed"
    },
    "tags": []
   },
   "source": [
    "# split data "
   ]
  },
  {
   "cell_type": "code",
   "execution_count": 5,
   "id": "bcfd0645",
   "metadata": {
    "execution": {
     "iopub.execute_input": "2022-01-08T00:03:31.407860Z",
     "iopub.status.busy": "2022-01-08T00:03:31.406266Z",
     "iopub.status.idle": "2022-01-08T00:03:31.815718Z",
     "shell.execute_reply": "2022-01-08T00:03:31.815054Z",
     "shell.execute_reply.started": "2022-01-07T23:59:01.702981Z"
    },
    "papermill": {
     "duration": 0.585328,
     "end_time": "2022-01-08T00:03:31.815872",
     "exception": false,
     "start_time": "2022-01-08T00:03:31.230544",
     "status": "completed"
    },
    "tags": []
   },
   "outputs": [],
   "source": [
    "# split data #1 (input data and target data )\n",
    "# train.csv => train target + train input \n",
    "y=train[TARGET] # target \n",
    "X= train.drop([TARGET],axis=1) # input\n",
    "# test.csv => test target + test input \n",
    "y_test = test[TARGET] # this target is correct answer\n",
    "X_test = test.drop([TARGET],axis=1) #input \n",
    "\n",
    "# split data #2 (train set and validation set)\n",
    "X_train,X_val,y_train,y_val = train_test_split(X,y,test_size=TEST_SIZE,random_state=SEED)"
   ]
  },
  {
   "cell_type": "markdown",
   "id": "57c7b005",
   "metadata": {
    "papermill": {
     "duration": 0.018048,
     "end_time": "2022-01-08T00:03:31.852382",
     "exception": false,
     "start_time": "2022-01-08T00:03:31.834334",
     "status": "completed"
    },
    "tags": []
   },
   "source": [
    "# define model"
   ]
  },
  {
   "cell_type": "code",
   "execution_count": 6,
   "id": "47a78878",
   "metadata": {
    "execution": {
     "iopub.execute_input": "2022-01-08T00:03:31.897557Z",
     "iopub.status.busy": "2022-01-08T00:03:31.896694Z",
     "iopub.status.idle": "2022-01-08T00:03:31.900241Z",
     "shell.execute_reply": "2022-01-08T00:03:31.899610Z",
     "shell.execute_reply.started": "2022-01-07T23:59:11.237786Z"
    },
    "papermill": {
     "duration": 0.029129,
     "end_time": "2022-01-08T00:03:31.900392",
     "exception": false,
     "start_time": "2022-01-08T00:03:31.871263",
     "status": "completed"
    },
    "tags": []
   },
   "outputs": [],
   "source": [
    "INPUT_SHAPE = (28,28)\n",
    "TARGET_COUNT = 10\n",
    "DENSE_COUNT_ARRAY = [50,20,30]\n",
    "\n",
    "MID_ACTIVATION = \"relu\"\n",
    "LAST_ACTIVATION = \"softmax\"\n",
    "\n",
    "MODEL_OPTIMIZER = \"adam\"\n",
    "MODEL_LOSS = \"sparse_categorical_crossentropy\"\n",
    "MODEL_METRICS = ['accuracy']\n",
    "\n",
    "BATCH_SIZE = 100\n",
    "EPOCHS = 30"
   ]
  },
  {
   "cell_type": "code",
   "execution_count": 7,
   "id": "fff9b80e",
   "metadata": {
    "execution": {
     "iopub.execute_input": "2022-01-08T00:03:31.944678Z",
     "iopub.status.busy": "2022-01-08T00:03:31.943962Z",
     "iopub.status.idle": "2022-01-08T00:03:32.085365Z",
     "shell.execute_reply": "2022-01-08T00:03:32.086400Z",
     "shell.execute_reply.started": "2022-01-07T23:59:24.591344Z"
    },
    "papermill": {
     "duration": 0.167841,
     "end_time": "2022-01-08T00:03:32.086608",
     "exception": false,
     "start_time": "2022-01-08T00:03:31.918767",
     "status": "completed"
    },
    "tags": []
   },
   "outputs": [
    {
     "name": "stderr",
     "output_type": "stream",
     "text": [
      "\n",
      "User settings:\n",
      "\n",
      "   KMP_AFFINITY=granularity=fine,verbose,compact,1,0\n",
      "   KMP_BLOCKTIME=0\n",
      "   KMP_DUPLICATE_LIB_OK=True\n",
      "   KMP_INIT_AT_FORK=FALSE\n",
      "   KMP_SETTINGS=1\n",
      "   KMP_WARNINGS=0\n",
      "\n",
      "Effective settings:\n",
      "\n",
      "   KMP_ABORT_DELAY=0\n",
      "   KMP_ADAPTIVE_LOCK_PROPS='1,1024'\n",
      "   KMP_ALIGN_ALLOC=64\n",
      "   KMP_ALL_THREADPRIVATE=128\n",
      "   KMP_ATOMIC_MODE=2\n",
      "   KMP_BLOCKTIME=0\n",
      "   KMP_CPUINFO_FILE: value is not defined\n",
      "   KMP_DETERMINISTIC_REDUCTION=false\n",
      "   KMP_DEVICE_THREAD_LIMIT=2147483647\n",
      "   KMP_DISP_NUM_BUFFERS=7\n",
      "   KMP_DUPLICATE_LIB_OK=true\n",
      "   KMP_ENABLE_TASK_THROTTLING=true\n",
      "   KMP_FORCE_REDUCTION: value is not defined\n",
      "   KMP_FOREIGN_THREADS_THREADPRIVATE=true\n",
      "   KMP_FORKJOIN_BARRIER='2,2'\n",
      "   KMP_FORKJOIN_BARRIER_PATTERN='hyper,hyper'\n",
      "   KMP_GTID_MODE=3\n",
      "   KMP_HANDLE_SIGNALS=false\n",
      "   KMP_HOT_TEAMS_MAX_LEVEL=1\n",
      "   KMP_HOT_TEAMS_MODE=0\n",
      "   KMP_INIT_AT_FORK=true\n",
      "   KMP_LIBRARY=throughput\n",
      "   KMP_LOCK_KIND=queuing\n",
      "   KMP_MALLOC_POOL_INCR=1M\n",
      "   KMP_NUM_LOCKS_IN_BLOCK=1\n",
      "   KMP_PLAIN_BARRIER='2,2'\n",
      "   KMP_PLAIN_BARRIER_PATTERN='hyper,hyper'\n",
      "   KMP_REDUCTION_BARRIER='1,1'\n",
      "   KMP_REDUCTION_BARRIER_PATTERN='hyper,hyper'\n",
      "   KMP_SCHEDULE='static,balanced;guided,iterative'\n",
      "   KMP_SETTINGS=true\n",
      "   KMP_SPIN_BACKOFF_PARAMS='4096,100'\n",
      "   KMP_STACKOFFSET=64\n",
      "   KMP_STACKPAD=0\n",
      "   KMP_STACKSIZE=8M\n",
      "   KMP_STORAGE_MAP=false\n",
      "   KMP_TASKING=2\n",
      "   KMP_TASKLOOP_MIN_TASKS=0\n",
      "   KMP_TASK_STEALING_CONSTRAINT=1\n",
      "   KMP_TEAMS_THREAD_LIMIT=4\n",
      "   KMP_TOPOLOGY_METHOD=all\n",
      "   KMP_USE_YIELD=1\n",
      "   KMP_VERSION=false\n",
      "   KMP_WARNINGS=false\n",
      "   OMP_AFFINITY_FORMAT='OMP: pid %P tid %i thread %n bound to OS proc set {%A}'\n",
      "   OMP_ALLOCATOR=omp_default_mem_alloc\n",
      "   OMP_CANCELLATION=false\n",
      "   OMP_DEFAULT_DEVICE=0\n",
      "   OMP_DISPLAY_AFFINITY=false\n",
      "   OMP_DISPLAY_ENV=false\n",
      "   OMP_DYNAMIC=false\n",
      "   OMP_MAX_ACTIVE_LEVELS=1\n",
      "   OMP_MAX_TASK_PRIORITY=0\n",
      "   OMP_NESTED: deprecated; max-active-levels-var=1\n",
      "   OMP_NUM_THREADS: value is not defined\n",
      "   OMP_PLACES: value is not defined\n",
      "   OMP_PROC_BIND='intel'\n",
      "   OMP_SCHEDULE='static'\n",
      "   OMP_STACKSIZE=8M\n",
      "   OMP_TARGET_OFFLOAD=DEFAULT\n",
      "   OMP_THREAD_LIMIT=2147483647\n",
      "   OMP_WAIT_POLICY=PASSIVE\n",
      "   KMP_AFFINITY='verbose,warnings,respect,granularity=fine,compact,1,0'\n",
      "\n",
      "2022-01-08 00:03:31.978471: I tensorflow/core/common_runtime/process_util.cc:146] Creating new thread pool with default inter op setting: 2. Tune using inter_op_parallelism_threads for best performance.\n"
     ]
    }
   ],
   "source": [
    "model=Sequential()\n",
    "model.add(Flatten(input_shape=INPUT_SHAPE))\n",
    "model.add(Dense(units=DENSE_COUNT_ARRAY[0],activation=MID_ACTIVATION))\n",
    "model.add(Dense(units=DENSE_COUNT_ARRAY[1],activation=MID_ACTIVATION))\n",
    "model.add(Dense(units=DENSE_COUNT_ARRAY[2],activation=MID_ACTIVATION))\n",
    "model.add(Dense(units=TARGET_COUNT,activation=LAST_ACTIVATION))\n",
    "\n",
    "model.compile(optimizer=MODEL_OPTIMIZER,loss=MODEL_LOSS,metrics=MODEL_METRICS)"
   ]
  },
  {
   "cell_type": "markdown",
   "id": "cad7578f",
   "metadata": {
    "papermill": {
     "duration": 0.018367,
     "end_time": "2022-01-08T00:03:32.124206",
     "exception": false,
     "start_time": "2022-01-08T00:03:32.105839",
     "status": "completed"
    },
    "tags": []
   },
   "source": [
    "# train model"
   ]
  },
  {
   "cell_type": "code",
   "execution_count": 8,
   "id": "f05a168b",
   "metadata": {
    "execution": {
     "iopub.execute_input": "2022-01-08T00:03:32.167800Z",
     "iopub.status.busy": "2022-01-08T00:03:32.166761Z",
     "iopub.status.idle": "2022-01-08T00:04:14.057148Z",
     "shell.execute_reply": "2022-01-08T00:04:14.057669Z",
     "shell.execute_reply.started": "2022-01-07T23:59:30.134623Z"
    },
    "papermill": {
     "duration": 41.914215,
     "end_time": "2022-01-08T00:04:14.057855",
     "exception": false,
     "start_time": "2022-01-08T00:03:32.143640",
     "status": "completed"
    },
    "tags": []
   },
   "outputs": [
    {
     "name": "stderr",
     "output_type": "stream",
     "text": [
      "2022-01-08 00:03:32.671608: I tensorflow/compiler/mlir/mlir_graph_optimization_pass.cc:185] None of the MLIR Optimization Passes are enabled (registered 2)\n"
     ]
    },
    {
     "name": "stdout",
     "output_type": "stream",
     "text": [
      "Epoch 1/30\n",
      "450/450 [==============================] - 2s 3ms/step - loss: 2.3090 - accuracy: 0.4556\n",
      "Epoch 2/30\n",
      "450/450 [==============================] - 1s 3ms/step - loss: 1.1403 - accuracy: 0.5370\n",
      "Epoch 3/30\n",
      "450/450 [==============================] - 1s 3ms/step - loss: 1.0250 - accuracy: 0.5516\n",
      "Epoch 4/30\n",
      "450/450 [==============================] - 1s 3ms/step - loss: 0.8909 - accuracy: 0.6253\n",
      "Epoch 5/30\n",
      "450/450 [==============================] - 1s 3ms/step - loss: 0.7925 - accuracy: 0.6709\n",
      "Epoch 6/30\n",
      "450/450 [==============================] - 1s 3ms/step - loss: 0.7036 - accuracy: 0.7187\n",
      "Epoch 7/30\n",
      "450/450 [==============================] - 1s 3ms/step - loss: 0.6613 - accuracy: 0.7402\n",
      "Epoch 8/30\n",
      "450/450 [==============================] - 1s 3ms/step - loss: 0.6109 - accuracy: 0.7616\n",
      "Epoch 9/30\n",
      "450/450 [==============================] - 1s 3ms/step - loss: 0.5881 - accuracy: 0.7680\n",
      "Epoch 10/30\n",
      "450/450 [==============================] - 1s 3ms/step - loss: 0.5657 - accuracy: 0.7759\n",
      "Epoch 11/30\n",
      "450/450 [==============================] - 1s 3ms/step - loss: 0.5443 - accuracy: 0.7838\n",
      "Epoch 12/30\n",
      "450/450 [==============================] - 1s 3ms/step - loss: 0.5354 - accuracy: 0.7861\n",
      "Epoch 13/30\n",
      "450/450 [==============================] - 1s 3ms/step - loss: 0.5140 - accuracy: 0.7931\n",
      "Epoch 14/30\n",
      "450/450 [==============================] - 1s 3ms/step - loss: 0.5063 - accuracy: 0.7990\n",
      "Epoch 15/30\n",
      "450/450 [==============================] - 1s 3ms/step - loss: 0.4982 - accuracy: 0.8049\n",
      "Epoch 16/30\n",
      "450/450 [==============================] - 1s 3ms/step - loss: 0.4711 - accuracy: 0.8176\n",
      "Epoch 17/30\n",
      "450/450 [==============================] - 1s 3ms/step - loss: 0.4631 - accuracy: 0.8273\n",
      "Epoch 18/30\n",
      "450/450 [==============================] - 1s 3ms/step - loss: 0.4584 - accuracy: 0.8305\n",
      "Epoch 19/30\n",
      "450/450 [==============================] - 1s 3ms/step - loss: 0.4453 - accuracy: 0.8348\n",
      "Epoch 20/30\n",
      "450/450 [==============================] - 1s 3ms/step - loss: 0.4434 - accuracy: 0.8394\n",
      "Epoch 21/30\n",
      "450/450 [==============================] - 1s 3ms/step - loss: 0.4342 - accuracy: 0.8422\n",
      "Epoch 22/30\n",
      "450/450 [==============================] - 1s 3ms/step - loss: 0.4266 - accuracy: 0.8461\n",
      "Epoch 23/30\n",
      "450/450 [==============================] - 1s 3ms/step - loss: 0.4182 - accuracy: 0.8510\n",
      "Epoch 24/30\n",
      "450/450 [==============================] - 2s 4ms/step - loss: 0.4108 - accuracy: 0.8538\n",
      "Epoch 25/30\n",
      "450/450 [==============================] - 1s 3ms/step - loss: 0.4058 - accuracy: 0.8559\n",
      "Epoch 26/30\n",
      "450/450 [==============================] - 1s 3ms/step - loss: 0.4023 - accuracy: 0.8561\n",
      "Epoch 27/30\n",
      "450/450 [==============================] - 1s 3ms/step - loss: 0.3908 - accuracy: 0.8599\n",
      "Epoch 28/30\n",
      "450/450 [==============================] - 1s 3ms/step - loss: 0.3806 - accuracy: 0.8635\n",
      "Epoch 29/30\n",
      "450/450 [==============================] - 1s 3ms/step - loss: 0.3719 - accuracy: 0.8663\n",
      "Epoch 30/30\n",
      "450/450 [==============================] - 1s 3ms/step - loss: 0.3707 - accuracy: 0.8674\n"
     ]
    },
    {
     "data": {
      "text/plain": [
       "<keras.callbacks.History at 0x7fd833320950>"
      ]
     },
     "execution_count": 8,
     "metadata": {},
     "output_type": "execute_result"
    }
   ],
   "source": [
    "model.fit(X_train,y_train,batch_size=BATCH_SIZE,epochs=EPOCHS)"
   ]
  },
  {
   "cell_type": "markdown",
   "id": "e2fd92fe",
   "metadata": {
    "papermill": {
     "duration": 0.271748,
     "end_time": "2022-01-08T00:04:14.604602",
     "exception": false,
     "start_time": "2022-01-08T00:04:14.332854",
     "status": "completed"
    },
    "tags": []
   },
   "source": [
    "# evaluate model (train.csv data)"
   ]
  },
  {
   "cell_type": "code",
   "execution_count": 9,
   "id": "4b31a302",
   "metadata": {
    "execution": {
     "iopub.execute_input": "2022-01-08T00:04:15.158846Z",
     "iopub.status.busy": "2022-01-08T00:04:15.157795Z",
     "iopub.status.idle": "2022-01-08T00:04:16.308065Z",
     "shell.execute_reply": "2022-01-08T00:04:16.307310Z",
     "shell.execute_reply.started": "2022-01-08T00:00:28.445769Z"
    },
    "papermill": {
     "duration": 1.428516,
     "end_time": "2022-01-08T00:04:16.308285",
     "exception": false,
     "start_time": "2022-01-08T00:04:14.879769",
     "status": "completed"
    },
    "tags": []
   },
   "outputs": [
    {
     "name": "stdout",
     "output_type": "stream",
     "text": [
      "469/469 [==============================] - 1s 2ms/step - loss: 0.4176 - accuracy: 0.8593\n"
     ]
    },
    {
     "data": {
      "text/plain": [
       "[0.41759687662124634, 0.859333336353302]"
      ]
     },
     "execution_count": 9,
     "metadata": {},
     "output_type": "execute_result"
    }
   ],
   "source": [
    "model.evaluate(X_val,y_val)"
   ]
  },
  {
   "cell_type": "markdown",
   "id": "5a3f1077",
   "metadata": {
    "papermill": {
     "duration": 0.276839,
     "end_time": "2022-01-08T00:04:16.864837",
     "exception": false,
     "start_time": "2022-01-08T00:04:16.587998",
     "status": "completed"
    },
    "tags": []
   },
   "source": [
    "# predict test data target using trained model"
   ]
  },
  {
   "cell_type": "markdown",
   "id": "b9d473f2",
   "metadata": {
    "papermill": {
     "duration": 0.275277,
     "end_time": "2022-01-08T00:04:17.418042",
     "exception": false,
     "start_time": "2022-01-08T00:04:17.142765",
     "status": "completed"
    },
    "tags": []
   },
   "source": [
    "### prediction probability"
   ]
  },
  {
   "cell_type": "code",
   "execution_count": 10,
   "id": "40a60095",
   "metadata": {
    "execution": {
     "iopub.execute_input": "2022-01-08T00:04:17.976383Z",
     "iopub.status.busy": "2022-01-08T00:04:17.975758Z",
     "iopub.status.idle": "2022-01-08T00:04:18.587712Z",
     "shell.execute_reply": "2022-01-08T00:04:18.588258Z",
     "shell.execute_reply.started": "2022-01-08T00:00:37.523492Z"
    },
    "papermill": {
     "duration": 0.895954,
     "end_time": "2022-01-08T00:04:18.588429",
     "exception": false,
     "start_time": "2022-01-08T00:04:17.692475",
     "status": "completed"
    },
    "tags": []
   },
   "outputs": [
    {
     "data": {
      "text/plain": [
       "array([[5.4815799e-01, 1.7547512e-03, 1.7146371e-02, 3.5446882e-02,\n",
       "        2.1071278e-03, 2.3522169e-05, 3.9292386e-01, 2.0684618e-08,\n",
       "        2.4393820e-03, 1.0892021e-07],\n",
       "       [1.0803696e-09, 9.9999523e-01, 2.1875509e-15, 4.8154557e-06,\n",
       "        1.8748357e-13, 0.0000000e+00, 2.7953373e-12, 0.0000000e+00,\n",
       "        9.4187609e-11, 0.0000000e+00],\n",
       "       [1.2202874e-02, 2.5840704e-03, 7.2213089e-01, 7.7210092e-03,\n",
       "        3.7980393e-02, 3.5795318e-05, 2.1299531e-01, 2.0213527e-06,\n",
       "        4.3323329e-03, 1.5410900e-05],\n",
       "       [3.1563163e-01, 7.3080294e-02, 2.0493484e-01, 7.3946789e-02,\n",
       "        5.3451415e-03, 5.4675784e-08, 3.0303583e-01, 4.9759058e-13,\n",
       "        2.4025507e-02, 6.5044869e-10],\n",
       "       [7.3012975e-03, 8.6880319e-02, 7.7662412e-03, 7.2147143e-01,\n",
       "        1.0317786e-01, 2.9446636e-13, 6.8708465e-02, 1.6020031e-24,\n",
       "        4.6943948e-03, 8.9189029e-18]], dtype=float32)"
      ]
     },
     "execution_count": 10,
     "metadata": {},
     "output_type": "execute_result"
    }
   ],
   "source": [
    "pred_test = model.predict(X_test)\n",
    "pred_test[:5]"
   ]
  },
  {
   "cell_type": "markdown",
   "id": "1ce569fa",
   "metadata": {
    "papermill": {
     "duration": 0.277195,
     "end_time": "2022-01-08T00:04:19.144850",
     "exception": false,
     "start_time": "2022-01-08T00:04:18.867655",
     "status": "completed"
    },
    "tags": []
   },
   "source": [
    "### prediction label"
   ]
  },
  {
   "cell_type": "code",
   "execution_count": 11,
   "id": "0a7cfa86",
   "metadata": {
    "execution": {
     "iopub.execute_input": "2022-01-08T00:04:19.700332Z",
     "iopub.status.busy": "2022-01-08T00:04:19.699690Z",
     "iopub.status.idle": "2022-01-08T00:04:19.705609Z",
     "shell.execute_reply": "2022-01-08T00:04:19.706113Z",
     "shell.execute_reply.started": "2022-01-08T00:00:53.458431Z"
    },
    "papermill": {
     "duration": 0.284764,
     "end_time": "2022-01-08T00:04:19.706284",
     "exception": false,
     "start_time": "2022-01-08T00:04:19.421520",
     "status": "completed"
    },
    "tags": []
   },
   "outputs": [
    {
     "data": {
      "text/plain": [
       "array([0, 1, 2, ..., 8, 8, 1])"
      ]
     },
     "execution_count": 11,
     "metadata": {},
     "output_type": "execute_result"
    }
   ],
   "source": [
    "np.argmax(pred_test,axis=1)"
   ]
  },
  {
   "cell_type": "markdown",
   "id": "597ec75c",
   "metadata": {
    "papermill": {
     "duration": 0.276761,
     "end_time": "2022-01-08T00:04:20.259669",
     "exception": false,
     "start_time": "2022-01-08T00:04:19.982908",
     "status": "completed"
    },
    "tags": []
   },
   "source": [
    "# evaluate model (test.csv data)"
   ]
  },
  {
   "cell_type": "code",
   "execution_count": 12,
   "id": "51335961",
   "metadata": {
    "execution": {
     "iopub.execute_input": "2022-01-08T00:04:20.814483Z",
     "iopub.status.busy": "2022-01-08T00:04:20.813790Z",
     "iopub.status.idle": "2022-01-08T00:04:21.586677Z",
     "shell.execute_reply": "2022-01-08T00:04:21.587428Z",
     "shell.execute_reply.started": "2022-01-08T00:01:04.535313Z"
    },
    "papermill": {
     "duration": 1.050876,
     "end_time": "2022-01-08T00:04:21.587638",
     "exception": false,
     "start_time": "2022-01-08T00:04:20.536762",
     "status": "completed"
    },
    "tags": []
   },
   "outputs": [
    {
     "name": "stdout",
     "output_type": "stream",
     "text": [
      "313/313 [==============================] - 1s 2ms/step - loss: 0.4191 - accuracy: 0.8593\n"
     ]
    },
    {
     "data": {
      "text/plain": [
       "[0.4191098213195801, 0.8593000173568726]"
      ]
     },
     "execution_count": 12,
     "metadata": {},
     "output_type": "execute_result"
    }
   ],
   "source": [
    "model.evaluate(X_test,y_test)"
   ]
  },
  {
   "cell_type": "code",
   "execution_count": 13,
   "id": "4742204a",
   "metadata": {
    "execution": {
     "iopub.execute_input": "2022-01-08T00:04:22.191105Z",
     "iopub.status.busy": "2022-01-08T00:04:22.189950Z",
     "iopub.status.idle": "2022-01-08T00:04:22.193717Z",
     "shell.execute_reply": "2022-01-08T00:04:22.194293Z",
     "shell.execute_reply.started": "2022-01-08T00:02:02.308276Z"
    },
    "papermill": {
     "duration": 0.305177,
     "end_time": "2022-01-08T00:04:22.194490",
     "exception": false,
     "start_time": "2022-01-08T00:04:21.889313",
     "status": "completed"
    },
    "tags": []
   },
   "outputs": [],
   "source": [
    "X_test = X_test.to_numpy()"
   ]
  },
  {
   "cell_type": "code",
   "execution_count": 14,
   "id": "fce016c0",
   "metadata": {
    "execution": {
     "iopub.execute_input": "2022-01-08T00:04:22.790840Z",
     "iopub.status.busy": "2022-01-08T00:04:22.789966Z",
     "iopub.status.idle": "2022-01-08T00:04:24.305986Z",
     "shell.execute_reply": "2022-01-08T00:04:24.305351Z",
     "shell.execute_reply.started": "2022-01-08T00:02:05.012388Z"
    },
    "papermill": {
     "duration": 1.813138,
     "end_time": "2022-01-08T00:04:24.306151",
     "exception": false,
     "start_time": "2022-01-08T00:04:22.493013",
     "status": "completed"
    },
    "tags": []
   },
   "outputs": [
    {
     "data": {
      "image/png": "[encoded data removed]",
      "text/plain": [
       "<Figure size 1152x1152 with 25 Axes>"
      ]
     },
     "metadata": {
      "needs_background": "light"
     },
     "output_type": "display_data"
    }
   ],
   "source": [
    "plt.figure(figsize=(16,16))\n",
    "for i in range(25):\n",
    "    plt.subplot(5,5,i+1)\n",
    "    plt.imshow(X_test[i].reshape(28,28),cmap=\"Greys\")\n",
    "    plt.axis('off')\n",
    "    plt.title(\"ORIGINAL= {} \\n PREDICTED = {}\".format(class_labels[y_test[i]], class_labels[np.argmax(pred_test[i])]))"
   ]
  }
 ],
 "metadata": {
  "kernelspec": {
   "display_name": "Python 3",
   "language": "python",
   "name": "python3"
  },
  "language_info": {
   "codemirror_mode": {
    "name": "ipython",
    "version": 3
   },
   "file_extension": ".py",
   "mimetype": "text/x-python",
   "name": "python",
   "nbconvert_exporter": "python",
   "pygments_lexer": "ipython3",
   "version": "3.7.12"
  },
  "papermill": {
   "default_parameters": {},
   "duration": 81.862324,
   "end_time": "2022-01-08T00:04:27.223789",
   "environment_variables": {},
   "exception": null,
   "input_path": "__notebook__.ipynb",
   "output_path": "__notebook__.ipynb",
   "parameters": {},
   "start_time": "2022-01-08T00:03:05.361465",
   "version": "2.3.3"
  }
 },
 "nbformat": 4,
 "nbformat_minor": 5
}
