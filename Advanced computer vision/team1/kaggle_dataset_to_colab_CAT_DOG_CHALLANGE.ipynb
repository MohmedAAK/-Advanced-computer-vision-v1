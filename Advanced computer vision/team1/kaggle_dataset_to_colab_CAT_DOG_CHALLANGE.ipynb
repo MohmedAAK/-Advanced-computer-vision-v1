{
  "nbformat": 4,
  "nbformat_minor": 0,
  "metadata": {
    "colab": {
      "name": "kaggle_dataset_to_colab_CAT_DOG_CHALLANGE.ipynb",
      "provenance": [],
      "collapsed_sections": [
        "dRXpPTR1QoY_",
        "U1e_sZitgB5y",
        "ssjXLPj8yrS5",
        "Ag52ZM_Yy12d",
        "cyemNjQQ9yCh",
        "IkmItWlOA7FE"
      ],
      "include_colab_link": true
    },
    "kernelspec": {
      "display_name": "Python 3",
      "name": "python3"
    },
    "language_info": {
      "name": "python"
    }
  },
  "cells": [
    {
      "cell_type": "markdown",
      "metadata": {
        "id": "view-in-github",
        "colab_type": "text"
      },
      "source": [
        "<a href=\"https://colab.research.google.com/github/MohmedAAK/-Advanced-computer-vision-v1/blob/Ahmed-Ramadan/Advanced%20computer%20vision/team1/kaggle_dataset_to_colab_CAT_DOG_CHALLANGE.ipynb\" target=\"_parent\"><img src=\"https://colab.research.google.com/assets/colab-badge.svg\" alt=\"Open In Colab\"/></a>"
      ]
    },
    {
      "cell_type": "markdown",
      "metadata": {
        "id": "dRXpPTR1QoY_"
      },
      "source": [
        "#download data - mchine learning mastry"
      ]
    },
    {
      "cell_type": "code",
      "metadata": {
        "colab": {
          "base_uri": "https://localhost:8080/"
        },
        "id": "i_9cSsoQQoZA",
        "outputId": "a93b3e4e-9edc-4a42-de8a-a915a025d41f"
      },
      "source": [
        "! pip install kaggle"
      ],
      "execution_count": null,
      "outputs": [
        {
          "name": "stdout",
          "output_type": "stream",
          "text": [
            "Requirement already satisfied: kaggle in /usr/local/lib/python3.7/dist-packages (1.5.12)\n",
            "Requirement already satisfied: urllib3 in /usr/local/lib/python3.7/dist-packages (from kaggle) (1.24.3)\n",
            "Requirement already satisfied: certifi in /usr/local/lib/python3.7/dist-packages (from kaggle) (2021.10.8)\n",
            "Requirement already satisfied: python-slugify in /usr/local/lib/python3.7/dist-packages (from kaggle) (5.0.2)\n",
            "Requirement already satisfied: tqdm in /usr/local/lib/python3.7/dist-packages (from kaggle) (4.62.3)\n",
            "Requirement already satisfied: requests in /usr/local/lib/python3.7/dist-packages (from kaggle) (2.23.0)\n",
            "Requirement already satisfied: six>=1.10 in /usr/local/lib/python3.7/dist-packages (from kaggle) (1.15.0)\n",
            "Requirement already satisfied: python-dateutil in /usr/local/lib/python3.7/dist-packages (from kaggle) (2.8.2)\n",
            "Requirement already satisfied: text-unidecode>=1.3 in /usr/local/lib/python3.7/dist-packages (from python-slugify->kaggle) (1.3)\n",
            "Requirement already satisfied: idna<3,>=2.5 in /usr/local/lib/python3.7/dist-packages (from requests->kaggle) (2.10)\n",
            "Requirement already satisfied: chardet<4,>=3.0.2 in /usr/local/lib/python3.7/dist-packages (from requests->kaggle) (3.0.4)\n"
          ]
        }
      ]
    },
    {
      "cell_type": "code",
      "metadata": {
        "id": "7hxvoDd_QoZA"
      },
      "source": [
        "! mkdir ~/.kaggle"
      ],
      "execution_count": null,
      "outputs": []
    },
    {
      "cell_type": "code",
      "metadata": {
        "id": "pBbx9fwNQoZA"
      },
      "source": [
        "! cp kaggle.json ~/.kaggle/"
      ],
      "execution_count": null,
      "outputs": []
    },
    {
      "cell_type": "code",
      "metadata": {
        "id": "cnaXoH5fQoZA"
      },
      "source": [
        "! chmod 600 ~/.kaggle/kaggle.json"
      ],
      "execution_count": null,
      "outputs": []
    },
    {
      "cell_type": "code",
      "metadata": {
        "colab": {
          "base_uri": "https://localhost:8080/"
        },
        "id": "MMCkQnttQoZB",
        "outputId": "b87def68-6f2f-40fa-cd11-e8cffaf3b84d"
      },
      "source": [
        "!kaggle competitions download -c dogs-vs-cats"
      ],
      "execution_count": null,
      "outputs": [
        {
          "name": "stdout",
          "output_type": "stream",
          "text": [
            "Warning: Looks like you're using an outdated API Version, please consider updating (server 1.5.12 / client 1.5.4)\n",
            "Downloading sampleSubmission.csv to /content\n",
            "  0% 0.00/86.8k [00:00<?, ?B/s]\n",
            "100% 86.8k/86.8k [00:00<00:00, 32.5MB/s]\n",
            "Downloading train.zip to /content\n",
            " 99% 539M/543M [00:09<00:00, 44.5MB/s]\n",
            "100% 543M/543M [00:10<00:00, 56.3MB/s]\n",
            "Downloading test1.zip to /content\n",
            " 99% 269M/271M [00:06<00:00, 33.8MB/s]\n",
            "100% 271M/271M [00:06<00:00, 43.0MB/s]\n"
          ]
        }
      ]
    },
    {
      "cell_type": "code",
      "metadata": {
        "id": "8RA0WfPJQoZB"
      },
      "source": [
        "#!unzip /content/test1.zip \n",
        "#print(\"\")"
      ],
      "execution_count": null,
      "outputs": []
    },
    {
      "cell_type": "code",
      "metadata": {
        "id": "Y5C2WOqMQoZB"
      },
      "source": [
        "!unzip /content/train.zip \n",
        "from IPython.display import clear_output\n",
        "clear_output()"
      ],
      "execution_count": null,
      "outputs": []
    },
    {
      "cell_type": "code",
      "metadata": {
        "id": "NDx5R3aTQoZB"
      },
      "source": [
        "import os\n",
        "os.makedirs(\"test\", exist_ok=False)\n",
        "os.makedirs(\"train/dog\", exist_ok=False)\n",
        "os.makedirs(\"train/cat\", exist_ok=False)\n",
        "os.makedirs(\"test/dog\", exist_ok=False)\n",
        "os.makedirs(\"test/cat\", exist_ok=False)"
      ],
      "execution_count": null,
      "outputs": []
    },
    {
      "cell_type": "code",
      "metadata": {
        "id": "0kAiPV0MQoZB"
      },
      "source": [
        "import glob\n",
        "import shutil\n",
        "def mover(from_p,to_p,percentage):\n",
        "  counter=0\n",
        "  for file_ in glob.glob(from_p+\"/*.jpg\"):\n",
        "    counter+=1 \n",
        "  print(counter)   \n",
        "  move=0\n",
        "  for file_ in glob.glob(from_p+\"/*.jpg\"):  \n",
        "    if move/counter<=percentage: \n",
        "      shutil.move(file_,to_p+\"/\"+file_.split(\"/\")[-1])\n",
        "      move+=1\n",
        "  print(move)  \n",
        "def split_dog_cat(path):\n",
        "  for file_ in glob.glob(path+\"/*.jpg\"):  \n",
        "    if \"dog\" in file_ or \"DOG\" in file_:\n",
        "      shutil.move(file_,path+\"/dog/\"+file_.split(\"/\")[-1])\n",
        "    else:\n",
        "      shutil.move(file_,path+\"/cat/\"+file_.split(\"/\")[-1])\n"
      ],
      "execution_count": null,
      "outputs": []
    },
    {
      "cell_type": "code",
      "metadata": {
        "id": "seic28IoQoZB"
      },
      "source": [
        "split_dog_cat(\"/content/train\")"
      ],
      "execution_count": null,
      "outputs": []
    },
    {
      "cell_type": "code",
      "metadata": {
        "colab": {
          "base_uri": "https://localhost:8080/"
        },
        "id": "CuKRob_VQoZC",
        "outputId": "1489542a-88e7-4865-e261-370e8a3b5fd0"
      },
      "source": [
        "mover(\"/content/train/cat\",\"/content/test/cat\",0.2)\n",
        "mover(\"/content/train/dog\",\"/content/test/dog\",0.2)"
      ],
      "execution_count": null,
      "outputs": [
        {
          "name": "stdout",
          "output_type": "stream",
          "text": [
            "12500\n",
            "2501\n",
            "12500\n",
            "2501\n",
            "9999\n",
            "2000\n",
            "9999\n",
            "2000\n"
          ]
        }
      ]
    },
    {
      "cell_type": "markdown",
      "metadata": {
        "id": "CHLoMg4dQ9FH"
      },
      "source": [
        "#machine learning mastry_example"
      ]
    },
    {
      "cell_type": "code",
      "metadata": {
        "id": "TiNLz7iPOOv_",
        "colab": {
          "base_uri": "https://localhost:8080/",
          "height": 496
        },
        "outputId": "19eab43a-d5a9-4564-a8a1-1b91bd915364"
      },
      "source": [
        "#The full code listing of the VGG model for transfer learning on the dogs vs. cats dataset \n",
        "# vgg16 model used for transfer learning on the dogs and cats dataset\n",
        "import sys\n",
        "from matplotlib import pyplot\n",
        "from tensorflow.keras.utils import to_categorical\n",
        "from keras.applications.vgg16 import VGG16\n",
        "from keras.models import Model\n",
        "from keras.layers import Dense\n",
        "from keras.layers import Flatten\n",
        "from tensorflow.keras.optimizers import SGD\n",
        "from keras.preprocessing.image import ImageDataGenerator\n",
        "\n",
        "# define cnn model\n",
        "def define_model():\n",
        "\t# load model\n",
        "\tmodel = VGG16(include_top=False, input_shape=(224, 224, 3))\n",
        "\t# mark loaded layers as not trainable\n",
        "\tfor layer in model.layers:\n",
        "\t\tlayer.trainable = False\n",
        "\t# add new classifier layers\n",
        "\tflat1 = Flatten()(model.layers[-1].output)\n",
        "\tclass1 = Dense(128, activation='relu', kernel_initializer='he_uniform')(flat1)\n",
        "\toutput = Dense(1, activation='sigmoid')(class1)\n",
        "\t# define new model\n",
        "\tmodel = Model(inputs=model.inputs, outputs=output)\n",
        "\t# compile model\n",
        "\topt = SGD(lr=0.001, momentum=0.9)\n",
        "\tmodel.compile(optimizer=opt, loss='binary_crossentropy', metrics=['accuracy'])\n",
        "\treturn model\n",
        "\n",
        "# plot diagnostic learning curves\n",
        "def summarize_diagnostics(history):\n",
        "\t# plot loss\n",
        "\tpyplot.subplot(211)\n",
        "\tpyplot.title('Cross Entropy Loss')\n",
        "\tpyplot.plot(history.history['loss'], color='blue', label='train')\n",
        "\tpyplot.plot(history.history['val_loss'], color='orange', label='test')\n",
        "\t# plot accuracy\n",
        "\tpyplot.subplot(212)\n",
        "\tpyplot.title('Classification Accuracy')\n",
        "\tpyplot.plot(history.history['accuracy'], color='blue', label='train')\n",
        "\tpyplot.plot(history.history['val_accuracy'], color='orange', label='test')\n",
        "\t# save plot to file\n",
        "\tfilename = sys.argv[0].split('/')[-1]\n",
        "\tpyplot.savefig(filename + '_plot.png')\n",
        "\tpyplot.close()\n",
        "\n",
        "# run the test harness for evaluating a model\n",
        "def run_test_harness():\n",
        "\t# define model\n",
        "\tmodel = define_model()\n",
        "\t# create data generator\n",
        "\tdatagen = ImageDataGenerator(featurewise_center=True)\n",
        "\t# specify imagenet mean values for centering\n",
        "\tdatagen.mean = [123.68, 116.779, 103.939]\n",
        "\t# prepare iterator\n",
        "\ttrain_it = datagen.flow_from_directory('/content/train/',\n",
        "\t\tclass_mode='binary', batch_size=64, target_size=(224, 224))\n",
        "\ttest_it = datagen.flow_from_directory('/content/test/',\n",
        "\t\tclass_mode='binary', batch_size=64, target_size=(224, 224))\n",
        "\t# fit model\n",
        "\thistory = model.fit_generator(train_it, steps_per_epoch=len(train_it),\n",
        "\t\tvalidation_data=test_it, validation_steps=len(test_it), epochs=10, verbose=1)\n",
        "\t# evaluate model\n",
        "\t_, acc = model.evaluate_generator(test_it, steps=len(test_it), verbose=0)\n",
        "\tprint('> %.3f' % (acc * 100.0))\n",
        "\t# learning curves\n",
        "\tsummarize_diagnostics(history)\n",
        "\n",
        "# entry point, run the test harness\n",
        "run_test_harness()"
      ],
      "execution_count": 14,
      "outputs": [
        {
          "output_type": "stream",
          "name": "stdout",
          "text": [
            "Downloading data from https://storage.googleapis.com/tensorflow/keras-applications/vgg16/vgg16_weights_tf_dim_ordering_tf_kernels_notop.h5\n",
            "58892288/58889256 [==============================] - 0s 0us/step\n",
            "58900480/58889256 [==============================] - 0s 0us/step\n"
          ]
        },
        {
          "output_type": "stream",
          "name": "stderr",
          "text": [
            "/usr/local/lib/python3.7/dist-packages/keras/optimizer_v2/gradient_descent.py:102: UserWarning: The `lr` argument is deprecated, use `learning_rate` instead.\n",
            "  super(SGD, self).__init__(name, **kwargs)\n"
          ]
        },
        {
          "output_type": "stream",
          "name": "stdout",
          "text": [
            "Found 0 images belonging to 2 classes.\n",
            "Found 0 images belonging to 2 classes.\n"
          ]
        },
        {
          "output_type": "stream",
          "name": "stderr",
          "text": [
            "/usr/local/lib/python3.7/dist-packages/ipykernel_launcher.py:63: UserWarning: `Model.fit_generator` is deprecated and will be removed in a future version. Please use `Model.fit`, which supports generators.\n"
          ]
        },
        {
          "output_type": "error",
          "ename": "ValueError",
          "evalue": "ignored",
          "traceback": [
            "\u001b[0;31m---------------------------------------------------------------------------\u001b[0m",
            "\u001b[0;31mValueError\u001b[0m                                Traceback (most recent call last)",
            "\u001b[0;32m<ipython-input-14-66935d789103>\u001b[0m in \u001b[0;36m<module>\u001b[0;34m()\u001b[0m\n\u001b[1;32m     69\u001b[0m \u001b[0;34m\u001b[0m\u001b[0m\n\u001b[1;32m     70\u001b[0m \u001b[0;31m# entry point, run the test harness\u001b[0m\u001b[0;34m\u001b[0m\u001b[0;34m\u001b[0m\u001b[0;34m\u001b[0m\u001b[0m\n\u001b[0;32m---> 71\u001b[0;31m \u001b[0mrun_test_harness\u001b[0m\u001b[0;34m(\u001b[0m\u001b[0;34m)\u001b[0m\u001b[0;34m\u001b[0m\u001b[0;34m\u001b[0m\u001b[0m\n\u001b[0m",
            "\u001b[0;32m<ipython-input-14-66935d789103>\u001b[0m in \u001b[0;36mrun_test_harness\u001b[0;34m()\u001b[0m\n\u001b[1;32m     61\u001b[0m         \u001b[0;31m# fit model\u001b[0m\u001b[0;34m\u001b[0m\u001b[0;34m\u001b[0m\u001b[0;34m\u001b[0m\u001b[0m\n\u001b[1;32m     62\u001b[0m \thistory = model.fit_generator(train_it, steps_per_epoch=len(train_it),\n\u001b[0;32m---> 63\u001b[0;31m \t\tvalidation_data=test_it, validation_steps=len(test_it), epochs=10, verbose=1)\n\u001b[0m\u001b[1;32m     64\u001b[0m         \u001b[0;31m# evaluate model\u001b[0m\u001b[0;34m\u001b[0m\u001b[0;34m\u001b[0m\u001b[0;34m\u001b[0m\u001b[0m\n\u001b[1;32m     65\u001b[0m         \u001b[0m_\u001b[0m\u001b[0;34m,\u001b[0m \u001b[0macc\u001b[0m \u001b[0;34m=\u001b[0m \u001b[0mmodel\u001b[0m\u001b[0;34m.\u001b[0m\u001b[0mevaluate_generator\u001b[0m\u001b[0;34m(\u001b[0m\u001b[0mtest_it\u001b[0m\u001b[0;34m,\u001b[0m \u001b[0msteps\u001b[0m\u001b[0;34m=\u001b[0m\u001b[0mlen\u001b[0m\u001b[0;34m(\u001b[0m\u001b[0mtest_it\u001b[0m\u001b[0;34m)\u001b[0m\u001b[0;34m,\u001b[0m \u001b[0mverbose\u001b[0m\u001b[0;34m=\u001b[0m\u001b[0;36m0\u001b[0m\u001b[0;34m)\u001b[0m\u001b[0;34m\u001b[0m\u001b[0;34m\u001b[0m\u001b[0m\n",
            "\u001b[0;32m/usr/local/lib/python3.7/dist-packages/keras/engine/training.py\u001b[0m in \u001b[0;36mfit_generator\u001b[0;34m(self, generator, steps_per_epoch, epochs, verbose, callbacks, validation_data, validation_steps, validation_freq, class_weight, max_queue_size, workers, use_multiprocessing, shuffle, initial_epoch)\u001b[0m\n\u001b[1;32m   2028\u001b[0m         \u001b[0muse_multiprocessing\u001b[0m\u001b[0;34m=\u001b[0m\u001b[0muse_multiprocessing\u001b[0m\u001b[0;34m,\u001b[0m\u001b[0;34m\u001b[0m\u001b[0;34m\u001b[0m\u001b[0m\n\u001b[1;32m   2029\u001b[0m         \u001b[0mshuffle\u001b[0m\u001b[0;34m=\u001b[0m\u001b[0mshuffle\u001b[0m\u001b[0;34m,\u001b[0m\u001b[0;34m\u001b[0m\u001b[0;34m\u001b[0m\u001b[0m\n\u001b[0;32m-> 2030\u001b[0;31m         initial_epoch=initial_epoch)\n\u001b[0m\u001b[1;32m   2031\u001b[0m \u001b[0;34m\u001b[0m\u001b[0m\n\u001b[1;32m   2032\u001b[0m   \u001b[0;34m@\u001b[0m\u001b[0mdoc_controls\u001b[0m\u001b[0;34m.\u001b[0m\u001b[0mdo_not_generate_docs\u001b[0m\u001b[0;34m\u001b[0m\u001b[0;34m\u001b[0m\u001b[0m\n",
            "\u001b[0;32m/usr/local/lib/python3.7/dist-packages/keras/utils/traceback_utils.py\u001b[0m in \u001b[0;36merror_handler\u001b[0;34m(*args, **kwargs)\u001b[0m\n\u001b[1;32m     65\u001b[0m     \u001b[0;32mexcept\u001b[0m \u001b[0mException\u001b[0m \u001b[0;32mas\u001b[0m \u001b[0me\u001b[0m\u001b[0;34m:\u001b[0m  \u001b[0;31m# pylint: disable=broad-except\u001b[0m\u001b[0;34m\u001b[0m\u001b[0;34m\u001b[0m\u001b[0m\n\u001b[1;32m     66\u001b[0m       \u001b[0mfiltered_tb\u001b[0m \u001b[0;34m=\u001b[0m \u001b[0m_process_traceback_frames\u001b[0m\u001b[0;34m(\u001b[0m\u001b[0me\u001b[0m\u001b[0;34m.\u001b[0m\u001b[0m__traceback__\u001b[0m\u001b[0;34m)\u001b[0m\u001b[0;34m\u001b[0m\u001b[0;34m\u001b[0m\u001b[0m\n\u001b[0;32m---> 67\u001b[0;31m       \u001b[0;32mraise\u001b[0m \u001b[0me\u001b[0m\u001b[0;34m.\u001b[0m\u001b[0mwith_traceback\u001b[0m\u001b[0;34m(\u001b[0m\u001b[0mfiltered_tb\u001b[0m\u001b[0;34m)\u001b[0m \u001b[0;32mfrom\u001b[0m \u001b[0;32mNone\u001b[0m\u001b[0;34m\u001b[0m\u001b[0;34m\u001b[0m\u001b[0m\n\u001b[0m\u001b[1;32m     68\u001b[0m     \u001b[0;32mfinally\u001b[0m\u001b[0;34m:\u001b[0m\u001b[0;34m\u001b[0m\u001b[0;34m\u001b[0m\u001b[0m\n\u001b[1;32m     69\u001b[0m       \u001b[0;32mdel\u001b[0m \u001b[0mfiltered_tb\u001b[0m\u001b[0;34m\u001b[0m\u001b[0;34m\u001b[0m\u001b[0m\n",
            "\u001b[0;32m/usr/local/lib/python3.7/dist-packages/keras_preprocessing/image/iterator.py\u001b[0m in \u001b[0;36m__getitem__\u001b[0;34m(self, idx)\u001b[0m\n\u001b[1;32m     55\u001b[0m                              \u001b[0;34m'but the Sequence '\u001b[0m\u001b[0;34m\u001b[0m\u001b[0;34m\u001b[0m\u001b[0m\n\u001b[1;32m     56\u001b[0m                              'has length {length}'.format(idx=idx,\n\u001b[0;32m---> 57\u001b[0;31m                                                           length=len(self)))\n\u001b[0m\u001b[1;32m     58\u001b[0m         \u001b[0;32mif\u001b[0m \u001b[0mself\u001b[0m\u001b[0;34m.\u001b[0m\u001b[0mseed\u001b[0m \u001b[0;32mis\u001b[0m \u001b[0;32mnot\u001b[0m \u001b[0;32mNone\u001b[0m\u001b[0;34m:\u001b[0m\u001b[0;34m\u001b[0m\u001b[0;34m\u001b[0m\u001b[0m\n\u001b[1;32m     59\u001b[0m             \u001b[0mnp\u001b[0m\u001b[0;34m.\u001b[0m\u001b[0mrandom\u001b[0m\u001b[0;34m.\u001b[0m\u001b[0mseed\u001b[0m\u001b[0;34m(\u001b[0m\u001b[0mself\u001b[0m\u001b[0;34m.\u001b[0m\u001b[0mseed\u001b[0m \u001b[0;34m+\u001b[0m \u001b[0mself\u001b[0m\u001b[0;34m.\u001b[0m\u001b[0mtotal_batches_seen\u001b[0m\u001b[0;34m)\u001b[0m\u001b[0;34m\u001b[0m\u001b[0;34m\u001b[0m\u001b[0m\n",
            "\u001b[0;31mValueError\u001b[0m: Asked to retrieve element 0, but the Sequence has length 0"
          ]
        }
      ]
    },
    {
      "cell_type": "markdown",
      "metadata": {
        "id": "U1e_sZitgB5y"
      },
      "source": [
        "\n",
        "\n",
        "```\n",
        "# This is formatted as code\n",
        "```\n",
        "\n",
        "#download data"
      ]
    },
    {
      "cell_type": "code",
      "metadata": {
        "colab": {
          "base_uri": "https://localhost:8080/"
        },
        "id": "V3MhmQSDOQDa",
        "outputId": "14093773-4dbe-45d5-9e6d-01f0f3ecd69e"
      },
      "source": [
        "! pip install kaggle"
      ],
      "execution_count": 1,
      "outputs": [
        {
          "output_type": "stream",
          "name": "stdout",
          "text": [
            "Requirement already satisfied: kaggle in /usr/local/lib/python3.7/dist-packages (1.5.12)\n",
            "Requirement already satisfied: six>=1.10 in /usr/local/lib/python3.7/dist-packages (from kaggle) (1.15.0)\n",
            "Requirement already satisfied: certifi in /usr/local/lib/python3.7/dist-packages (from kaggle) (2021.10.8)\n",
            "Requirement already satisfied: urllib3 in /usr/local/lib/python3.7/dist-packages (from kaggle) (1.24.3)\n",
            "Requirement already satisfied: python-slugify in /usr/local/lib/python3.7/dist-packages (from kaggle) (5.0.2)\n",
            "Requirement already satisfied: tqdm in /usr/local/lib/python3.7/dist-packages (from kaggle) (4.62.3)\n",
            "Requirement already satisfied: requests in /usr/local/lib/python3.7/dist-packages (from kaggle) (2.23.0)\n",
            "Requirement already satisfied: python-dateutil in /usr/local/lib/python3.7/dist-packages (from kaggle) (2.8.2)\n",
            "Requirement already satisfied: text-unidecode>=1.3 in /usr/local/lib/python3.7/dist-packages (from python-slugify->kaggle) (1.3)\n",
            "Requirement already satisfied: chardet<4,>=3.0.2 in /usr/local/lib/python3.7/dist-packages (from requests->kaggle) (3.0.4)\n",
            "Requirement already satisfied: idna<3,>=2.5 in /usr/local/lib/python3.7/dist-packages (from requests->kaggle) (2.10)\n"
          ]
        }
      ]
    },
    {
      "cell_type": "code",
      "metadata": {
        "id": "mJAW4oyZOT6z"
      },
      "source": [
        "! mkdir ~/.kaggle"
      ],
      "execution_count": 2,
      "outputs": []
    },
    {
      "cell_type": "code",
      "metadata": {
        "id": "IshkbYAtOT9B",
        "colab": {
          "base_uri": "https://localhost:8080/"
        },
        "outputId": "b3ed5842-4473-499a-d953-82ecd7d1a587"
      },
      "source": [
        "! cp kaggle.json ~/.kaggle/"
      ],
      "execution_count": 3,
      "outputs": [
        {
          "output_type": "stream",
          "name": "stdout",
          "text": [
            "cp: cannot stat 'kaggle.json': No such file or directory\n"
          ]
        }
      ]
    },
    {
      "cell_type": "code",
      "metadata": {
        "id": "WoQFUy91OT_P",
        "colab": {
          "base_uri": "https://localhost:8080/"
        },
        "outputId": "89166f2e-66f2-411d-b2e8-cf987a064153"
      },
      "source": [
        "! chmod 600 ~/.kaggle/kaggle.json"
      ],
      "execution_count": 4,
      "outputs": [
        {
          "output_type": "stream",
          "name": "stdout",
          "text": [
            "chmod: cannot access '/root/.kaggle/kaggle.json': No such file or directory\n"
          ]
        }
      ]
    },
    {
      "cell_type": "code",
      "metadata": {
        "colab": {
          "base_uri": "https://localhost:8080/"
        },
        "id": "1k6MhAsONBXb",
        "outputId": "8263de56-c1fa-468a-b5c3-a336bcb64da5"
      },
      "source": [
        "!kaggle competitions download -c dogs-vs-cats"
      ],
      "execution_count": 5,
      "outputs": [
        {
          "output_type": "stream",
          "name": "stdout",
          "text": [
            "Traceback (most recent call last):\n",
            "  File \"/usr/local/bin/kaggle\", line 5, in <module>\n",
            "    from kaggle.cli import main\n",
            "  File \"/usr/local/lib/python2.7/dist-packages/kaggle/__init__.py\", line 23, in <module>\n",
            "    api.authenticate()\n",
            "  File \"/usr/local/lib/python2.7/dist-packages/kaggle/api/kaggle_api_extended.py\", line 146, in authenticate\n",
            "    self.config_file, self.config_dir))\n",
            "IOError: Could not find kaggle.json. Make sure it's located in /root/.kaggle. Or use the environment method.\n"
          ]
        }
      ]
    },
    {
      "cell_type": "code",
      "metadata": {
        "id": "5SfnfysoP_OC"
      },
      "source": [
        "#!unzip /content/test1.zip \n",
        "#print(\"\")"
      ],
      "execution_count": 6,
      "outputs": []
    },
    {
      "cell_type": "code",
      "metadata": {
        "id": "LlE-29wtQGZK"
      },
      "source": [
        "!unzip /content/train.zip \n",
        "from IPython.display import clear_output\n",
        "clear_output()"
      ],
      "execution_count": 7,
      "outputs": []
    },
    {
      "cell_type": "code",
      "metadata": {
        "id": "vyyUAShHo6vM"
      },
      "source": [
        "import os\n",
        "os.makedirs(\"val\", exist_ok=False)\n",
        "os.makedirs(\"test\", exist_ok=False)\n",
        "os.makedirs(\"val/dog\", exist_ok=False)\n",
        "os.makedirs(\"val/cat\", exist_ok=False)\n",
        "os.makedirs(\"train/dog\", exist_ok=False)\n",
        "os.makedirs(\"train/cat\", exist_ok=False)\n",
        "os.makedirs(\"test/dog\", exist_ok=False)\n",
        "os.makedirs(\"test/cat\", exist_ok=False)"
      ],
      "execution_count": 8,
      "outputs": []
    },
    {
      "cell_type": "code",
      "metadata": {
        "id": "yrtLIw7VpZAp"
      },
      "source": [
        "import glob\n",
        "import shutil\n",
        "def mover(from_p,to_p,percentage):\n",
        "  counter=0\n",
        "  for file_ in glob.glob(from_p+\"/*.jpg\"):\n",
        "    counter+=1 \n",
        "  print(counter)   \n",
        "  move=0\n",
        "  for file_ in glob.glob(from_p+\"/*.jpg\"):  \n",
        "    if move/counter<=percentage: \n",
        "      shutil.move(file_,to_p+\"/\"+file_.split(\"/\")[-1])\n",
        "      move+=1\n",
        "  print(move)  \n",
        "def split_dog_cat(path):\n",
        "  for file_ in glob.glob(path+\"/*.jpg\"):  \n",
        "    if \"dog\" in file_ or \"DOG\" in file_:\n",
        "      shutil.move(file_,path+\"/dog/\"+file_.split(\"/\")[-1])\n",
        "    else:\n",
        "      shutil.move(file_,path+\"/cat/\"+file_.split(\"/\")[-1])\n"
      ],
      "execution_count": 9,
      "outputs": []
    },
    {
      "cell_type": "code",
      "metadata": {
        "id": "WRIKxDOuuJAa"
      },
      "source": [
        "split_dog_cat(\"/content/train\")"
      ],
      "execution_count": 10,
      "outputs": []
    },
    {
      "cell_type": "code",
      "metadata": {
        "colab": {
          "base_uri": "https://localhost:8080/"
        },
        "id": "xbwOAjs6uWCD",
        "outputId": "6b8fe249-35d5-4e32-e2c6-89c6fc380275"
      },
      "source": [
        "mover(\"/content/train/cat\",\"/content/test/cat\",0.2)\n",
        "mover(\"/content/train/dog\",\"/content/test/dog\",0.2)\n",
        "mover(\"/content/train/cat\",\"/content/val/cat\",0.2)\n",
        "mover(\"/content/train/dog\",\"/content/val/dog\",0.2)"
      ],
      "execution_count": 11,
      "outputs": [
        {
          "output_type": "stream",
          "name": "stdout",
          "text": [
            "0\n",
            "0\n",
            "0\n",
            "0\n",
            "0\n",
            "0\n",
            "0\n",
            "0\n"
          ]
        }
      ]
    },
    {
      "cell_type": "code",
      "metadata": {
        "colab": {
          "base_uri": "https://localhost:8080/",
          "height": 0
        },
        "id": "tF53JbPxrWy9",
        "outputId": "8e45bf0c-3d8a-48b0-8804-49b21941a6aa"
      },
      "source": [
        "\"/content/fold/file_.jpg\".split(\"/\")[-1]"
      ],
      "execution_count": 12,
      "outputs": [
        {
          "output_type": "execute_result",
          "data": {
            "application/vnd.google.colaboratory.intrinsic+json": {
              "type": "string"
            },
            "text/plain": [
              "'file_.jpg'"
            ]
          },
          "metadata": {},
          "execution_count": 12
        }
      ]
    },
    {
      "cell_type": "code",
      "metadata": {
        "id": "YUPnR_Ecluop"
      },
      "source": [
        "import keras,os\n",
        "import tensorflow as tf\n",
        "from matplotlib import pyplot\n",
        "from tensorflow.keras.models import Sequential\n",
        "from tensorflow.keras.layers import Conv2D\n",
        "from tensorflow.keras.layers import MaxPooling2D\n",
        "from tensorflow.keras.layers import Dense\n",
        "from tensorflow.keras.layers import Flatten\n",
        "from tensorflow.keras.optimizers import SGD\n",
        "from tensorflow.keras.preprocessing.image import ImageDataGenerator\n",
        "\n",
        "#simple model\n",
        "def define_model():\n",
        "\tmodel = Sequential()\n",
        "\tmodel.add(Conv2D(32, (3, 3), activation='relu', input_shape=(224, 224, 3)))# kernel_initializer='he_uniform', padding='same',\n",
        "\t#model.add(MaxPooling2D((2, 2)))\n",
        "\tmodel.add(Flatten())\n",
        "\t#model.add(Dense(128, activation='relu', kernel_initializer='he_uniform'))\n",
        "\tmodel.add(Dense(2, activation='softmax'))\n",
        "\t# compile model\n",
        "\tmodel.compile(optimizer='adam', loss='categorical_crossentropy', metrics=['accuracy'])\n",
        "\treturn model\n",
        "\n",
        "input_path = '/content/'\n"
      ],
      "execution_count": 13,
      "outputs": []
    },
    {
      "cell_type": "markdown",
      "metadata": {
        "id": "ssjXLPj8yrS5"
      },
      "source": [
        "#too simple model 1 with Standardize"
      ]
    },
    {
      "cell_type": "code",
      "metadata": {
        "colab": {
          "base_uri": "https://localhost:8080/"
        },
        "id": "L3XbnotmnAry",
        "outputId": "cf28544d-a3cf-4372-db49-19a679e679d1"
      },
      "source": [
        "model = define_model()\n",
        "\n",
        "# create data generator\n",
        "#(tensor([0.6318, 0.5199, 0.4509]), tensor([0.2580, 0.2405, 0.2438]))\n",
        "datagen = ImageDataGenerator( featurewise_center=True,featurewise_std_normalization=True)\n",
        "\n",
        "# specify imagenet mean values for centering\n",
        "\n",
        "datagen.mean = [0.485*255, 0.456*255, 0.406*255]#[0.6318*255, 0.5199*255, 0.4509*255]   \n",
        "datagen.std = 0.226*255\n",
        "# create data generator\n",
        "# prepare iterators\n",
        "train = datagen.flow_from_directory(input_path+'train/',class_mode=\"categorical\", batch_size=18, target_size=(224, 224))\n",
        "val = datagen.flow_from_directory(input_path+'val/',class_mode=\"categorical\", batch_size=18, target_size=(224, 224))\n",
        "test= datagen.flow_from_directory(input_path+'test/',class_mode=\"categorical\", batch_size=16, target_size=(224, 224))\n",
        "\n",
        "history = model.fit_generator(train,validation_data=val, epochs=5)#steps_per_epoch=2535,  #, verbose=0\n",
        "# evaluate model\n",
        "_, acc = model.evaluate_generator(test)#steps=299, , verbose=0\n",
        "\n",
        "#loss, accuracy, f1_score, precision, recall = model.evaluate(Xtest, ytest, verbose=0)\n",
        "\n",
        "print('> %.3f' % (acc * 100))\n",
        "\n",
        "\n",
        "\n"
      ],
      "execution_count": null,
      "outputs": [
        {
          "name": "stdout",
          "output_type": "stream",
          "text": [
            "Found 15998 images belonging to 2 classes.\n",
            "Found 4000 images belonging to 2 classes.\n",
            "Found 5002 images belonging to 2 classes.\n",
            "Epoch 1/5\n"
          ]
        },
        {
          "name": "stderr",
          "output_type": "stream",
          "text": [
            "/usr/local/lib/python3.7/dist-packages/keras/engine/training.py:1972: UserWarning: `Model.fit_generator` is deprecated and will be removed in a future version. Please use `Model.fit`, which supports generators.\n",
            "  warnings.warn('`Model.fit_generator` is deprecated and '\n"
          ]
        },
        {
          "name": "stdout",
          "output_type": "stream",
          "text": [
            "889/889 [==============================] - 438s 492ms/step - loss: 3.1434 - accuracy: 0.6242 - val_loss: 0.8351 - val_accuracy: 0.6645\n",
            "Epoch 2/5\n",
            "889/889 [==============================] - 436s 491ms/step - loss: 0.3297 - accuracy: 0.8780 - val_loss: 0.8712 - val_accuracy: 0.6835\n",
            "Epoch 3/5\n",
            "889/889 [==============================] - 437s 491ms/step - loss: 0.1373 - accuracy: 0.9607 - val_loss: 1.1307 - val_accuracy: 0.6693\n",
            "Epoch 4/5\n",
            "889/889 [==============================] - 436s 491ms/step - loss: 0.3516 - accuracy: 0.9226 - val_loss: 1.3738 - val_accuracy: 0.6700\n",
            "Epoch 5/5\n",
            "889/889 [==============================] - 436s 491ms/step - loss: 0.1345 - accuracy: 0.9639 - val_loss: 1.4667 - val_accuracy: 0.6697\n"
          ]
        },
        {
          "name": "stderr",
          "output_type": "stream",
          "text": [
            "/usr/local/lib/python3.7/dist-packages/keras/engine/training.py:2006: UserWarning: `Model.evaluate_generator` is deprecated and will be removed in a future version. Please use `Model.evaluate`, which supports generators.\n",
            "  warnings.warn('`Model.evaluate_generator` is deprecated and '\n"
          ]
        },
        {
          "name": "stdout",
          "output_type": "stream",
          "text": [
            "> 6.779\n"
          ]
        }
      ]
    },
    {
      "cell_type": "code",
      "metadata": {
        "colab": {
          "base_uri": "https://localhost:8080/"
        },
        "id": "CbYrgT9znAvF",
        "outputId": "e13f8bdf-2db1-4325-8981-4688d47146a6"
      },
      "source": [
        "y_pre=model.predict_generator(test)\n",
        "pre=[]\n",
        "for i in y_pre:\n",
        "    listss=list(i)\n",
        "    max_value = max(listss)\n",
        "    max_index = listss.index(max_value)\n",
        "    pre.append(max_index)\n",
        "y_true=test.classes\n",
        "#print(pre)\n",
        "#print(y_true)\n",
        "from sklearn.metrics import classification_report\n",
        "print(classification_report(y_true,pre))"
      ],
      "execution_count": null,
      "outputs": [
        {
          "name": "stderr",
          "output_type": "stream",
          "text": [
            "/usr/local/lib/python3.7/dist-packages/keras/engine/training.py:2035: UserWarning: `Model.predict_generator` is deprecated and will be removed in a future version. Please use `Model.predict`, which supports generators.\n",
            "  warnings.warn('`Model.predict_generator` is deprecated and '\n"
          ]
        },
        {
          "name": "stdout",
          "output_type": "stream",
          "text": [
            "              precision    recall  f1-score   support\n",
            "\n",
            "           0       0.50      0.52      0.51      2501\n",
            "           1       0.50      0.47      0.48      2501\n",
            "\n",
            "    accuracy                           0.50      5002\n",
            "   macro avg       0.50      0.50      0.50      5002\n",
            "weighted avg       0.50      0.50      0.50      5002\n",
            "\n"
          ]
        }
      ]
    },
    {
      "cell_type": "code",
      "metadata": {
        "colab": {
          "base_uri": "https://localhost:8080/",
          "height": 591
        },
        "id": "1DvFXAcWnA8C",
        "outputId": "7ff1b2b0-6bdb-4701-979f-17f41ed3ec14"
      },
      "source": [
        "\n",
        "from matplotlib import pyplot as plt\n",
        "# list all data in history\n",
        "print(history.history.keys())\n",
        "# summarize history for accuracy\n",
        "plt.plot(history.history['accuracy'], label='accuracy')\n",
        "plt.plot(history.history['val_accuracy'], label='val_accuracy')\n",
        "#plt.plot(history.history['test_accuracy'])\n",
        "plt.title('model accuracy')\n",
        "plt.ylabel('accuracy')\n",
        "plt.xlabel('epoch')\n",
        "#plt.legend(['train', 'test'], loc='upper left')\n",
        "plt.show()\n",
        "# summarize history for loss\n",
        "plt.plot(history.history['loss'], label='loss')\n",
        "plt.plot(history.history['val_loss'], label='val_loss')\n",
        "#plt.plot(history.history['test_loss'])\n",
        "plt.title('model loss')\n",
        "plt.ylabel('loss')\n",
        "plt.xlabel('epoch')\n",
        "#plt.legend(['train', 'test'], loc='upper left')\n",
        "plt.show()"
      ],
      "execution_count": null,
      "outputs": [
        {
          "name": "stdout",
          "output_type": "stream",
          "text": [
            "dict_keys(['loss', 'accuracy', 'val_loss', 'val_accuracy'])\n"
          ]
        },
        {
          "data": {
            "image/png": "[encoded data removed]",
            "text/plain": [
              "<Figure size 432x288 with 1 Axes>"
            ]
          },
          "metadata": {},
          "output_type": "display_data"
        },
        {
          "data": {
            "image/png": "[encoded data removed]",
            "text/plain": [
              "<Figure size 432x288 with 1 Axes>"
            ]
          },
          "metadata": {},
          "output_type": "display_data"
        }
      ]
    },
    {
      "cell_type": "markdown",
      "metadata": {
        "id": "Ag52ZM_Yy12d"
      },
      "source": [
        "#too simple model 1 with Normalize"
      ]
    },
    {
      "cell_type": "code",
      "metadata": {
        "colab": {
          "base_uri": "https://localhost:8080/"
        },
        "id": "L3LJsEwLy12e",
        "outputId": "e44c115e-0b49-44ee-f94e-f5e921dffa3f"
      },
      "source": [
        "model = define_model()\n",
        "input_path = '/content/'\n",
        "# create data generator\n",
        "#(tensor([0.6318, 0.5199, 0.4509]), tensor([0.2580, 0.2405, 0.2438]))\n",
        "datagen = ImageDataGenerator(rescale=1.0/255.0)\n",
        "\n",
        "\n",
        "train = datagen.flow_from_directory(input_path+'train/',class_mode=\"categorical\", batch_size=18, target_size=(224, 224))\n",
        "val = datagen.flow_from_directory(input_path+'val/',class_mode=\"categorical\", batch_size=18, target_size=(224, 224))\n",
        "test= datagen.flow_from_directory(input_path+'test/',class_mode=\"categorical\", batch_size=16, target_size=(224, 224))\n",
        "\n",
        "history = model.fit_generator(train,validation_data=val, epochs=5)#steps_per_epoch=2535,  #, verbose=0\n",
        "# evaluate model\n",
        "_, acc = model.evaluate_generator(test)#steps=299, , verbose=0\n",
        "\n",
        "#loss, accuracy, f1_score, precision, recall = model.evaluate(Xtest, ytest, verbose=0)\n",
        "\n",
        "print('> %.3f' % (acc * 100))\n",
        "\n",
        "\n",
        "\n"
      ],
      "execution_count": null,
      "outputs": [
        {
          "name": "stdout",
          "output_type": "stream",
          "text": [
            "Found 15998 images belonging to 2 classes.\n",
            "Found 4000 images belonging to 2 classes.\n",
            "Found 5002 images belonging to 2 classes.\n",
            "Epoch 1/5\n"
          ]
        },
        {
          "name": "stderr",
          "output_type": "stream",
          "text": [
            "/usr/local/lib/python3.7/dist-packages/keras/engine/training.py:1972: UserWarning: `Model.fit_generator` is deprecated and will be removed in a future version. Please use `Model.fit`, which supports generators.\n",
            "  warnings.warn('`Model.fit_generator` is deprecated and '\n"
          ]
        },
        {
          "name": "stdout",
          "output_type": "stream",
          "text": [
            "889/889 [==============================] - 423s 475ms/step - loss: 1.4781 - accuracy: 0.6066 - val_loss: 0.6342 - val_accuracy: 0.6465\n",
            "Epoch 2/5\n",
            "889/889 [==============================] - 421s 473ms/step - loss: 0.4815 - accuracy: 0.7757 - val_loss: 0.6652 - val_accuracy: 0.6647\n",
            "Epoch 3/5\n",
            "889/889 [==============================] - 420s 473ms/step - loss: 0.2378 - accuracy: 0.9115 - val_loss: 0.8264 - val_accuracy: 0.6582\n",
            "Epoch 4/5\n",
            "889/889 [==============================] - 421s 473ms/step - loss: 0.1222 - accuracy: 0.9694 - val_loss: 0.9856 - val_accuracy: 0.6693\n",
            "Epoch 5/5\n",
            "889/889 [==============================] - 421s 473ms/step - loss: 0.0640 - accuracy: 0.9856 - val_loss: 1.2090 - val_accuracy: 0.6392\n"
          ]
        },
        {
          "name": "stderr",
          "output_type": "stream",
          "text": [
            "/usr/local/lib/python3.7/dist-packages/keras/engine/training.py:2006: UserWarning: `Model.evaluate_generator` is deprecated and will be removed in a future version. Please use `Model.evaluate`, which supports generators.\n",
            "  warnings.warn('`Model.evaluate_generator` is deprecated and '\n"
          ]
        },
        {
          "name": "stdout",
          "output_type": "stream",
          "text": [
            "> 64.734\n"
          ]
        }
      ]
    },
    {
      "cell_type": "code",
      "metadata": {
        "colab": {
          "base_uri": "https://localhost:8080/"
        },
        "id": "dutuzXfiy12f",
        "outputId": "b58c7662-1b47-41e2-a2d9-396143f61ea3"
      },
      "source": [
        "y_pre=model.predict_generator(test)\n",
        "pre=[]\n",
        "for i in y_pre:\n",
        "    listss=list(i)\n",
        "    max_value = max(listss)\n",
        "    max_index = listss.index(max_value)\n",
        "    pre.append(max_index)\n",
        "y_true=test.classes\n",
        "#print(pre)\n",
        "#print(y_true)\n",
        "from sklearn.metrics import classification_report\n",
        "print(classification_report(y_true,pre))"
      ],
      "execution_count": null,
      "outputs": [
        {
          "name": "stderr",
          "output_type": "stream",
          "text": [
            "/usr/local/lib/python3.7/dist-packages/keras/engine/training.py:2035: UserWarning: `Model.predict_generator` is deprecated and will be removed in a future version. Please use `Model.predict`, which supports generators.\n",
            "  warnings.warn('`Model.predict_generator` is deprecated and '\n"
          ]
        },
        {
          "name": "stdout",
          "output_type": "stream",
          "text": [
            "              precision    recall  f1-score   support\n",
            "\n",
            "           0       0.50      0.53      0.51      2501\n",
            "           1       0.50      0.48      0.49      2501\n",
            "\n",
            "    accuracy                           0.50      5002\n",
            "   macro avg       0.50      0.50      0.50      5002\n",
            "weighted avg       0.50      0.50      0.50      5002\n",
            "\n"
          ]
        }
      ]
    },
    {
      "cell_type": "code",
      "metadata": {
        "colab": {
          "base_uri": "https://localhost:8080/",
          "height": 591
        },
        "id": "R72etl1Xy12g",
        "outputId": "b75b7142-bad9-46fe-f41c-6859a6fb3a26"
      },
      "source": [
        "\n",
        "from matplotlib import pyplot as plt\n",
        "# list all data in history\n",
        "print(history.history.keys())\n",
        "# summarize history for accuracy\n",
        "plt.plot(history.history['accuracy'], label='accuracy')\n",
        "plt.plot(history.history['val_accuracy'], label='val_accuracy')\n",
        "#plt.plot(history.history['test_accuracy'])\n",
        "plt.title('model accuracy')\n",
        "plt.ylabel('accuracy')\n",
        "plt.xlabel('epoch')\n",
        "#plt.legend(['train', 'test'], loc='upper left')\n",
        "plt.show()\n",
        "# summarize history for loss\n",
        "plt.plot(history.history['loss'], label='loss')\n",
        "plt.plot(history.history['val_loss'], label='val_loss')\n",
        "#plt.plot(history.history['test_loss'])\n",
        "plt.title('model loss')\n",
        "plt.ylabel('loss')\n",
        "plt.xlabel('epoch')\n",
        "#plt.legend(['train', 'test'], loc='upper left')\n",
        "plt.show()"
      ],
      "execution_count": null,
      "outputs": [
        {
          "name": "stdout",
          "output_type": "stream",
          "text": [
            "dict_keys(['loss', 'accuracy', 'val_loss', 'val_accuracy'])\n"
          ]
        },
        {
          "data": {
            "image/png": "[encoded data removed]",
            "text/plain": [
              "<Figure size 432x288 with 1 Axes>"
            ]
          },
          "metadata": {},
          "output_type": "display_data"
        },
        {
          "data": {
            "image/png": "[encoded data removed]",
            "text/plain": [
              "<Figure size 432x288 with 1 Axes>"
            ]
          },
          "metadata": {},
          "output_type": "display_data"
        }
      ]
    },
    {
      "cell_type": "markdown",
      "metadata": {
        "id": "YgMB9gPw8o3J"
      },
      "source": [
        "# Example when the convolution with strides is better than pooling\n",
        "The first layer in the ResNet uses convolution with strides. This is a great example of when striding gives you an advantage. This layer by itself significantly reduces the amount of computation that has to be done by the network in the subsequent layers. It compresses multiple 3x3 convolution (3 to be exact) in to one 7x7 convolution, to make sure that it has exactly the same receptive field as 3 convolution layers (even though it is less powerful in terms of what it can learn). At the same time this layer applies stride=2 that downsamples the image. Because this first layer in ResNet does convolution and downsampling at the same time, the operation becomes significantly cheaper computationally. If you use stride=1 and pooling for downsampling, then you will end up with convolution that does 4 times more computation + extra computation for the next pooling layer. The same trick was used in SqueezeNet and some other neural network architectures.\n",
        "\n",
        "#Example where pooling is better than convolution\n",
        "In the NIPS 2018, there was a new architecture presented called FishNet. One thing that they try is to fix the problems with the residual connections used in the ResNet. In the ResNet, in few places, they put 1x1 convolution in the skip connection when downsampling was applied to the image. This convolution layer makes gradient propagation harder. One of the major changes in their paper is that they get rid of the convolutions in the residual connections and replaced them with pooling and simple upscales/identities/concatenations. This solution fixes problem with gradient propagation in very deep networks.\n",
        "#'Striving for simplicity: The all convolutional net' https://arxiv.org/pdf/1412.6806.pdf. Quote from the paper:\n",
        "\n",
        "'We find that max-pooling can simply be replaced by a convolutional layer with increased stride without loss in accuracy on several image recognition benchmarks'"
      ]
    },
    {
      "cell_type": "markdown",
      "metadata": {
        "id": "cyemNjQQ9yCh"
      },
      "source": [
        "# RESNET 50 without loading the weights /0.898"
      ]
    },
    {
      "cell_type": "code",
      "metadata": {
        "id": "kbt47vsY-HIe"
      },
      "source": [
        "import cv2\n",
        "import numpy as np\n",
        "import os\n",
        "from tensorflow.keras.preprocessing.image import ImageDataGenerator\n",
        "from tensorflow.keras import backend as K\n",
        "import tensorflow.keras\n",
        "from tensorflow.keras.models import Sequential, Model,load_model\n",
        "#from keras.optimizers import SGD\n",
        "from tensorflow.keras.callbacks import EarlyStopping,ModelCheckpoint\n",
        "from google.colab.patches import cv2_imshow\n",
        "from tensorflow.keras.layers import Input, Add, Dense, Activation, ZeroPadding2D, BatchNormalization, Flatten, Conv2D, AveragePooling2D, MaxPooling2D, GlobalMaxPooling2D,MaxPool2D\n",
        "from tensorflow.keras.preprocessing import image\n",
        "from tensorflow.keras.initializers import glorot_uniform"
      ],
      "execution_count": null,
      "outputs": []
    },
    {
      "cell_type": "code",
      "metadata": {
        "id": "Phpulusv901j"
      },
      "source": [
        "def identity_block(X, f, filters, stage, block):\n",
        "   \n",
        "    conv_name_base = 'res' + str(stage) + block + '_branch'\n",
        "    bn_name_base = 'bn' + str(stage) + block + '_branch'\n",
        "    F1, F2, F3 = filters\n",
        "\n",
        "    X_shortcut = X\n",
        "   \n",
        "    X = Conv2D(filters=F1, kernel_size=(1, 1), strides=(1, 1), padding='valid', name=conv_name_base + '2a', kernel_initializer=glorot_uniform(seed=0))(X)\n",
        "    X = BatchNormalization(axis=3, name=bn_name_base + '2a')(X)\n",
        "    X = Activation('relu')(X)\n",
        "\n",
        "    X = Conv2D(filters=F2, kernel_size=(f, f), strides=(1, 1), padding='same', name=conv_name_base + '2b', kernel_initializer=glorot_uniform(seed=0))(X)\n",
        "    X = BatchNormalization(axis=3, name=bn_name_base + '2b')(X)\n",
        "    X = Activation('relu')(X)\n",
        "\n",
        "    X = Conv2D(filters=F3, kernel_size=(1, 1), strides=(1, 1), padding='valid', name=conv_name_base + '2c', kernel_initializer=glorot_uniform(seed=0))(X)\n",
        "    X = BatchNormalization(axis=3, name=bn_name_base + '2c')(X)\n",
        "\n",
        "    X = Add()([X, X_shortcut])# SKIP Connection\n",
        "    X = Activation('relu')(X)\n",
        "\n",
        "    return X"
      ],
      "execution_count": null,
      "outputs": []
    },
    {
      "cell_type": "code",
      "metadata": {
        "id": "0Vt40RI091a2"
      },
      "source": [
        "def convolutional_block(X, f, filters, stage, block, s=2):\n",
        "   \n",
        "    conv_name_base = 'res' + str(stage) + block + '_branch'\n",
        "    bn_name_base = 'bn' + str(stage) + block + '_branch'\n",
        "\n",
        "    F1, F2, F3 = filters\n",
        "\n",
        "    X_shortcut = X\n",
        "\n",
        "    X = Conv2D(filters=F1, kernel_size=(1, 1), strides=(s, s), padding='valid', name=conv_name_base + '2a', kernel_initializer=glorot_uniform(seed=0))(X)\n",
        "    X = BatchNormalization(axis=3, name=bn_name_base + '2a')(X)\n",
        "    X = Activation('relu')(X)\n",
        "\n",
        "    X = Conv2D(filters=F2, kernel_size=(f, f), strides=(1, 1), padding='same', name=conv_name_base + '2b', kernel_initializer=glorot_uniform(seed=0))(X)\n",
        "    X = BatchNormalization(axis=3, name=bn_name_base + '2b')(X)\n",
        "    X = Activation('relu')(X)\n",
        "\n",
        "    X = Conv2D(filters=F3, kernel_size=(1, 1), strides=(1, 1), padding='valid', name=conv_name_base + '2c', kernel_initializer=glorot_uniform(seed=0))(X)\n",
        "    X = BatchNormalization(axis=3, name=bn_name_base + '2c')(X)\n",
        "\n",
        "    X_shortcut = Conv2D(filters=F3, kernel_size=(1, 1), strides=(s, s), padding='valid', name=conv_name_base + '1', kernel_initializer=glorot_uniform(seed=0))(X_shortcut)\n",
        "    X_shortcut = BatchNormalization(axis=3, name=bn_name_base + '1')(X_shortcut)\n",
        "\n",
        "    X = Add()([X, X_shortcut])\n",
        "    X = Activation('relu')(X)\n",
        "\n",
        "    return X"
      ],
      "execution_count": null,
      "outputs": []
    },
    {
      "cell_type": "code",
      "metadata": {
        "id": "IInE5bw_96Ff"
      },
      "source": [
        "def ResNet50(input_shape=(224, 224, 3)):\n",
        "\n",
        "    X_input = Input(input_shape)\n",
        "\n",
        "    X = ZeroPadding2D((3, 3))(X_input)\n",
        "\n",
        "    X = Conv2D(64, (7, 7), strides=(2, 2), name='conv1', kernel_initializer=glorot_uniform(seed=0))(X)\n",
        "    X = BatchNormalization(axis=3, name='bn_conv1')(X)\n",
        "    X = Activation('relu')(X)\n",
        "    X = MaxPooling2D((3, 3), strides=(2, 2))(X)\n",
        "\n",
        "    X = convolutional_block(X, f=3, filters=[64, 64, 256], stage=2, block='a', s=1)\n",
        "    X = identity_block(X, 3, [64, 64, 256], stage=2, block='b')\n",
        "    X = identity_block(X, 3, [64, 64, 256], stage=2, block='c')\n",
        "\n",
        "\n",
        "    X = convolutional_block(X, f=3, filters=[128, 128, 512], stage=3, block='a', s=2)\n",
        "    X = identity_block(X, 3, [128, 128, 512], stage=3, block='b')\n",
        "    X = identity_block(X, 3, [128, 128, 512], stage=3, block='c')\n",
        "    X = identity_block(X, 3, [128, 128, 512], stage=3, block='d')\n",
        "\n",
        "    X = convolutional_block(X, f=3, filters=[256, 256, 1024], stage=4, block='a', s=2)\n",
        "    X = identity_block(X, 3, [256, 256, 1024], stage=4, block='b')\n",
        "    X = identity_block(X, 3, [256, 256, 1024], stage=4, block='c')\n",
        "    X = identity_block(X, 3, [256, 256, 1024], stage=4, block='d')\n",
        "    X = identity_block(X, 3, [256, 256, 1024], stage=4, block='e')\n",
        "    X = identity_block(X, 3, [256, 256, 1024], stage=4, block='f')\n",
        "\n",
        "    X = X = convolutional_block(X, f=3, filters=[512, 512, 2048], stage=5, block='a', s=2)\n",
        "    X = identity_block(X, 3, [512, 512, 2048], stage=5, block='b')\n",
        "    X = identity_block(X, 3, [512, 512, 2048], stage=5, block='c')\n",
        "\n",
        "    X = AveragePooling2D(pool_size=(2, 2), padding='same')(X)\n",
        "    \n",
        "    model = Model(inputs=X_input, outputs=X, name='ResNet50')\n",
        "\n",
        "    return model"
      ],
      "execution_count": null,
      "outputs": []
    },
    {
      "cell_type": "code",
      "metadata": {
        "id": "KC6BJgtg-O2z"
      },
      "source": [
        "base_model = ResNet50(input_shape=(224, 224, 3))"
      ],
      "execution_count": null,
      "outputs": []
    },
    {
      "cell_type": "code",
      "metadata": {
        "id": "yM3lVpMK-Rep"
      },
      "source": [
        "headModel = base_model.output\n",
        "headModel = Flatten()(headModel)\n",
        "headModel=Dense(256, activation='relu', name='fc1',kernel_initializer=glorot_uniform(seed=0))(headModel)\n",
        "headModel=Dense(128, activation='relu', name='fc2',kernel_initializer=glorot_uniform(seed=0))(headModel)\n",
        "headModel = Dense( 2,activation='softmax', name='fc3',kernel_initializer=glorot_uniform(seed=0))(headModel)"
      ],
      "execution_count": null,
      "outputs": []
    },
    {
      "cell_type": "code",
      "metadata": {
        "colab": {
          "base_uri": "https://localhost:8080/"
        },
        "id": "lSwerI42YLia",
        "outputId": "ad152bd9-a004-4983-88c0-72cb57221191"
      },
      "source": [
        "datagen = ImageDataGenerator( featurewise_center=True,featurewise_std_normalization=True)\n",
        "\n",
        "# specify imagenet mean values for centering\n",
        "\n",
        "datagen.mean = [0.485*255, 0.456*255, 0.406*255]#[0.6318*255, 0.5199*255, 0.4509*255]   \n",
        "datagen.std = 0.226*255\n",
        "# create data generator\n",
        "# prepare iterators\n",
        "train = datagen.flow_from_directory(input_path+'train/',class_mode=\"categorical\", batch_size=18, target_size=(224, 224))\n",
        "val = datagen.flow_from_directory(input_path+'val/',class_mode=\"categorical\", batch_size=18, target_size=(224, 224))\n",
        "test= datagen.flow_from_directory(input_path+'test/',class_mode=\"categorical\", batch_size=16, target_size=(224, 224))"
      ],
      "execution_count": null,
      "outputs": [
        {
          "name": "stdout",
          "output_type": "stream",
          "text": [
            "Found 15998 images belonging to 2 classes.\n",
            "Found 4000 images belonging to 2 classes.\n",
            "Found 5002 images belonging to 2 classes.\n"
          ]
        }
      ]
    },
    {
      "cell_type": "code",
      "metadata": {
        "colab": {
          "base_uri": "https://localhost:8080/"
        },
        "id": "bGBZp1za-UeW",
        "outputId": "6259e024-8913-4671-bbe1-f3bfec492dde"
      },
      "source": [
        "model = Model(inputs=base_model.input, outputs=headModel)\n",
        "model.compile(optimizer='adam', loss='categorical_crossentropy', metrics=['accuracy'])\n",
        "es=EarlyStopping(monitor='val_accuracy', mode='max', verbose=1, patience=10)\n",
        "mc = ModelCheckpoint('best_model.h5', monitor='val_accuracy', mode='max',save_best_only=True)\n",
        "history = model.fit_generator(train,validation_data=val,epochs=15,callbacks=[mc,es])"
      ],
      "execution_count": null,
      "outputs": [
        {
          "name": "stderr",
          "output_type": "stream",
          "text": [
            "/usr/local/lib/python3.7/dist-packages/ipykernel_launcher.py:5: UserWarning: `Model.fit_generator` is deprecated and will be removed in a future version. Please use `Model.fit`, which supports generators.\n",
            "  \"\"\"\n"
          ]
        },
        {
          "name": "stdout",
          "output_type": "stream",
          "text": [
            "Epoch 1/15\n",
            "889/889 [==============================] - ETA: 0s - loss: 1.1313 - accuracy: 0.5598"
          ]
        },
        {
          "name": "stderr",
          "output_type": "stream",
          "text": [
            "/usr/local/lib/python3.7/dist-packages/keras/engine/functional.py:1410: CustomMaskWarning: Custom mask layers require a config and must override get_config. When loading, the custom mask layer must be passed to the custom_objects argument.\n",
            "  layer_config = serialize_layer_fn(layer)\n"
          ]
        },
        {
          "name": "stdout",
          "output_type": "stream",
          "text": [
            "\b\b\b\b\b\b\b\b\b\b\b\b\b\b\b\b\b\b\b\b\b\b\b\b\b\b\b\b\b\b\b\b\b\b\b\b\b\b\b\b\b\b\b\b\b\b\b\b\b\b\b\b\b\b\b\b\b\b\b\b\b\b\b\b\b\b\b\b\b\b\b\b\b\b\b\b\b\b\b\b\b\b\b\b\r889/889 [==============================] - 489s 507ms/step - loss: 1.1313 - accuracy: 0.5598 - val_loss: 0.6905 - val_accuracy: 0.6025\n",
            "Epoch 2/15\n",
            "889/889 [==============================] - 448s 504ms/step - loss: 0.6211 - accuracy: 0.6505 - val_loss: 0.5659 - val_accuracy: 0.7072\n",
            "Epoch 3/15\n",
            "889/889 [==============================] - 448s 504ms/step - loss: 0.5685 - accuracy: 0.7020 - val_loss: 1.2116 - val_accuracy: 0.6628\n",
            "Epoch 4/15\n",
            "889/889 [==============================] - 448s 504ms/step - loss: 0.5301 - accuracy: 0.7347 - val_loss: 1.4980 - val_accuracy: 0.6248\n",
            "Epoch 5/15\n",
            "889/889 [==============================] - 449s 505ms/step - loss: 0.4963 - accuracy: 0.7604 - val_loss: 0.5638 - val_accuracy: 0.7395\n",
            "Epoch 6/15\n",
            "889/889 [==============================] - 447s 503ms/step - loss: 0.4416 - accuracy: 0.7985 - val_loss: 0.5551 - val_accuracy: 0.7368\n",
            "Epoch 7/15\n",
            "889/889 [==============================] - 448s 504ms/step - loss: 0.4009 - accuracy: 0.8175 - val_loss: 0.6413 - val_accuracy: 0.7667\n",
            "Epoch 8/15\n",
            "889/889 [==============================] - 449s 505ms/step - loss: 0.3526 - accuracy: 0.8464 - val_loss: 0.4089 - val_accuracy: 0.8142\n",
            "Epoch 9/15\n",
            "889/889 [==============================] - 447s 503ms/step - loss: 0.3261 - accuracy: 0.8594 - val_loss: 0.4446 - val_accuracy: 0.7987\n",
            "Epoch 10/15\n",
            "889/889 [==============================] - 449s 505ms/step - loss: 0.2888 - accuracy: 0.8782 - val_loss: 0.3685 - val_accuracy: 0.8370\n",
            "Epoch 11/15\n",
            "889/889 [==============================] - 449s 504ms/step - loss: 0.2686 - accuracy: 0.8879 - val_loss: 0.4063 - val_accuracy: 0.8105\n",
            "Epoch 12/15\n",
            "889/889 [==============================] - 449s 505ms/step - loss: 0.2397 - accuracy: 0.8980 - val_loss: 0.2716 - val_accuracy: 0.8815\n",
            "Epoch 13/15\n",
            "889/889 [==============================] - 447s 503ms/step - loss: 0.2121 - accuracy: 0.9109 - val_loss: 0.2934 - val_accuracy: 0.8730\n",
            "Epoch 14/15\n",
            "889/889 [==============================] - 449s 505ms/step - loss: 0.1956 - accuracy: 0.9212 - val_loss: 0.2493 - val_accuracy: 0.9050\n",
            "Epoch 15/15\n",
            "889/889 [==============================] - 447s 503ms/step - loss: 0.1695 - accuracy: 0.9322 - val_loss: 0.2917 - val_accuracy: 0.8915\n"
          ]
        }
      ]
    },
    {
      "cell_type": "code",
      "metadata": {
        "colab": {
          "base_uri": "https://localhost:8080/"
        },
        "id": "HorrbEEhCa2v",
        "outputId": "38dfa611-f97f-483d-eb79-2f7378ca8a80"
      },
      "source": [
        "model.load_weights(\"best_model.h5\")\n",
        "model.evaluate_generator(test)"
      ],
      "execution_count": null,
      "outputs": [
        {
          "name": "stderr",
          "output_type": "stream",
          "text": [
            "/usr/local/lib/python3.7/dist-packages/ipykernel_launcher.py:2: UserWarning: `Model.evaluate_generator` is deprecated and will be removed in a future version. Please use `Model.evaluate`, which supports generators.\n",
            "  \n"
          ]
        },
        {
          "data": {
            "text/plain": [
              "[0.261730819940567, 0.8988404870033264]"
            ]
          },
          "execution_count": 22,
          "metadata": {},
          "output_type": "execute_result"
        }
      ]
    },
    {
      "cell_type": "code",
      "metadata": {
        "colab": {
          "base_uri": "https://localhost:8080/",
          "height": 591
        },
        "id": "g6vImbPtCXAZ",
        "outputId": "1e427147-56e8-4d5e-8931-71e7a5766dd6"
      },
      "source": [
        "from matplotlib import pyplot as plt\n",
        "# list all data in history\n",
        "print(history.history.keys())\n",
        "# summarize history for accuracy\n",
        "plt.plot(history.history['accuracy'], label='accuracy')\n",
        "plt.plot(history.history['val_accuracy'], label='val_accuracy')\n",
        "#plt.plot(history.history['test_accuracy'])\n",
        "plt.title('model accuracy')\n",
        "plt.ylabel('accuracy')\n",
        "plt.xlabel('epoch')\n",
        "#plt.legend(['train', 'test'], loc='upper left')\n",
        "plt.show()\n",
        "# summarize history for loss\n",
        "plt.plot(history.history['loss'], label='loss')\n",
        "plt.plot(history.history['val_loss'], label='val_loss')\n",
        "#plt.plot(history.history['test_loss'])\n",
        "plt.title('model loss')\n",
        "plt.ylabel('loss')\n",
        "plt.xlabel('epoch')\n",
        "#plt.legend(['train', 'test'], loc='upper left')\n",
        "plt.show()"
      ],
      "execution_count": null,
      "outputs": [
        {
          "name": "stdout",
          "output_type": "stream",
          "text": [
            "dict_keys(['loss', 'accuracy', 'val_loss', 'val_accuracy'])\n"
          ]
        },
        {
          "data": {
            "image/png": "[encoded data removed]",
            "text/plain": [
              "<Figure size 432x288 with 1 Axes>"
            ]
          },
          "metadata": {},
          "output_type": "display_data"
        },
        {
          "data": {
            "image/png": "[encoded data removed]",
            "text/plain": [
              "<Figure size 432x288 with 1 Axes>"
            ]
          },
          "metadata": {},
          "output_type": "display_data"
        }
      ]
    },
    {
      "cell_type": "markdown",
      "metadata": {
        "id": "IkmItWlOA7FE"
      },
      "source": [
        "# RESNET 50 transfer learning, fine_tuning / 0.826"
      ]
    },
    {
      "cell_type": "code",
      "metadata": {
        "id": "ug-ZzhOxA7FG"
      },
      "source": [
        "import cv2\n",
        "import numpy as np\n",
        "import os\n",
        "from tensorflow.keras.preprocessing.image import ImageDataGenerator\n",
        "from tensorflow.keras import backend as K\n",
        "import tensorflow.keras\n",
        "from tensorflow.keras.models import Sequential, Model,load_model\n",
        "#from keras.optimizers import SGD\n",
        "from tensorflow.keras.callbacks import EarlyStopping,ModelCheckpoint\n",
        "from google.colab.patches import cv2_imshow\n",
        "from tensorflow.keras.layers import Input, Add, Dense, Activation, ZeroPadding2D, BatchNormalization, Flatten, Conv2D, AveragePooling2D, MaxPooling2D, GlobalMaxPooling2D,MaxPool2D\n",
        "from tensorflow.keras.preprocessing import image\n",
        "from tensorflow.keras.initializers import glorot_uniform"
      ],
      "execution_count": null,
      "outputs": []
    },
    {
      "cell_type": "code",
      "metadata": {
        "id": "WjWsB7U7A7FG"
      },
      "source": [
        "def identity_block(X, f, filters, stage, block):\n",
        "   \n",
        "    conv_name_base = 'res' + str(stage) + block + '_branch'\n",
        "    bn_name_base = 'bn' + str(stage) + block + '_branch'\n",
        "    F1, F2, F3 = filters\n",
        "\n",
        "    X_shortcut = X\n",
        "   \n",
        "    X = Conv2D(filters=F1, kernel_size=(1, 1), strides=(1, 1), padding='valid', name=conv_name_base + '2a', kernel_initializer=glorot_uniform(seed=0))(X)\n",
        "    X = BatchNormalization(axis=3, name=bn_name_base + '2a')(X)\n",
        "    X = Activation('relu')(X)\n",
        "\n",
        "    X = Conv2D(filters=F2, kernel_size=(f, f), strides=(1, 1), padding='same', name=conv_name_base + '2b', kernel_initializer=glorot_uniform(seed=0))(X)\n",
        "    X = BatchNormalization(axis=3, name=bn_name_base + '2b')(X)\n",
        "    X = Activation('relu')(X)\n",
        "\n",
        "    X = Conv2D(filters=F3, kernel_size=(1, 1), strides=(1, 1), padding='valid', name=conv_name_base + '2c', kernel_initializer=glorot_uniform(seed=0))(X)\n",
        "    X = BatchNormalization(axis=3, name=bn_name_base + '2c')(X)\n",
        "\n",
        "    X = Add()([X, X_shortcut])# SKIP Connection\n",
        "    X = Activation('relu')(X)\n",
        "\n",
        "    return X"
      ],
      "execution_count": null,
      "outputs": []
    },
    {
      "cell_type": "code",
      "metadata": {
        "id": "WNiV2P9pA7FG"
      },
      "source": [
        "def convolutional_block(X, f, filters, stage, block, s=2):\n",
        "   \n",
        "    conv_name_base = 'res' + str(stage) + block + '_branch'\n",
        "    bn_name_base = 'bn' + str(stage) + block + '_branch'\n",
        "\n",
        "    F1, F2, F3 = filters\n",
        "\n",
        "    X_shortcut = X\n",
        "\n",
        "    X = Conv2D(filters=F1, kernel_size=(1, 1), strides=(s, s), padding='valid', name=conv_name_base + '2a', kernel_initializer=glorot_uniform(seed=0))(X)\n",
        "    X = BatchNormalization(axis=3, name=bn_name_base + '2a')(X)\n",
        "    X = Activation('relu')(X)\n",
        "\n",
        "    X = Conv2D(filters=F2, kernel_size=(f, f), strides=(1, 1), padding='same', name=conv_name_base + '2b', kernel_initializer=glorot_uniform(seed=0))(X)\n",
        "    X = BatchNormalization(axis=3, name=bn_name_base + '2b')(X)\n",
        "    X = Activation('relu')(X)\n",
        "\n",
        "    X = Conv2D(filters=F3, kernel_size=(1, 1), strides=(1, 1), padding='valid', name=conv_name_base + '2c', kernel_initializer=glorot_uniform(seed=0))(X)\n",
        "    X = BatchNormalization(axis=3, name=bn_name_base + '2c')(X)\n",
        "\n",
        "    X_shortcut = Conv2D(filters=F3, kernel_size=(1, 1), strides=(s, s), padding='valid', name=conv_name_base + '1', kernel_initializer=glorot_uniform(seed=0))(X_shortcut)\n",
        "    X_shortcut = BatchNormalization(axis=3, name=bn_name_base + '1')(X_shortcut)\n",
        "\n",
        "    X = Add()([X, X_shortcut])\n",
        "    X = Activation('relu')(X)\n",
        "\n",
        "    return X"
      ],
      "execution_count": null,
      "outputs": []
    },
    {
      "cell_type": "code",
      "metadata": {
        "id": "eKIGWDBbA7FG"
      },
      "source": [
        "def ResNet50(input_shape=(224, 224, 3)):\n",
        "\n",
        "    X_input = Input(input_shape)\n",
        "\n",
        "    X = ZeroPadding2D((3, 3))(X_input)\n",
        "\n",
        "    X = Conv2D(64, (7, 7), strides=(2, 2), name='conv1', kernel_initializer=glorot_uniform(seed=0))(X)\n",
        "    X = BatchNormalization(axis=3, name='bn_conv1')(X)\n",
        "    X = Activation('relu')(X)\n",
        "    X = MaxPooling2D((3, 3), strides=(2, 2))(X)\n",
        "\n",
        "    X = convolutional_block(X, f=3, filters=[64, 64, 256], stage=2, block='a', s=1)\n",
        "    X = identity_block(X, 3, [64, 64, 256], stage=2, block='b')\n",
        "    X = identity_block(X, 3, [64, 64, 256], stage=2, block='c')\n",
        "\n",
        "\n",
        "    X = convolutional_block(X, f=3, filters=[128, 128, 512], stage=3, block='a', s=2)\n",
        "    X = identity_block(X, 3, [128, 128, 512], stage=3, block='b')\n",
        "    X = identity_block(X, 3, [128, 128, 512], stage=3, block='c')\n",
        "    X = identity_block(X, 3, [128, 128, 512], stage=3, block='d')\n",
        "\n",
        "    X = convolutional_block(X, f=3, filters=[256, 256, 1024], stage=4, block='a', s=2)\n",
        "    X = identity_block(X, 3, [256, 256, 1024], stage=4, block='b')\n",
        "    X = identity_block(X, 3, [256, 256, 1024], stage=4, block='c')\n",
        "    X = identity_block(X, 3, [256, 256, 1024], stage=4, block='d')\n",
        "    X = identity_block(X, 3, [256, 256, 1024], stage=4, block='e')\n",
        "    X = identity_block(X, 3, [256, 256, 1024], stage=4, block='f')\n",
        "\n",
        "    X = X = convolutional_block(X, f=3, filters=[512, 512, 2048], stage=5, block='a', s=2)\n",
        "    X = identity_block(X, 3, [512, 512, 2048], stage=5, block='b')\n",
        "    X = identity_block(X, 3, [512, 512, 2048], stage=5, block='c')\n",
        "\n",
        "    X = AveragePooling2D(pool_size=(2, 2), padding='same')(X)\n",
        "    \n",
        "    model = Model(inputs=X_input, outputs=X, name='ResNet50')\n",
        "\n",
        "    return model"
      ],
      "execution_count": null,
      "outputs": []
    },
    {
      "cell_type": "code",
      "metadata": {
        "id": "wlUxJtIFA7FG"
      },
      "source": [
        "base_model = ResNet50(input_shape=(224, 224, 3))"
      ],
      "execution_count": null,
      "outputs": []
    },
    {
      "cell_type": "code",
      "metadata": {
        "id": "m7jfZXBYA7FG"
      },
      "source": [
        "headModel = base_model.output\n",
        "headModel = Flatten()(headModel)\n",
        "headModel=Dense(256, activation='relu', name='fc1',kernel_initializer=glorot_uniform(seed=0))(headModel)\n",
        "headModel=Dense(128, activation='relu', name='fc2',kernel_initializer=glorot_uniform(seed=0))(headModel)\n",
        "headModel = Dense( 2,activation='softmax', name='fc3',kernel_initializer=glorot_uniform(seed=0))(headModel)"
      ],
      "execution_count": null,
      "outputs": []
    },
    {
      "cell_type": "code",
      "metadata": {
        "id": "qgBLrwVdA7FH"
      },
      "source": [
        "#download model\n",
        "import requests\n",
        "#https://drive.google.com/uc?export=download&id=1n7rGZsAvwr6Le-IEHWBgA7ihz3pZA1DE\n",
        "def download_file_from_google_drive(id, destination):\n",
        "    URL = \"https://docs.google.com/uc?export=download\"\n",
        "    session = requests.Session()\n",
        "    response = session.get(URL, params = { 'id' : id }, stream = True)\n",
        "    token = get_confirm_token(response)\n",
        "    if token:\n",
        "        params = { 'id' : id, 'confirm' : token }\n",
        "        response = session.get(URL, params = params, stream = True)\n",
        "    save_response_content(response, destination)    \n",
        "def get_confirm_token(response):\n",
        "    for key, value in response.cookies.items():\n",
        "        if key.startswith('download_warning'):\n",
        "            return value\n",
        "    return None\n",
        "def save_response_content(response, destination):\n",
        "    CHUNK_SIZE = 32768\n",
        "    with open(destination, \"wb\") as f:\n",
        "        for chunk in response.iter_content(CHUNK_SIZE):\n",
        "            if chunk: # filter out keep-alive new chunks\n",
        "                f.write(chunk)\n",
        "class_m=0   \n",
        "plus=True               \n",
        "file_id = '1n7rGZsAvwr6Le-IEHWBgA7ihz3pZA1DE'\n",
        "destination = 'resnet50_weights_tf_dim_ordering_tf_kernels_notop.h5'\n",
        "download_file_from_google_drive(file_id, destination)  \n"
      ],
      "execution_count": null,
      "outputs": []
    },
    {
      "cell_type": "code",
      "metadata": {
        "id": "3F_TJZ8SA7FH"
      },
      "source": [
        "#Load the pre-trained weights of the model\n",
        "base_model.load_weights(\"/content/resnet50_weights_tf_dim_ordering_tf_kernels_notop.h5\")"
      ],
      "execution_count": null,
      "outputs": []
    },
    {
      "cell_type": "code",
      "metadata": {
        "id": "gQbTI7u6A7FH"
      },
      "source": [
        "for layer in base_model.layers:\n",
        "    layer.trainable = False"
      ],
      "execution_count": null,
      "outputs": []
    },
    {
      "cell_type": "code",
      "metadata": {
        "id": "eA9L6NbhA7FH"
      },
      "source": [
        "model = Model(inputs=base_model.input, outputs=headModel)"
      ],
      "execution_count": null,
      "outputs": []
    },
    {
      "cell_type": "code",
      "metadata": {
        "colab": {
          "base_uri": "https://localhost:8080/"
        },
        "id": "D2dr7tttA7FH",
        "outputId": "d64e75e1-4e40-488d-f828-590ad80b4ff1"
      },
      "source": [
        "for layer in model.layers:\n",
        "    print(layer, layer.trainable)"
      ],
      "execution_count": null,
      "outputs": [
        {
          "name": "stdout",
          "output_type": "stream",
          "text": [
            "<keras.engine.input_layer.InputLayer object at 0x7fa21f2cca10> False\n",
            "<keras.layers.convolutional.ZeroPadding2D object at 0x7fa21f2cc410> False\n",
            "<keras.layers.convolutional.Conv2D object at 0x7fa21cd6a450> False\n",
            "<keras.layers.normalization.batch_normalization.BatchNormalization object at 0x7fa21f2585d0> False\n",
            "<keras.layers.core.activation.Activation object at 0x7fa318115410> False\n",
            "<keras.layers.pooling.MaxPooling2D object at 0x7fa38cab5c90> False\n",
            "<keras.layers.convolutional.Conv2D object at 0x7fa21f2a9a90> False\n",
            "<keras.layers.normalization.batch_normalization.BatchNormalization object at 0x7fa21f2c49d0> False\n",
            "<keras.layers.core.activation.Activation object at 0x7fa294704d50> False\n",
            "<keras.layers.convolutional.Conv2D object at 0x7fa21f260810> False\n",
            "<keras.layers.normalization.batch_normalization.BatchNormalization object at 0x7fa21f26d050> False\n",
            "<keras.layers.core.activation.Activation object at 0x7fa21f279810> False\n",
            "<keras.layers.convolutional.Conv2D object at 0x7fa21f287590> False\n",
            "<keras.layers.convolutional.Conv2D object at 0x7fa21f288ed0> False\n",
            "<keras.layers.normalization.batch_normalization.BatchNormalization object at 0x7fa21f287290> False\n",
            "<keras.layers.normalization.batch_normalization.BatchNormalization object at 0x7fa21f214a90> False\n",
            "<keras.layers.merge.Add object at 0x7fa21f219610> False\n",
            "<keras.layers.core.activation.Activation object at 0x7fa21f2148d0> False\n",
            "<keras.layers.convolutional.Conv2D object at 0x7fa30018a490> False\n",
            "<keras.layers.normalization.batch_normalization.BatchNormalization object at 0x7fa21f287150> False\n",
            "<keras.layers.core.activation.Activation object at 0x7fa21f22c7d0> False\n",
            "<keras.layers.convolutional.Conv2D object at 0x7fa21f21a590> False\n",
            "<keras.layers.normalization.batch_normalization.BatchNormalization object at 0x7fa21f27f490> False\n",
            "<keras.layers.core.activation.Activation object at 0x7fa21f23b890> False\n",
            "<keras.layers.convolutional.Conv2D object at 0x7fa21f2884d0> False\n",
            "<keras.layers.normalization.batch_normalization.BatchNormalization object at 0x7fa21f235110> False\n",
            "<keras.layers.merge.Add object at 0x7fa21f24d890> False\n",
            "<keras.layers.core.activation.Activation object at 0x7fa21f24d1d0> False\n",
            "<keras.layers.convolutional.Conv2D object at 0x7fa21f251350> False\n",
            "<keras.layers.normalization.batch_normalization.BatchNormalization object at 0x7fa21f244e10> False\n",
            "<keras.layers.core.activation.Activation object at 0x7fa21f1e16d0> False\n",
            "<keras.layers.convolutional.Conv2D object at 0x7fa21f251ad0> False\n",
            "<keras.layers.normalization.batch_normalization.BatchNormalization object at 0x7fa21f235090> False\n",
            "<keras.layers.core.activation.Activation object at 0x7fa21f1f0490> False\n",
            "<keras.layers.convolutional.Conv2D object at 0x7fa21f1ef0d0> False\n",
            "<keras.layers.normalization.batch_normalization.BatchNormalization object at 0x7fa21f1f08d0> False\n",
            "<keras.layers.merge.Add object at 0x7fa21f1fedd0> False\n",
            "<keras.layers.core.activation.Activation object at 0x7fa21f1fe710> False\n",
            "<keras.layers.convolutional.Conv2D object at 0x7fa21f1f87d0> False\n",
            "<keras.layers.normalization.batch_normalization.BatchNormalization object at 0x7fa21f1f8910> False\n",
            "<keras.layers.core.activation.Activation object at 0x7fa21f1e19d0> False\n",
            "<keras.layers.convolutional.Conv2D object at 0x7fa21f23e290> False\n",
            "<keras.layers.normalization.batch_normalization.BatchNormalization object at 0x7fa21f23ed10> False\n",
            "<keras.layers.core.activation.Activation object at 0x7fa21f21ac10> False\n",
            "<keras.layers.convolutional.Conv2D object at 0x7fa21f214c90> False\n",
            "<keras.layers.convolutional.Conv2D object at 0x7fa21f2d2a90> False\n",
            "<keras.layers.normalization.batch_normalization.BatchNormalization object at 0x7fa21f23bed0> False\n",
            "<keras.layers.normalization.batch_normalization.BatchNormalization object at 0x7fa21f2be350> False\n",
            "<keras.layers.merge.Add object at 0x7fa21f27fe10> False\n",
            "<keras.layers.core.activation.Activation object at 0x7fa21f22cb10> False\n",
            "<keras.layers.convolutional.Conv2D object at 0x7fa21f19d790> False\n",
            "<keras.layers.normalization.batch_normalization.BatchNormalization object at 0x7fa21f194410> False\n",
            "<keras.layers.core.activation.Activation object at 0x7fa21f27ff10> False\n",
            "<keras.layers.convolutional.Conv2D object at 0x7fa21f1a6290> False\n",
            "<keras.layers.normalization.batch_normalization.BatchNormalization object at 0x7fa21f1b0dd0> False\n",
            "<keras.layers.core.activation.Activation object at 0x7fa21f1a6410> False\n",
            "<keras.layers.convolutional.Conv2D object at 0x7fa21f1b0110> False\n",
            "<keras.layers.normalization.batch_normalization.BatchNormalization object at 0x7fa21f1c2110> False\n",
            "<keras.layers.merge.Add object at 0x7fa21f1c2810> False\n",
            "<keras.layers.core.activation.Activation object at 0x7fa21f1c2210> False\n",
            "<keras.layers.convolutional.Conv2D object at 0x7fa21f1bb0d0> False\n",
            "<keras.layers.normalization.batch_normalization.BatchNormalization object at 0x7fa21f1d3d10> False\n",
            "<keras.layers.core.activation.Activation object at 0x7fa21f1cd490> False\n",
            "<keras.layers.convolutional.Conv2D object at 0x7fa21f20cd50> False\n",
            "<keras.layers.normalization.batch_normalization.BatchNormalization object at 0x7fa21f159dd0> False\n",
            "<keras.layers.core.activation.Activation object at 0x7fa21f162f90> False\n",
            "<keras.layers.convolutional.Conv2D object at 0x7fa21f15a850> False\n",
            "<keras.layers.normalization.batch_normalization.BatchNormalization object at 0x7fa21f15aad0> False\n",
            "<keras.layers.merge.Add object at 0x7fa21f168dd0> False\n",
            "<keras.layers.core.activation.Activation object at 0x7fa21f17a610> False\n",
            "<keras.layers.convolutional.Conv2D object at 0x7fa21f17ef50> False\n",
            "<keras.layers.normalization.batch_normalization.BatchNormalization object at 0x7fa21f17ec50> False\n",
            "<keras.layers.core.activation.Activation object at 0x7fa21f185f50> False\n",
            "<keras.layers.convolutional.Conv2D object at 0x7fa21f18ad50> False\n",
            "<keras.layers.normalization.batch_normalization.BatchNormalization object at 0x7fa21f18ad90> False\n",
            "<keras.layers.core.activation.Activation object at 0x7fa21f1217d0> False\n",
            "<keras.layers.convolutional.Conv2D object at 0x7fa21f121cd0> False\n",
            "<keras.layers.normalization.batch_normalization.BatchNormalization object at 0x7fa21f1218d0> False\n",
            "<keras.layers.merge.Add object at 0x7fa21f12e710> False\n",
            "<keras.layers.core.activation.Activation object at 0x7fa21f1310d0> False\n",
            "<keras.layers.convolutional.Conv2D object at 0x7fa21f192650> False\n",
            "<keras.layers.normalization.batch_normalization.BatchNormalization object at 0x7fa21f11a610> False\n",
            "<keras.layers.core.activation.Activation object at 0x7fa21f192710> False\n",
            "<keras.layers.convolutional.Conv2D object at 0x7fa21f191c90> False\n",
            "<keras.layers.normalization.batch_normalization.BatchNormalization object at 0x7fa21f126990> False\n",
            "<keras.layers.core.activation.Activation object at 0x7fa21f159410> False\n",
            "<keras.layers.convolutional.Conv2D object at 0x7fa21f1b50d0> False\n",
            "<keras.layers.convolutional.Conv2D object at 0x7fa21f289610> False\n",
            "<keras.layers.normalization.batch_normalization.BatchNormalization object at 0x7fa21f1bb2d0> False\n",
            "<keras.layers.normalization.batch_normalization.BatchNormalization object at 0x7fa21f2c48d0> False\n",
            "<keras.layers.merge.Add object at 0x7fa21f126a10> False\n",
            "<keras.layers.core.activation.Activation object at 0x7fa21f1626d0> False\n",
            "<keras.layers.convolutional.Conv2D object at 0x7fa21f141350> False\n",
            "<keras.layers.normalization.batch_normalization.BatchNormalization object at 0x7fa21f1226d0> False\n",
            "<keras.layers.core.activation.Activation object at 0x7fa21f141410> False\n",
            "<keras.layers.convolutional.Conv2D object at 0x7fa21f13a750> False\n",
            "<keras.layers.normalization.batch_normalization.BatchNormalization object at 0x7fa21f14f3d0> False\n",
            "<keras.layers.core.activation.Activation object at 0x7fa21f147610> False\n",
            "<keras.layers.convolutional.Conv2D object at 0x7fa21f266490> False\n",
            "<keras.layers.normalization.batch_normalization.BatchNormalization object at 0x7fa21f27f410> False\n",
            "<keras.layers.merge.Add object at 0x7fa21f266410> False\n",
            "<keras.layers.core.activation.Activation object at 0x7fa21f103c90> False\n",
            "<keras.layers.convolutional.Conv2D object at 0x7fa21f0fe650> False\n",
            "<keras.layers.normalization.batch_normalization.BatchNormalization object at 0x7fa21f0f9750> False\n",
            "<keras.layers.core.activation.Activation object at 0x7fa21f0f4890> False\n",
            "<keras.layers.convolutional.Conv2D object at 0x7fa21f109490> False\n",
            "<keras.layers.normalization.batch_normalization.BatchNormalization object at 0x7fa21f109a50> False\n",
            "<keras.layers.core.activation.Activation object at 0x7fa21f0f9290> False\n",
            "<keras.layers.convolutional.Conv2D object at 0x7fa21f09cf90> False\n",
            "<keras.layers.normalization.batch_normalization.BatchNormalization object at 0x7fa21f0a4d90> False\n",
            "<keras.layers.merge.Add object at 0x7fa21f0a4890> False\n",
            "<keras.layers.core.activation.Activation object at 0x7fa21f0a4990> False\n",
            "<keras.layers.convolutional.Conv2D object at 0x7fa21f0afa90> False\n",
            "<keras.layers.normalization.batch_normalization.BatchNormalization object at 0x7fa21f0b6810> False\n",
            "<keras.layers.core.activation.Activation object at 0x7fa21f0af710> False\n",
            "<keras.layers.convolutional.Conv2D object at 0x7fa21f0b6ed0> False\n",
            "<keras.layers.normalization.batch_normalization.BatchNormalization object at 0x7fa21f0aca90> False\n",
            "<keras.layers.core.activation.Activation object at 0x7fa21f0f9c50> False\n",
            "<keras.layers.convolutional.Conv2D object at 0x7fa21f097190> False\n",
            "<keras.layers.normalization.batch_normalization.BatchNormalization object at 0x7fa21f0c6b50> False\n",
            "<keras.layers.merge.Add object at 0x7fa21f057690> False\n",
            "<keras.layers.core.activation.Activation object at 0x7fa21f097710> False\n",
            "<keras.layers.convolutional.Conv2D object at 0x7fa21f0bc050> False\n",
            "<keras.layers.normalization.batch_normalization.BatchNormalization object at 0x7fa21f0af390> False\n",
            "<keras.layers.core.activation.Activation object at 0x7fa21f0a4790> False\n",
            "<keras.layers.convolutional.Conv2D object at 0x7fa21f0a1b50> False\n",
            "<keras.layers.normalization.batch_normalization.BatchNormalization object at 0x7fa21f103a10> False\n",
            "<keras.layers.core.activation.Activation object at 0x7fa21f0d8ad0> False\n",
            "<keras.layers.convolutional.Conv2D object at 0x7fa21f1d8590> False\n",
            "<keras.layers.normalization.batch_normalization.BatchNormalization object at 0x7fa21f0e9310> False\n",
            "<keras.layers.merge.Add object at 0x7fa21f2665d0> False\n",
            "<keras.layers.core.activation.Activation object at 0x7fa21f15ab10> False\n",
            "<keras.layers.convolutional.Conv2D object at 0x7fa21f19d510> False\n",
            "<keras.layers.normalization.batch_normalization.BatchNormalization object at 0x7fa21f110590> False\n",
            "<keras.layers.core.activation.Activation object at 0x7fa21f064390> False\n",
            "<keras.layers.convolutional.Conv2D object at 0x7fa21f064810> False\n",
            "<keras.layers.normalization.batch_normalization.BatchNormalization object at 0x7fa21f064490> False\n",
            "<keras.layers.core.activation.Activation object at 0x7fa21f0761d0> False\n",
            "<keras.layers.convolutional.Conv2D object at 0x7fa21f07b310> False\n",
            "<keras.layers.normalization.batch_normalization.BatchNormalization object at 0x7fa21f076210> False\n",
            "<keras.layers.merge.Add object at 0x7fa21f103e50> False\n",
            "<keras.layers.core.activation.Activation object at 0x7fa21f060e90> False\n",
            "<keras.layers.convolutional.Conv2D object at 0x7fa21f08af90> False\n",
            "<keras.layers.normalization.batch_normalization.BatchNormalization object at 0x7fa21f06bc10> False\n",
            "<keras.layers.core.activation.Activation object at 0x7fa21f01a450> False\n",
            "<keras.layers.convolutional.Conv2D object at 0x7fa21f018050> False\n",
            "<keras.layers.normalization.batch_normalization.BatchNormalization object at 0x7fa21f01ac10> False\n",
            "<keras.layers.core.activation.Activation object at 0x7fa21f0316d0> False\n",
            "<keras.layers.convolutional.Conv2D object at 0x7fa21f02ef90> False\n",
            "<keras.layers.convolutional.Conv2D object at 0x7fa21f045910> False\n",
            "<keras.layers.normalization.batch_normalization.BatchNormalization object at 0x7fa21f031150> False\n",
            "<keras.layers.normalization.batch_normalization.BatchNormalization object at 0x7fa21f04a5d0> False\n",
            "<keras.layers.merge.Add object at 0x7fa21f03f9d0> False\n",
            "<keras.layers.core.activation.Activation object at 0x7fa21f04ab50> False\n",
            "<keras.layers.convolutional.Conv2D object at 0x7fa21efdbd10> False\n",
            "<keras.layers.normalization.batch_normalization.BatchNormalization object at 0x7fa21efdb550> False\n",
            "<keras.layers.core.activation.Activation object at 0x7fa21f050c50> False\n",
            "<keras.layers.convolutional.Conv2D object at 0x7fa21efdefd0> False\n",
            "<keras.layers.normalization.batch_normalization.BatchNormalization object at 0x7fa21efebdd0> False\n",
            "<keras.layers.core.activation.Activation object at 0x7fa21efde190> False\n",
            "<keras.layers.convolutional.Conv2D object at 0x7fa21eff1b10> False\n",
            "<keras.layers.normalization.batch_normalization.BatchNormalization object at 0x7fa21f001690> False\n",
            "<keras.layers.merge.Add object at 0x7fa21effbad0> False\n",
            "<keras.layers.core.activation.Activation object at 0x7fa21f0012d0> False\n",
            "<keras.layers.convolutional.Conv2D object at 0x7fa21eff1dd0> False\n",
            "<keras.layers.normalization.batch_normalization.BatchNormalization object at 0x7fa21f0290d0> False\n",
            "<keras.layers.core.activation.Activation object at 0x7fa21f033090> False\n",
            "<keras.layers.convolutional.Conv2D object at 0x7fa21eff6810> False\n",
            "<keras.layers.normalization.batch_normalization.BatchNormalization object at 0x7fa21f018dd0> False\n",
            "<keras.layers.core.activation.Activation object at 0x7fa21f01a910> False\n",
            "<keras.layers.convolutional.Conv2D object at 0x7fa21f1b5f90> False\n",
            "<keras.layers.normalization.batch_normalization.BatchNormalization object at 0x7fa21f076990> False\n",
            "<keras.layers.merge.Add object at 0x7fa21f1a9fd0> False\n",
            "<keras.layers.core.activation.Activation object at 0x7fa21f1bb4d0> False\n",
            "<keras.layers.pooling.AveragePooling2D object at 0x7fa21eff6f90> False\n",
            "<keras.layers.core.flatten.Flatten object at 0x7fa30013aa10> True\n",
            "<keras.layers.core.dense.Dense object at 0x7fa30013a3d0> True\n",
            "<keras.layers.core.dense.Dense object at 0x7fa300191250> True\n",
            "<keras.layers.core.dense.Dense object at 0x7fa21e76d350> True\n"
          ]
        }
      ]
    },
    {
      "cell_type": "code",
      "metadata": {
        "colab": {
          "base_uri": "https://localhost:8080/"
        },
        "id": "XtcjKKHuaofY",
        "outputId": "c7d9b376-5024-46d4-eb63-3fa17a5e0513"
      },
      "source": [
        "datagen = ImageDataGenerator( featurewise_center=True,featurewise_std_normalization=True)\n",
        "# specify imagenet mean values for centering\n",
        "datagen.mean = [0.485*255, 0.456*255, 0.406*255]#[0.6318*255, 0.5199*255, 0.4509*255]   \n",
        "datagen.std = 0.226*255\n",
        "# create data generator\n",
        "# prepare iterators\n",
        "train = datagen.flow_from_directory(input_path+'train/',class_mode=\"categorical\", batch_size=18, target_size=(224, 224))\n",
        "val = datagen.flow_from_directory(input_path+'val/',class_mode=\"categorical\", batch_size=18, target_size=(224, 224))\n",
        "test= datagen.flow_from_directory(input_path+'test/',class_mode=\"categorical\", batch_size=16, target_size=(224, 224))"
      ],
      "execution_count": null,
      "outputs": [
        {
          "name": "stdout",
          "output_type": "stream",
          "text": [
            "Found 15998 images belonging to 2 classes.\n",
            "Found 4000 images belonging to 2 classes.\n",
            "Found 5002 images belonging to 2 classes.\n"
          ]
        }
      ]
    },
    {
      "cell_type": "code",
      "metadata": {
        "colab": {
          "base_uri": "https://localhost:8080/"
        },
        "id": "bM7yWYfeCnEu",
        "outputId": "3769bd54-cab4-48e9-c16f-19138a142aa5"
      },
      "source": [
        "model.compile(optimizer='adam', loss='categorical_crossentropy', metrics=['accuracy'])\n",
        "es=EarlyStopping(monitor='val_accuracy', mode='max', verbose=1, patience=10)\n",
        "mc = ModelCheckpoint('best_model.h5', monitor='val_accuracy', mode='max',save_best_only=True)\n",
        "history = model.fit_generator(train,validation_data=val,epochs=15,callbacks=[mc,es])"
      ],
      "execution_count": null,
      "outputs": [
        {
          "name": "stderr",
          "output_type": "stream",
          "text": [
            "/usr/local/lib/python3.7/dist-packages/ipykernel_launcher.py:4: UserWarning: `Model.fit_generator` is deprecated and will be removed in a future version. Please use `Model.fit`, which supports generators.\n",
            "  after removing the cwd from sys.path.\n"
          ]
        },
        {
          "name": "stdout",
          "output_type": "stream",
          "text": [
            "Epoch 1/15\n",
            "889/889 [==============================] - ETA: 0s - loss: 0.5412 - accuracy: 0.7561"
          ]
        },
        {
          "name": "stderr",
          "output_type": "stream",
          "text": [
            "/usr/local/lib/python3.7/dist-packages/keras/engine/functional.py:1410: CustomMaskWarning: Custom mask layers require a config and must override get_config. When loading, the custom mask layer must be passed to the custom_objects argument.\n",
            "  layer_config = serialize_layer_fn(layer)\n"
          ]
        },
        {
          "name": "stdout",
          "output_type": "stream",
          "text": [
            "\b\b\b\b\b\b\b\b\b\b\b\b\b\b\b\b\b\b\b\b\b\b\b\b\b\b\b\b\b\b\b\b\b\b\b\b\b\b\b\b\b\b\b\b\b\b\b\b\b\b\b\b\b\b\b\b\b\b\b\b\b\b\b\b\b\b\b\b\b\b\b\b\b\b\b\b\b\b\b\b\b\b\b\b\r889/889 [==============================] - 183s 201ms/step - loss: 0.5412 - accuracy: 0.7561 - val_loss: 0.4113 - val_accuracy: 0.8198\n",
            "Epoch 2/15\n",
            "889/889 [==============================] - 178s 200ms/step - loss: 0.3906 - accuracy: 0.8269 - val_loss: 0.3978 - val_accuracy: 0.8292\n",
            "Epoch 3/15\n",
            "889/889 [==============================] - 177s 199ms/step - loss: 0.3409 - accuracy: 0.8487 - val_loss: 0.4607 - val_accuracy: 0.8060\n",
            "Epoch 4/15\n",
            "889/889 [==============================] - 177s 199ms/step - loss: 0.2900 - accuracy: 0.8752 - val_loss: 0.4027 - val_accuracy: 0.8270\n",
            "Epoch 5/15\n",
            "889/889 [==============================] - 178s 200ms/step - loss: 0.2561 - accuracy: 0.8897 - val_loss: 0.4383 - val_accuracy: 0.8298\n",
            "Epoch 6/15\n",
            "889/889 [==============================] - 178s 200ms/step - loss: 0.2244 - accuracy: 0.9041 - val_loss: 0.4515 - val_accuracy: 0.8382\n",
            "Epoch 7/15\n",
            "889/889 [==============================] - 177s 199ms/step - loss: 0.2023 - accuracy: 0.9157 - val_loss: 0.4808 - val_accuracy: 0.8353\n",
            "Epoch 8/15\n",
            "889/889 [==============================] - 178s 200ms/step - loss: 0.1794 - accuracy: 0.9246 - val_loss: 0.5091 - val_accuracy: 0.8415\n",
            "Epoch 9/15\n",
            "889/889 [==============================] - 177s 199ms/step - loss: 0.1644 - accuracy: 0.9321 - val_loss: 0.4965 - val_accuracy: 0.8378\n",
            "Epoch 10/15\n",
            "889/889 [==============================] - 177s 200ms/step - loss: 0.1519 - accuracy: 0.9364 - val_loss: 0.4720 - val_accuracy: 0.8330\n",
            "Epoch 11/15\n",
            "889/889 [==============================] - 177s 199ms/step - loss: 0.1331 - accuracy: 0.9453 - val_loss: 0.5673 - val_accuracy: 0.8360\n",
            "Epoch 12/15\n",
            "889/889 [==============================] - 177s 199ms/step - loss: 0.1230 - accuracy: 0.9497 - val_loss: 0.6338 - val_accuracy: 0.8202\n",
            "Epoch 13/15\n",
            "889/889 [==============================] - 177s 199ms/step - loss: 0.1134 - accuracy: 0.9534 - val_loss: 0.7483 - val_accuracy: 0.8215\n",
            "Epoch 14/15\n",
            "889/889 [==============================] - 177s 199ms/step - loss: 0.0978 - accuracy: 0.9611 - val_loss: 0.6656 - val_accuracy: 0.8255\n",
            "Epoch 15/15\n",
            "889/889 [==============================] - 176s 198ms/step - loss: 0.1117 - accuracy: 0.9552 - val_loss: 0.6010 - val_accuracy: 0.8395\n"
          ]
        }
      ]
    },
    {
      "cell_type": "code",
      "metadata": {
        "colab": {
          "base_uri": "https://localhost:8080/"
        },
        "id": "Rs35CQeHCnEv",
        "outputId": "67d4b57d-fd34-4794-a027-16c0bcc60ef7"
      },
      "source": [
        "model.load_weights(\"best_model.h5\")\n",
        "model.evaluate_generator(test)"
      ],
      "execution_count": null,
      "outputs": [
        {
          "name": "stderr",
          "output_type": "stream",
          "text": [
            "/usr/local/lib/python3.7/dist-packages/ipykernel_launcher.py:2: UserWarning: `Model.evaluate_generator` is deprecated and will be removed in a future version. Please use `Model.evaluate`, which supports generators.\n",
            "  \n"
          ]
        },
        {
          "data": {
            "text/plain": [
              "[0.5564768314361572, 0.8262695074081421]"
            ]
          },
          "execution_count": 37,
          "metadata": {},
          "output_type": "execute_result"
        }
      ]
    },
    {
      "cell_type": "code",
      "metadata": {
        "colab": {
          "base_uri": "https://localhost:8080/",
          "height": 591
        },
        "id": "7j1DdmzeCnEw",
        "outputId": "5892c19b-e1b1-4ddb-f946-77567695ce27"
      },
      "source": [
        "from matplotlib import pyplot as plt\n",
        "# list all data in history\n",
        "print(history.history.keys())\n",
        "# summarize history for accuracy\n",
        "plt.plot(history.history['accuracy'], label='accuracy')\n",
        "plt.plot(history.history['val_accuracy'], label='val_accuracy')\n",
        "#plt.plot(history.history['test_accuracy'])\n",
        "plt.title('model accuracy')\n",
        "plt.ylabel('accuracy')\n",
        "plt.xlabel('epoch')\n",
        "#plt.legend(['train', 'test'], loc='upper left')\n",
        "plt.show()\n",
        "# summarize history for loss\n",
        "plt.plot(history.history['loss'], label='loss')\n",
        "plt.plot(history.history['val_loss'], label='val_loss')\n",
        "#plt.plot(history.history['test_loss'])\n",
        "plt.title('model loss')\n",
        "plt.ylabel('loss')\n",
        "plt.xlabel('epoch')\n",
        "#plt.legend(['train', 'test'], loc='upper left')\n",
        "plt.show()"
      ],
      "execution_count": null,
      "outputs": [
        {
          "name": "stdout",
          "output_type": "stream",
          "text": [
            "dict_keys(['loss', 'accuracy', 'val_loss', 'val_accuracy'])\n"
          ]
        },
        {
          "data": {
            "image/png": "[encoded data removed]",
            "text/plain": [
              "<Figure size 432x288 with 1 Axes>"
            ]
          },
          "metadata": {},
          "output_type": "display_data"
        },
        {
          "data": {
            "image/png": "[encoded data removed]",
            "text/plain": [
              "<Figure size 432x288 with 1 Axes>"
            ]
          },
          "metadata": {},
          "output_type": "display_data"
        }
      ]
    },
    {
      "cell_type": "markdown",
      "metadata": {
        "id": "OjQEPiYihCFQ"
      },
      "source": [
        "\n",
        "\n",
        "\n",
        "# RESNET 50 transfer learning without standrzation /0.734"
      ]
    },
    {
      "cell_type": "code",
      "metadata": {
        "id": "F-XAWtFIhCFR"
      },
      "source": [
        "import cv2\n",
        "import numpy as np\n",
        "import os\n",
        "from tensorflow.keras.preprocessing.image import ImageDataGenerator\n",
        "from tensorflow.keras import backend as K\n",
        "import tensorflow.keras\n",
        "from tensorflow.keras.models import Sequential, Model,load_model\n",
        "#from keras.optimizers import SGD\n",
        "from tensorflow.keras.callbacks import EarlyStopping,ModelCheckpoint\n",
        "from google.colab.patches import cv2_imshow\n",
        "from tensorflow.keras.layers import Input, Add, Dense, Activation, ZeroPadding2D, BatchNormalization, Flatten, Conv2D, AveragePooling2D, MaxPooling2D, GlobalMaxPooling2D,MaxPool2D\n",
        "from tensorflow.keras.preprocessing import image\n",
        "from tensorflow.keras.initializers import glorot_uniform"
      ],
      "execution_count": null,
      "outputs": []
    },
    {
      "cell_type": "code",
      "metadata": {
        "id": "r0PcPuarhCFS"
      },
      "source": [
        "def identity_block(X, f, filters, stage, block):\n",
        "   \n",
        "    conv_name_base = 'res' + str(stage) + block + '_branch'\n",
        "    bn_name_base = 'bn' + str(stage) + block + '_branch'\n",
        "    F1, F2, F3 = filters\n",
        "\n",
        "    X_shortcut = X\n",
        "   \n",
        "    X = Conv2D(filters=F1, kernel_size=(1, 1), strides=(1, 1), padding='valid', name=conv_name_base + '2a', kernel_initializer=glorot_uniform(seed=0))(X)\n",
        "    X = BatchNormalization(axis=3, name=bn_name_base + '2a')(X)\n",
        "    X = Activation('relu')(X)\n",
        "\n",
        "    X = Conv2D(filters=F2, kernel_size=(f, f), strides=(1, 1), padding='same', name=conv_name_base + '2b', kernel_initializer=glorot_uniform(seed=0))(X)\n",
        "    X = BatchNormalization(axis=3, name=bn_name_base + '2b')(X)\n",
        "    X = Activation('relu')(X)\n",
        "\n",
        "    X = Conv2D(filters=F3, kernel_size=(1, 1), strides=(1, 1), padding='valid', name=conv_name_base + '2c', kernel_initializer=glorot_uniform(seed=0))(X)\n",
        "    X = BatchNormalization(axis=3, name=bn_name_base + '2c')(X)\n",
        "\n",
        "    X = Add()([X, X_shortcut])# SKIP Connection\n",
        "    X = Activation('relu')(X)\n",
        "\n",
        "    return X"
      ],
      "execution_count": null,
      "outputs": []
    },
    {
      "cell_type": "code",
      "metadata": {
        "id": "KsXY4Bv7hCFT"
      },
      "source": [
        "def convolutional_block(X, f, filters, stage, block, s=2):\n",
        "   \n",
        "    conv_name_base = 'res' + str(stage) + block + '_branch'\n",
        "    bn_name_base = 'bn' + str(stage) + block + '_branch'\n",
        "\n",
        "    F1, F2, F3 = filters\n",
        "\n",
        "    X_shortcut = X\n",
        "\n",
        "    X = Conv2D(filters=F1, kernel_size=(1, 1), strides=(s, s), padding='valid', name=conv_name_base + '2a', kernel_initializer=glorot_uniform(seed=0))(X)\n",
        "    X = BatchNormalization(axis=3, name=bn_name_base + '2a')(X)\n",
        "    X = Activation('relu')(X)\n",
        "\n",
        "    X = Conv2D(filters=F2, kernel_size=(f, f), strides=(1, 1), padding='same', name=conv_name_base + '2b', kernel_initializer=glorot_uniform(seed=0))(X)\n",
        "    X = BatchNormalization(axis=3, name=bn_name_base + '2b')(X)\n",
        "    X = Activation('relu')(X)\n",
        "\n",
        "    X = Conv2D(filters=F3, kernel_size=(1, 1), strides=(1, 1), padding='valid', name=conv_name_base + '2c', kernel_initializer=glorot_uniform(seed=0))(X)\n",
        "    X = BatchNormalization(axis=3, name=bn_name_base + '2c')(X)\n",
        "\n",
        "    X_shortcut = Conv2D(filters=F3, kernel_size=(1, 1), strides=(s, s), padding='valid', name=conv_name_base + '1', kernel_initializer=glorot_uniform(seed=0))(X_shortcut)\n",
        "    X_shortcut = BatchNormalization(axis=3, name=bn_name_base + '1')(X_shortcut)\n",
        "\n",
        "    X = Add()([X, X_shortcut])\n",
        "    X = Activation('relu')(X)\n",
        "\n",
        "    return X"
      ],
      "execution_count": null,
      "outputs": []
    },
    {
      "cell_type": "code",
      "metadata": {
        "id": "xASZ7YVUhCFT"
      },
      "source": [
        "def ResNet50(input_shape=(224, 224, 3)):\n",
        "\n",
        "    X_input = Input(input_shape)\n",
        "\n",
        "    X = ZeroPadding2D((3, 3))(X_input)\n",
        "\n",
        "    X = Conv2D(64, (7, 7), strides=(2, 2), name='conv1', kernel_initializer=glorot_uniform(seed=0))(X)\n",
        "    X = BatchNormalization(axis=3, name='bn_conv1')(X)\n",
        "    X = Activation('relu')(X)\n",
        "    X = MaxPooling2D((3, 3), strides=(2, 2))(X)\n",
        "\n",
        "    X = convolutional_block(X, f=3, filters=[64, 64, 256], stage=2, block='a', s=1)\n",
        "    X = identity_block(X, 3, [64, 64, 256], stage=2, block='b')\n",
        "    X = identity_block(X, 3, [64, 64, 256], stage=2, block='c')\n",
        "\n",
        "\n",
        "    X = convolutional_block(X, f=3, filters=[128, 128, 512], stage=3, block='a', s=2)\n",
        "    X = identity_block(X, 3, [128, 128, 512], stage=3, block='b')\n",
        "    X = identity_block(X, 3, [128, 128, 512], stage=3, block='c')\n",
        "    X = identity_block(X, 3, [128, 128, 512], stage=3, block='d')\n",
        "\n",
        "    X = convolutional_block(X, f=3, filters=[256, 256, 1024], stage=4, block='a', s=2)\n",
        "    X = identity_block(X, 3, [256, 256, 1024], stage=4, block='b')\n",
        "    X = identity_block(X, 3, [256, 256, 1024], stage=4, block='c')\n",
        "    X = identity_block(X, 3, [256, 256, 1024], stage=4, block='d')\n",
        "    X = identity_block(X, 3, [256, 256, 1024], stage=4, block='e')\n",
        "    X = identity_block(X, 3, [256, 256, 1024], stage=4, block='f')\n",
        "\n",
        "    X = X = convolutional_block(X, f=3, filters=[512, 512, 2048], stage=5, block='a', s=2)\n",
        "    X = identity_block(X, 3, [512, 512, 2048], stage=5, block='b')\n",
        "    X = identity_block(X, 3, [512, 512, 2048], stage=5, block='c')\n",
        "\n",
        "    X = AveragePooling2D(pool_size=(2, 2), padding='same')(X)\n",
        "    \n",
        "    model = Model(inputs=X_input, outputs=X, name='ResNet50')\n",
        "\n",
        "    return model"
      ],
      "execution_count": null,
      "outputs": []
    },
    {
      "cell_type": "code",
      "metadata": {
        "id": "zcZZfQqKhCFU"
      },
      "source": [
        "base_model = ResNet50(input_shape=(224, 224, 3))"
      ],
      "execution_count": null,
      "outputs": []
    },
    {
      "cell_type": "code",
      "metadata": {
        "id": "WgmRBgomhCFU"
      },
      "source": [
        "headModel = base_model.output\n",
        "headModel = Flatten()(headModel)\n",
        "headModel=Dense(256, activation='relu', name='fc1',kernel_initializer=glorot_uniform(seed=0))(headModel)\n",
        "headModel=Dense(128, activation='relu', name='fc2',kernel_initializer=glorot_uniform(seed=0))(headModel)\n",
        "headModel = Dense( 2,activation='softmax', name='fc3',kernel_initializer=glorot_uniform(seed=0))(headModel)"
      ],
      "execution_count": null,
      "outputs": []
    },
    {
      "cell_type": "code",
      "metadata": {
        "id": "XUlUmvCrhCFU"
      },
      "source": [
        "#download model\n",
        "import requests\n",
        "#https://drive.google.com/uc?export=download&id=1n7rGZsAvwr6Le-IEHWBgA7ihz3pZA1DE\n",
        "def download_file_from_google_drive(id, destination):\n",
        "    URL = \"https://docs.google.com/uc?export=download\"\n",
        "    session = requests.Session()\n",
        "    response = session.get(URL, params = { 'id' : id }, stream = True)\n",
        "    token = get_confirm_token(response)\n",
        "    if token:\n",
        "        params = { 'id' : id, 'confirm' : token }\n",
        "        response = session.get(URL, params = params, stream = True)\n",
        "    save_response_content(response, destination)    \n",
        "def get_confirm_token(response):\n",
        "    for key, value in response.cookies.items():\n",
        "        if key.startswith('download_warning'):\n",
        "            return value\n",
        "    return None\n",
        "def save_response_content(response, destination):\n",
        "    CHUNK_SIZE = 32768\n",
        "    with open(destination, \"wb\") as f:\n",
        "        for chunk in response.iter_content(CHUNK_SIZE):\n",
        "            if chunk: # filter out keep-alive new chunks\n",
        "                f.write(chunk)\n",
        "class_m=0   \n",
        "plus=True               \n",
        "file_id = '1n7rGZsAvwr6Le-IEHWBgA7ihz3pZA1DE'\n",
        "destination = 'resnet50_weights_tf_dim_ordering_tf_kernels_notop.h5'\n",
        "download_file_from_google_drive(file_id, destination)  \n"
      ],
      "execution_count": null,
      "outputs": []
    },
    {
      "cell_type": "code",
      "metadata": {
        "id": "heG7rzmfhCFU"
      },
      "source": [
        "#Load the pre-trained weights of the model\n",
        "base_model.load_weights(\"/content/resnet50_weights_tf_dim_ordering_tf_kernels_notop.h5\")"
      ],
      "execution_count": null,
      "outputs": []
    },
    {
      "cell_type": "code",
      "metadata": {
        "id": "kFoEN3jHhCFV"
      },
      "source": [
        "for layer in base_model.layers:\n",
        "    layer.trainable = False"
      ],
      "execution_count": null,
      "outputs": []
    },
    {
      "cell_type": "code",
      "metadata": {
        "id": "fxDValuShCFV"
      },
      "source": [
        "model = Model(inputs=base_model.input, outputs=headModel)"
      ],
      "execution_count": null,
      "outputs": []
    },
    {
      "cell_type": "code",
      "metadata": {
        "colab": {
          "base_uri": "https://localhost:8080/"
        },
        "id": "N2afvMA7hCFV",
        "outputId": "2580ed97-9f28-496a-98cc-52e01d53283c"
      },
      "source": [
        "for layer in model.layers:\n",
        "    print(layer, layer.trainable)"
      ],
      "execution_count": null,
      "outputs": [
        {
          "name": "stdout",
          "output_type": "stream",
          "text": [
            "<keras.engine.input_layer.InputLayer object at 0x7fa2932da910> False\n",
            "<keras.layers.convolutional.ZeroPadding2D object at 0x7fa2932da790> False\n",
            "<keras.layers.convolutional.Conv2D object at 0x7fa2932b10d0> False\n",
            "<keras.layers.normalization.batch_normalization.BatchNormalization object at 0x7fa2932b1310> False\n",
            "<keras.layers.core.activation.Activation object at 0x7fa293336190> False\n",
            "<keras.layers.pooling.MaxPooling2D object at 0x7fa29334b250> False\n",
            "<keras.layers.convolutional.Conv2D object at 0x7fa293266390> False\n",
            "<keras.layers.normalization.batch_normalization.BatchNormalization object at 0x7fa21f060cd0> False\n",
            "<keras.layers.core.activation.Activation object at 0x7fa293275750> False\n",
            "<keras.layers.convolutional.Conv2D object at 0x7fa29329bd90> False\n",
            "<keras.layers.normalization.batch_normalization.BatchNormalization object at 0x7fa293275a50> False\n",
            "<keras.layers.core.activation.Activation object at 0x7fa2932768d0> False\n",
            "<keras.layers.convolutional.Conv2D object at 0x7fa29328c590> False\n",
            "<keras.layers.convolutional.Conv2D object at 0x7fa2932a2a10> False\n",
            "<keras.layers.normalization.batch_normalization.BatchNormalization object at 0x7fa29328c150> False\n",
            "<keras.layers.normalization.batch_normalization.BatchNormalization object at 0x7fa2932a2a50> False\n",
            "<keras.layers.merge.Add object at 0x7fa29329ce90> False\n",
            "<keras.layers.core.activation.Activation object at 0x7fa29329ec90> False\n",
            "<keras.layers.convolutional.Conv2D object at 0x7fa29323c110> False\n",
            "<keras.layers.normalization.batch_normalization.BatchNormalization object at 0x7fa293234150> False\n",
            "<keras.layers.core.activation.Activation object at 0x7fa293234490> False\n",
            "<keras.layers.convolutional.Conv2D object at 0x7fa293244050> False\n",
            "<keras.layers.normalization.batch_normalization.BatchNormalization object at 0x7fa29324dd50> False\n",
            "<keras.layers.core.activation.Activation object at 0x7fa29324d5d0> False\n",
            "<keras.layers.convolutional.Conv2D object at 0x7fa29324b410> False\n",
            "<keras.layers.normalization.batch_normalization.BatchNormalization object at 0x7fa2932602d0> False\n",
            "<keras.layers.merge.Add object at 0x7fa2932605d0> False\n",
            "<keras.layers.core.activation.Activation object at 0x7fa29324f0d0> False\n",
            "<keras.layers.convolutional.Conv2D object at 0x7fa2931e8b50> False\n",
            "<keras.layers.normalization.batch_normalization.BatchNormalization object at 0x7fa29328fa50> False\n",
            "<keras.layers.core.activation.Activation object at 0x7fa2931f1750> False\n",
            "<keras.layers.convolutional.Conv2D object at 0x7fa2931e5d90> False\n",
            "<keras.layers.normalization.batch_normalization.BatchNormalization object at 0x7fa2931ff7d0> False\n",
            "<keras.layers.core.activation.Activation object at 0x7fa2931ffd90> False\n",
            "<keras.layers.convolutional.Conv2D object at 0x7fa2931fb710> False\n",
            "<keras.layers.normalization.batch_normalization.BatchNormalization object at 0x7fa2931fb390> False\n",
            "<keras.layers.merge.Add object at 0x7fa293219790> False\n",
            "<keras.layers.core.activation.Activation object at 0x7fa293219fd0> False\n",
            "<keras.layers.convolutional.Conv2D object at 0x7fa293219bd0> False\n",
            "<keras.layers.normalization.batch_normalization.BatchNormalization object at 0x7fa29321e510> False\n",
            "<keras.layers.core.activation.Activation object at 0x7fa2931a71d0> False\n",
            "<keras.layers.convolutional.Conv2D object at 0x7fa2932221d0> False\n",
            "<keras.layers.normalization.batch_normalization.BatchNormalization object at 0x7fa2931a7310> False\n",
            "<keras.layers.core.activation.Activation object at 0x7fa29320c450> False\n",
            "<keras.layers.convolutional.Conv2D object at 0x7fa2931e8a90> False\n",
            "<keras.layers.convolutional.Conv2D object at 0x7fa2931ff910> False\n",
            "<keras.layers.normalization.batch_normalization.BatchNormalization object at 0x7fa2931ff0d0> False\n",
            "<keras.layers.normalization.batch_normalization.BatchNormalization object at 0x7fa293282910> False\n",
            "<keras.layers.merge.Add object at 0x7fa29329bf90> False\n",
            "<keras.layers.core.activation.Activation object at 0x7fa2932bb850> False\n",
            "<keras.layers.convolutional.Conv2D object at 0x7fa2931b0d50> False\n",
            "<keras.layers.normalization.batch_normalization.BatchNormalization object at 0x7fa293336390> False\n",
            "<keras.layers.core.activation.Activation object at 0x7fa293207fd0> False\n",
            "<keras.layers.convolutional.Conv2D object at 0x7fa2931a9050> False\n",
            "<keras.layers.normalization.batch_normalization.BatchNormalization object at 0x7fa2931b5c50> False\n",
            "<keras.layers.core.activation.Activation object at 0x7fa2931b5b90> False\n",
            "<keras.layers.convolutional.Conv2D object at 0x7fa2932d3ed0> False\n",
            "<keras.layers.normalization.batch_normalization.BatchNormalization object at 0x7fa2931c7a50> False\n",
            "<keras.layers.merge.Add object at 0x7fa2931b93d0> False\n",
            "<keras.layers.core.activation.Activation object at 0x7fa2931c7f90> False\n",
            "<keras.layers.convolutional.Conv2D object at 0x7fa2931d88d0> False\n",
            "<keras.layers.normalization.batch_normalization.BatchNormalization object at 0x7fa2931e0ad0> False\n",
            "<keras.layers.core.activation.Activation object at 0x7fa2931d8550> False\n",
            "<keras.layers.convolutional.Conv2D object at 0x7fa2931d4d10> False\n",
            "<keras.layers.normalization.batch_normalization.BatchNormalization object at 0x7fa29316f210> False\n",
            "<keras.layers.core.activation.Activation object at 0x7fa293168fd0> False\n",
            "<keras.layers.convolutional.Conv2D object at 0x7fa21e33b110> False\n",
            "<keras.layers.normalization.batch_normalization.BatchNormalization object at 0x7fa293168150> False\n",
            "<keras.layers.merge.Add object at 0x7fa2931887d0> False\n",
            "<keras.layers.core.activation.Activation object at 0x7fa2931810d0> False\n",
            "<keras.layers.convolutional.Conv2D object at 0x7fa29317ebd0> False\n",
            "<keras.layers.normalization.batch_normalization.BatchNormalization object at 0x7fa2931815d0> False\n",
            "<keras.layers.core.activation.Activation object at 0x7fa2931998d0> False\n",
            "<keras.layers.convolutional.Conv2D object at 0x7fa293199e10> False\n",
            "<keras.layers.normalization.batch_normalization.BatchNormalization object at 0x7fa293199f50> False\n",
            "<keras.layers.core.activation.Activation object at 0x7fa293128710> False\n",
            "<keras.layers.convolutional.Conv2D object at 0x7fa293128b10> False\n",
            "<keras.layers.normalization.batch_normalization.BatchNormalization object at 0x7fa293189850> False\n",
            "<keras.layers.merge.Add object at 0x7fa29313bc50> False\n",
            "<keras.layers.core.activation.Activation object at 0x7fa29313ba10> False\n",
            "<keras.layers.convolutional.Conv2D object at 0x7fa293189410> False\n",
            "<keras.layers.normalization.batch_normalization.BatchNormalization object at 0x7fa29314d550> False\n",
            "<keras.layers.core.activation.Activation object at 0x7fa29314d110> False\n",
            "<keras.layers.convolutional.Conv2D object at 0x7fa29313bed0> False\n",
            "<keras.layers.normalization.batch_normalization.BatchNormalization object at 0x7fa293135290> False\n",
            "<keras.layers.core.activation.Activation object at 0x7fa293199550> False\n",
            "<keras.layers.convolutional.Conv2D object at 0x7fa293181410> False\n",
            "<keras.layers.convolutional.Conv2D object at 0x7fa2931b9cd0> False\n",
            "<keras.layers.normalization.batch_normalization.BatchNormalization object at 0x7fa29319e4d0> False\n",
            "<keras.layers.normalization.batch_normalization.BatchNormalization object at 0x7fa293165fd0> False\n",
            "<keras.layers.merge.Add object at 0x7fa2931e0ed0> False\n",
            "<keras.layers.core.activation.Activation object at 0x7fa293140790> False\n",
            "<keras.layers.convolutional.Conv2D object at 0x7fa293282a10> False\n",
            "<keras.layers.normalization.batch_normalization.BatchNormalization object at 0x7fa2931f1c50> False\n",
            "<keras.layers.core.activation.Activation object at 0x7fa2931b0810> False\n",
            "<keras.layers.convolutional.Conv2D object at 0x7fa293156310> False\n",
            "<keras.layers.normalization.batch_normalization.BatchNormalization object at 0x7fa2931a2490> False\n",
            "<keras.layers.core.activation.Activation object at 0x7fa2931a8d10> False\n",
            "<keras.layers.convolutional.Conv2D object at 0x7fa2930e9a50> False\n",
            "<keras.layers.normalization.batch_normalization.BatchNormalization object at 0x7fa2930f3b50> False\n",
            "<keras.layers.merge.Add object at 0x7fa2930e99d0> False\n",
            "<keras.layers.core.activation.Activation object at 0x7fa2930f3d50> False\n",
            "<keras.layers.convolutional.Conv2D object at 0x7fa2930fb750> False\n",
            "<keras.layers.normalization.batch_normalization.BatchNormalization object at 0x7fa293105190> False\n",
            "<keras.layers.core.activation.Activation object at 0x7fa293105a10> False\n",
            "<keras.layers.convolutional.Conv2D object at 0x7fa293169cd0> False\n",
            "<keras.layers.normalization.batch_normalization.BatchNormalization object at 0x7fa2930f84d0> False\n",
            "<keras.layers.core.activation.Activation object at 0x7fa2930fbb50> False\n",
            "<keras.layers.convolutional.Conv2D object at 0x7fa2931158d0> False\n",
            "<keras.layers.normalization.batch_normalization.BatchNormalization object at 0x7fa293115510> False\n",
            "<keras.layers.merge.Add object at 0x7fa293169f90> False\n",
            "<keras.layers.core.activation.Activation object at 0x7fa29310a4d0> False\n",
            "<keras.layers.convolutional.Conv2D object at 0x7fa2930a51d0> False\n",
            "<keras.layers.normalization.batch_normalization.BatchNormalization object at 0x7fa29311e1d0> False\n",
            "<keras.layers.core.activation.Activation object at 0x7fa2930aafd0> False\n",
            "<keras.layers.convolutional.Conv2D object at 0x7fa293119e10> False\n",
            "<keras.layers.normalization.batch_normalization.BatchNormalization object at 0x7fa2930b5590> False\n",
            "<keras.layers.core.activation.Activation object at 0x7fa2930d30d0> False\n",
            "<keras.layers.convolutional.Conv2D object at 0x7fa2930b0c90> False\n",
            "<keras.layers.normalization.batch_normalization.BatchNormalization object at 0x7fa2930d3f50> False\n",
            "<keras.layers.merge.Add object at 0x7fa2930de090> False\n",
            "<keras.layers.core.activation.Activation object at 0x7fa2930de890> False\n",
            "<keras.layers.convolutional.Conv2D object at 0x7fa2930d8810> False\n",
            "<keras.layers.normalization.batch_normalization.BatchNormalization object at 0x7fa2930cb790> False\n",
            "<keras.layers.core.activation.Activation object at 0x7fa2930697d0> False\n",
            "<keras.layers.convolutional.Conv2D object at 0x7fa293074e90> False\n",
            "<keras.layers.normalization.batch_normalization.BatchNormalization object at 0x7fa29307bc50> False\n",
            "<keras.layers.core.activation.Activation object at 0x7fa2930d8990> False\n",
            "<keras.layers.convolutional.Conv2D object at 0x7fa2930b0f10> False\n",
            "<keras.layers.normalization.batch_normalization.BatchNormalization object at 0x7fa2930b0550> False\n",
            "<keras.layers.merge.Add object at 0x7fa29310d950> False\n",
            "<keras.layers.core.activation.Activation object at 0x7fa29310a890> False\n",
            "<keras.layers.convolutional.Conv2D object at 0x7fa2930f8dd0> False\n",
            "<keras.layers.normalization.batch_normalization.BatchNormalization object at 0x7fa2930fb2d0> False\n",
            "<keras.layers.core.activation.Activation object at 0x7fa2931a2590> False\n",
            "<keras.layers.convolutional.Conv2D object at 0x7fa29313b990> False\n",
            "<keras.layers.normalization.batch_normalization.BatchNormalization object at 0x7fa293119550> False\n",
            "<keras.layers.core.activation.Activation object at 0x7fa293080c10> False\n",
            "<keras.layers.convolutional.Conv2D object at 0x7fa293084850> False\n",
            "<keras.layers.normalization.batch_normalization.BatchNormalization object at 0x7fa2930a7650> False\n",
            "<keras.layers.merge.Add object at 0x7fa2931ff950> False\n",
            "<keras.layers.core.activation.Activation object at 0x7fa293125750> False\n",
            "<keras.layers.convolutional.Conv2D object at 0x7fa29309b3d0> False\n",
            "<keras.layers.normalization.batch_normalization.BatchNormalization object at 0x7fa29308a810> False\n",
            "<keras.layers.core.activation.Activation object at 0x7fa29302a2d0> False\n",
            "<keras.layers.convolutional.Conv2D object at 0x7fa29302a790> False\n",
            "<keras.layers.normalization.batch_normalization.BatchNormalization object at 0x7fa29302a410> False\n",
            "<keras.layers.core.activation.Activation object at 0x7fa29303e090> False\n",
            "<keras.layers.convolutional.Conv2D object at 0x7fa293043210> False\n",
            "<keras.layers.convolutional.Conv2D object at 0x7fa29304eb10> False\n",
            "<keras.layers.normalization.batch_normalization.BatchNormalization object at 0x7fa29303e190> False\n",
            "<keras.layers.normalization.batch_normalization.BatchNormalization object at 0x7fa29304e710> False\n",
            "<keras.layers.merge.Add object at 0x7fa293052cd0> False\n",
            "<keras.layers.core.activation.Activation object at 0x7fa2930969d0> False\n",
            "<keras.layers.convolutional.Conv2D object at 0x7fa292fe9950> False\n",
            "<keras.layers.normalization.batch_normalization.BatchNormalization object at 0x7fa292fe5490> False\n",
            "<keras.layers.core.activation.Activation object at 0x7fa29305f5d0> False\n",
            "<keras.layers.convolutional.Conv2D object at 0x7fa292ff1250> False\n",
            "<keras.layers.normalization.batch_normalization.BatchNormalization object at 0x7fa292ffbbd0> False\n",
            "<keras.layers.core.activation.Activation object at 0x7fa292ff74d0> False\n",
            "<keras.layers.convolutional.Conv2D object at 0x7fa29305f9d0> False\n",
            "<keras.layers.normalization.batch_normalization.BatchNormalization object at 0x7fa29300c290> False\n",
            "<keras.layers.merge.Add object at 0x7fa293005e50> False\n",
            "<keras.layers.core.activation.Activation object at 0x7fa293059850> False\n",
            "<keras.layers.convolutional.Conv2D object at 0x7fa2930051d0> False\n",
            "<keras.layers.normalization.batch_normalization.BatchNormalization object at 0x7fa29301f710> False\n",
            "<keras.layers.core.activation.Activation object at 0x7fa2930123d0> False\n",
            "<keras.layers.convolutional.Conv2D object at 0x7fa293005290> False\n",
            "<keras.layers.normalization.batch_normalization.BatchNormalization object at 0x7fa293059c10> False\n",
            "<keras.layers.core.activation.Activation object at 0x7fa292ff1190> False\n",
            "<keras.layers.convolutional.Conv2D object at 0x7fa293001150> False\n",
            "<keras.layers.normalization.batch_normalization.BatchNormalization object at 0x7fa293001f50> False\n",
            "<keras.layers.merge.Add object at 0x7fa29309bc50> False\n",
            "<keras.layers.core.activation.Activation object at 0x7fa29309e050> False\n",
            "<keras.layers.pooling.AveragePooling2D object at 0x7fa293012b10> False\n",
            "<keras.layers.core.flatten.Flatten object at 0x7fa293080090> True\n",
            "<keras.layers.core.dense.Dense object at 0x7fa2930cb5d0> True\n",
            "<keras.layers.core.dense.Dense object at 0x7fa292fb1910> True\n",
            "<keras.layers.core.dense.Dense object at 0x7fa292fb6490> True\n"
          ]
        }
      ]
    },
    {
      "cell_type": "code",
      "metadata": {
        "colab": {
          "base_uri": "https://localhost:8080/"
        },
        "id": "rCfpdyedhCFV",
        "outputId": "f33f38bc-92f7-4244-811e-8f66801fa252"
      },
      "source": [
        "datagen = ImageDataGenerator(rescale=1.0/255.0 )\n",
        "# specify imagenet mean values for centering\n",
        "# create data generator\n",
        "# prepare iterators\n",
        "train = datagen.flow_from_directory(input_path+'train/',class_mode=\"categorical\", batch_size=18, target_size=(224, 224))\n",
        "val = datagen.flow_from_directory(input_path+'val/',class_mode=\"categorical\", batch_size=18, target_size=(224, 224))\n",
        "test= datagen.flow_from_directory(input_path+'test/',class_mode=\"categorical\", batch_size=16, target_size=(224, 224))"
      ],
      "execution_count": null,
      "outputs": [
        {
          "name": "stdout",
          "output_type": "stream",
          "text": [
            "Found 15998 images belonging to 2 classes.\n",
            "Found 4000 images belonging to 2 classes.\n",
            "Found 5002 images belonging to 2 classes.\n"
          ]
        }
      ]
    },
    {
      "cell_type": "code",
      "metadata": {
        "colab": {
          "base_uri": "https://localhost:8080/"
        },
        "id": "ItHqqLw7hCFV",
        "outputId": "d51605b0-34ec-403e-b86b-d70ef5623ea8"
      },
      "source": [
        "model.compile(optimizer='adam', loss='categorical_crossentropy', metrics=['accuracy'])\n",
        "es=EarlyStopping(monitor='val_accuracy', mode='max', verbose=1, patience=10)\n",
        "mc = ModelCheckpoint('best_model.h5', monitor='val_accuracy', mode='max',save_best_only=True)\n",
        "history = model.fit_generator(train,validation_data=val,epochs=15,callbacks=[mc,es])"
      ],
      "execution_count": null,
      "outputs": [
        {
          "name": "stdout",
          "output_type": "stream",
          "text": [
            "Epoch 1/15\n"
          ]
        },
        {
          "name": "stderr",
          "output_type": "stream",
          "text": [
            "/usr/local/lib/python3.7/dist-packages/ipykernel_launcher.py:4: UserWarning: `Model.fit_generator` is deprecated and will be removed in a future version. Please use `Model.fit`, which supports generators.\n",
            "  after removing the cwd from sys.path.\n"
          ]
        },
        {
          "name": "stdout",
          "output_type": "stream",
          "text": [
            "889/889 [==============================] - ETA: 0s - loss: 0.7037 - accuracy: 0.5867"
          ]
        },
        {
          "name": "stderr",
          "output_type": "stream",
          "text": [
            "/usr/local/lib/python3.7/dist-packages/keras/engine/functional.py:1410: CustomMaskWarning: Custom mask layers require a config and must override get_config. When loading, the custom mask layer must be passed to the custom_objects argument.\n",
            "  layer_config = serialize_layer_fn(layer)\n"
          ]
        },
        {
          "name": "stdout",
          "output_type": "stream",
          "text": [
            "\b\b\b\b\b\b\b\b\b\b\b\b\b\b\b\b\b\b\b\b\b\b\b\b\b\b\b\b\b\b\b\b\b\b\b\b\b\b\b\b\b\b\b\b\b\b\b\b\b\b\b\b\b\b\b\b\b\b\b\b\b\b\b\b\b\b\b\b\b\b\b\b\b\b\b\b\b\b\b\b\b\b\b\b\r889/889 [==============================] - 182s 201ms/step - loss: 0.7037 - accuracy: 0.5867 - val_loss: 0.6468 - val_accuracy: 0.6553\n",
            "Epoch 2/15\n",
            "889/889 [==============================] - 177s 199ms/step - loss: 0.6374 - accuracy: 0.6351 - val_loss: 0.6285 - val_accuracy: 0.6430\n",
            "Epoch 3/15\n",
            "889/889 [==============================] - 178s 201ms/step - loss: 0.6066 - accuracy: 0.6720 - val_loss: 0.6067 - val_accuracy: 0.6690\n",
            "Epoch 4/15\n",
            "889/889 [==============================] - 178s 200ms/step - loss: 0.5976 - accuracy: 0.6799 - val_loss: 0.5902 - val_accuracy: 0.6845\n",
            "Epoch 5/15\n",
            "889/889 [==============================] - 179s 201ms/step - loss: 0.5843 - accuracy: 0.6956 - val_loss: 0.5639 - val_accuracy: 0.7172\n",
            "Epoch 6/15\n",
            "889/889 [==============================] - 178s 200ms/step - loss: 0.5709 - accuracy: 0.7027 - val_loss: 0.5533 - val_accuracy: 0.7270\n",
            "Epoch 7/15\n",
            "889/889 [==============================] - 178s 200ms/step - loss: 0.5580 - accuracy: 0.7150 - val_loss: 0.5477 - val_accuracy: 0.7290\n",
            "Epoch 8/15\n",
            "889/889 [==============================] - 178s 200ms/step - loss: 0.5502 - accuracy: 0.7223 - val_loss: 0.5519 - val_accuracy: 0.7333\n",
            "Epoch 9/15\n",
            "889/889 [==============================] - 177s 199ms/step - loss: 0.5481 - accuracy: 0.7210 - val_loss: 0.5607 - val_accuracy: 0.7097\n",
            "Epoch 10/15\n",
            "889/889 [==============================] - 177s 200ms/step - loss: 0.5457 - accuracy: 0.7231 - val_loss: 0.5367 - val_accuracy: 0.7390\n",
            "Epoch 11/15\n",
            "889/889 [==============================] - 177s 199ms/step - loss: 0.5350 - accuracy: 0.7360 - val_loss: 0.5380 - val_accuracy: 0.7303\n",
            "Epoch 12/15\n",
            "889/889 [==============================] - 177s 199ms/step - loss: 0.5299 - accuracy: 0.7388 - val_loss: 0.6289 - val_accuracy: 0.6615\n",
            "Epoch 13/15\n",
            "889/889 [==============================] - 177s 199ms/step - loss: 0.5323 - accuracy: 0.7355 - val_loss: 0.5439 - val_accuracy: 0.7205\n",
            "Epoch 14/15\n",
            "889/889 [==============================] - 177s 199ms/step - loss: 0.5262 - accuracy: 0.7386 - val_loss: 0.6282 - val_accuracy: 0.6348\n",
            "Epoch 15/15\n",
            "889/889 [==============================] - 177s 199ms/step - loss: 0.5244 - accuracy: 0.7402 - val_loss: 0.5583 - val_accuracy: 0.7082\n"
          ]
        }
      ]
    },
    {
      "cell_type": "code",
      "metadata": {
        "colab": {
          "base_uri": "https://localhost:8080/"
        },
        "id": "t2NS_3dEhCFW",
        "outputId": "d6cd59f8-ed93-4eb8-8388-dabdb93fb894"
      },
      "source": [
        "model.load_weights(\"best_model.h5\")\n",
        "model.evaluate_generator(test)"
      ],
      "execution_count": null,
      "outputs": [
        {
          "name": "stderr",
          "output_type": "stream",
          "text": [
            "/usr/local/lib/python3.7/dist-packages/ipykernel_launcher.py:2: UserWarning: `Model.evaluate_generator` is deprecated and will be removed in a future version. Please use `Model.evaluate`, which supports generators.\n",
            "  \n"
          ]
        },
        {
          "data": {
            "text/plain": [
              "[0.5361828207969666, 0.7341063618659973]"
            ]
          },
          "execution_count": 52,
          "metadata": {},
          "output_type": "execute_result"
        }
      ]
    },
    {
      "cell_type": "code",
      "metadata": {
        "colab": {
          "base_uri": "https://localhost:8080/"
        },
        "id": "_DpzP0XXhCFW",
        "outputId": "d916fd70-d386-439d-ffad-84386da20817"
      },
      "source": [
        "from matplotlib import pyplot as plt\n",
        "# list all data in history\n",
        "print(history.history.keys())\n",
        "# summarize history for accuracy\n",
        "plt.plot(history.history['accuracy'], label='accuracy')\n",
        "plt.plot(history.history['val_accuracy'], label='val_accuracy')\n",
        "#plt.plot(history.history['test_accuracy'])\n",
        "plt.title('model accuracy')\n",
        "plt.ylabel('accuracy')\n",
        "plt.xlabel('epoch')\n",
        "#plt.legend(['train', 'test'], loc='upper left')\n",
        "plt.show()\n",
        "# summarize history for loss\n",
        "plt.plot(history.history['loss'], label='loss')\n",
        "plt.plot(history.history['val_loss'], label='val_loss')\n",
        "#plt.plot(history.history['test_loss'])\n",
        "plt.title('model loss')\n",
        "plt.ylabel('loss')\n",
        "plt.xlabel('epoch')\n",
        "#plt.legend(['train', 'test'], loc='upper left')\n",
        "plt.show()"
      ],
      "execution_count": null,
      "outputs": [
        {
          "name": "stdout",
          "output_type": "stream",
          "text": [
            "dict_keys(['loss', 'accuracy', 'val_loss', 'val_accuracy'])\n"
          ]
        },
        {
          "data": {
            "image/png": "[encoded data removed]",
            "text/plain": [
              "<Figure size 432x288 with 1 Axes>"
            ]
          },
          "metadata": {},
          "output_type": "display_data"
        },
        {
          "data": {
            "image/png": "[encoded data removed]",
            "text/plain": [
              "<Figure size 432x288 with 1 Axes>"
            ]
          },
          "metadata": {},
          "output_type": "display_data"
        }
      ]
    },
    {
      "cell_type": "markdown",
      "metadata": {
        "id": "YmntcVcpykwr"
      },
      "source": [
        "# RESNET 50 load weights , transfer learning ...train all layers/ 0.938"
      ]
    },
    {
      "cell_type": "code",
      "metadata": {
        "id": "ndjGVgpLykws"
      },
      "source": [
        "import cv2\n",
        "import numpy as np\n",
        "import os\n",
        "from tensorflow.keras.preprocessing.image import ImageDataGenerator\n",
        "from tensorflow.keras import backend as K\n",
        "import tensorflow.keras\n",
        "from tensorflow.keras.models import Sequential, Model,load_model\n",
        "#from keras.optimizers import SGD\n",
        "from tensorflow.keras.callbacks import EarlyStopping,ModelCheckpoint\n",
        "from google.colab.patches import cv2_imshow\n",
        "from tensorflow.keras.layers import Input, Add, Dense, Activation, ZeroPadding2D, BatchNormalization, Flatten, Conv2D, AveragePooling2D, MaxPooling2D, GlobalMaxPooling2D,MaxPool2D\n",
        "from tensorflow.keras.preprocessing import image\n",
        "from tensorflow.keras.initializers import glorot_uniform"
      ],
      "execution_count": null,
      "outputs": []
    },
    {
      "cell_type": "code",
      "metadata": {
        "id": "bOzmIQQ3ykwu"
      },
      "source": [
        "def identity_block(X, f, filters, stage, block):\n",
        "   \n",
        "    conv_name_base = 'res' + str(stage) + block + '_branch'\n",
        "    bn_name_base = 'bn' + str(stage) + block + '_branch'\n",
        "    F1, F2, F3 = filters\n",
        "\n",
        "    X_shortcut = X\n",
        "   \n",
        "    X = Conv2D(filters=F1, kernel_size=(1, 1), strides=(1, 1), padding='valid', name=conv_name_base + '2a', kernel_initializer=glorot_uniform(seed=0))(X)\n",
        "    X = BatchNormalization(axis=3, name=bn_name_base + '2a')(X)\n",
        "    X = Activation('relu')(X)\n",
        "\n",
        "    X = Conv2D(filters=F2, kernel_size=(f, f), strides=(1, 1), padding='same', name=conv_name_base + '2b', kernel_initializer=glorot_uniform(seed=0))(X)\n",
        "    X = BatchNormalization(axis=3, name=bn_name_base + '2b')(X)\n",
        "    X = Activation('relu')(X)\n",
        "\n",
        "    X = Conv2D(filters=F3, kernel_size=(1, 1), strides=(1, 1), padding='valid', name=conv_name_base + '2c', kernel_initializer=glorot_uniform(seed=0))(X)\n",
        "    X = BatchNormalization(axis=3, name=bn_name_base + '2c')(X)\n",
        "\n",
        "    X = Add()([X, X_shortcut])# SKIP Connection\n",
        "    X = Activation('relu')(X)\n",
        "\n",
        "    return X"
      ],
      "execution_count": null,
      "outputs": []
    },
    {
      "cell_type": "code",
      "metadata": {
        "id": "ftulwgGMykwu"
      },
      "source": [
        "def convolutional_block(X, f, filters, stage, block, s=2):\n",
        "   \n",
        "    conv_name_base = 'res' + str(stage) + block + '_branch'\n",
        "    bn_name_base = 'bn' + str(stage) + block + '_branch'\n",
        "\n",
        "    F1, F2, F3 = filters\n",
        "\n",
        "    X_shortcut = X\n",
        "\n",
        "    X = Conv2D(filters=F1, kernel_size=(1, 1), strides=(s, s), padding='valid', name=conv_name_base + '2a', kernel_initializer=glorot_uniform(seed=0))(X)\n",
        "    X = BatchNormalization(axis=3, name=bn_name_base + '2a')(X)\n",
        "    X = Activation('relu')(X)\n",
        "\n",
        "    X = Conv2D(filters=F2, kernel_size=(f, f), strides=(1, 1), padding='same', name=conv_name_base + '2b', kernel_initializer=glorot_uniform(seed=0))(X)\n",
        "    X = BatchNormalization(axis=3, name=bn_name_base + '2b')(X)\n",
        "    X = Activation('relu')(X)\n",
        "\n",
        "    X = Conv2D(filters=F3, kernel_size=(1, 1), strides=(1, 1), padding='valid', name=conv_name_base + '2c', kernel_initializer=glorot_uniform(seed=0))(X)\n",
        "    X = BatchNormalization(axis=3, name=bn_name_base + '2c')(X)\n",
        "\n",
        "    X_shortcut = Conv2D(filters=F3, kernel_size=(1, 1), strides=(s, s), padding='valid', name=conv_name_base + '1', kernel_initializer=glorot_uniform(seed=0))(X_shortcut)\n",
        "    X_shortcut = BatchNormalization(axis=3, name=bn_name_base + '1')(X_shortcut)\n",
        "\n",
        "    X = Add()([X, X_shortcut])\n",
        "    X = Activation('relu')(X)\n",
        "\n",
        "    return X"
      ],
      "execution_count": null,
      "outputs": []
    },
    {
      "cell_type": "code",
      "metadata": {
        "id": "fiqiDn3Xykwv"
      },
      "source": [
        "def ResNet50(input_shape=(224, 224, 3)):\n",
        "\n",
        "    X_input = Input(input_shape)\n",
        "\n",
        "    X = ZeroPadding2D((3, 3))(X_input)\n",
        "\n",
        "    X = Conv2D(64, (7, 7), strides=(2, 2), name='conv1', kernel_initializer=glorot_uniform(seed=0))(X)\n",
        "    X = BatchNormalization(axis=3, name='bn_conv1')(X)\n",
        "    X = Activation('relu')(X)\n",
        "    X = MaxPooling2D((3, 3), strides=(2, 2))(X)\n",
        "\n",
        "    X = convolutional_block(X, f=3, filters=[64, 64, 256], stage=2, block='a', s=1)\n",
        "    X = identity_block(X, 3, [64, 64, 256], stage=2, block='b')\n",
        "    X = identity_block(X, 3, [64, 64, 256], stage=2, block='c')\n",
        "\n",
        "\n",
        "    X = convolutional_block(X, f=3, filters=[128, 128, 512], stage=3, block='a', s=2)\n",
        "    X = identity_block(X, 3, [128, 128, 512], stage=3, block='b')\n",
        "    X = identity_block(X, 3, [128, 128, 512], stage=3, block='c')\n",
        "    X = identity_block(X, 3, [128, 128, 512], stage=3, block='d')\n",
        "\n",
        "    X = convolutional_block(X, f=3, filters=[256, 256, 1024], stage=4, block='a', s=2)\n",
        "    X = identity_block(X, 3, [256, 256, 1024], stage=4, block='b')\n",
        "    X = identity_block(X, 3, [256, 256, 1024], stage=4, block='c')\n",
        "    X = identity_block(X, 3, [256, 256, 1024], stage=4, block='d')\n",
        "    X = identity_block(X, 3, [256, 256, 1024], stage=4, block='e')\n",
        "    X = identity_block(X, 3, [256, 256, 1024], stage=4, block='f')\n",
        "\n",
        "    X = X = convolutional_block(X, f=3, filters=[512, 512, 2048], stage=5, block='a', s=2)\n",
        "    X = identity_block(X, 3, [512, 512, 2048], stage=5, block='b')\n",
        "    X = identity_block(X, 3, [512, 512, 2048], stage=5, block='c')\n",
        "\n",
        "    X = AveragePooling2D(pool_size=(2, 2), padding='same')(X)\n",
        "    \n",
        "    model = Model(inputs=X_input, outputs=X, name='ResNet50')\n",
        "\n",
        "    return model"
      ],
      "execution_count": null,
      "outputs": []
    },
    {
      "cell_type": "code",
      "metadata": {
        "id": "8iQ-18Qsykwv"
      },
      "source": [
        "base_model = ResNet50(input_shape=(224, 224, 3))"
      ],
      "execution_count": null,
      "outputs": []
    },
    {
      "cell_type": "code",
      "metadata": {
        "id": "wORRXN_xykwv"
      },
      "source": [
        "headModel = base_model.output\n",
        "headModel = Flatten()(headModel)\n",
        "headModel=Dense(256, activation='relu', name='fc1',kernel_initializer=glorot_uniform(seed=0))(headModel)\n",
        "headModel=Dense(128, activation='relu', name='fc2',kernel_initializer=glorot_uniform(seed=0))(headModel)\n",
        "headModel = Dense( 2,activation='softmax', name='fc3',kernel_initializer=glorot_uniform(seed=0))(headModel)"
      ],
      "execution_count": null,
      "outputs": []
    },
    {
      "cell_type": "code",
      "metadata": {
        "id": "IDFXDF_pykww"
      },
      "source": [
        "#download model\n",
        "import requests\n",
        "#https://drive.google.com/uc?export=download&id=1n7rGZsAvwr6Le-IEHWBgA7ihz3pZA1DE\n",
        "def download_file_from_google_drive(id, destination):\n",
        "    URL = \"https://docs.google.com/uc?export=download\"\n",
        "    session = requests.Session()\n",
        "    response = session.get(URL, params = { 'id' : id }, stream = True)\n",
        "    token = get_confirm_token(response)\n",
        "    if token:\n",
        "        params = { 'id' : id, 'confirm' : token }\n",
        "        response = session.get(URL, params = params, stream = True)\n",
        "    save_response_content(response, destination)    \n",
        "def get_confirm_token(response):\n",
        "    for key, value in response.cookies.items():\n",
        "        if key.startswith('download_warning'):\n",
        "            return value\n",
        "    return None\n",
        "def save_response_content(response, destination):\n",
        "    CHUNK_SIZE = 32768\n",
        "    with open(destination, \"wb\") as f:\n",
        "        for chunk in response.iter_content(CHUNK_SIZE):\n",
        "            if chunk: # filter out keep-alive new chunks\n",
        "                f.write(chunk)\n",
        "class_m=0   \n",
        "plus=True               \n",
        "file_id = '1n7rGZsAvwr6Le-IEHWBgA7ihz3pZA1DE'\n",
        "destination = 'resnet50_weights_tf_dim_ordering_tf_kernels_notop.h5'\n",
        "download_file_from_google_drive(file_id, destination)  \n"
      ],
      "execution_count": null,
      "outputs": []
    },
    {
      "cell_type": "code",
      "metadata": {
        "id": "09irvPZfykww"
      },
      "source": [
        "#Load the pre-trained weights of the model\n",
        "base_model.load_weights(\"/content/resnet50_weights_tf_dim_ordering_tf_kernels_notop.h5\")"
      ],
      "execution_count": null,
      "outputs": []
    },
    {
      "cell_type": "code",
      "metadata": {
        "id": "9WITVm4Lykwx"
      },
      "source": [
        "model = Model(inputs=base_model.input, outputs=headModel)"
      ],
      "execution_count": null,
      "outputs": []
    },
    {
      "cell_type": "code",
      "metadata": {
        "colab": {
          "base_uri": "https://localhost:8080/"
        },
        "id": "q8Oe3640ykwx",
        "outputId": "aae55ebf-e580-45ba-90cc-aaf3ad4bf05c"
      },
      "source": [
        "datagen = ImageDataGenerator( featurewise_center=True,featurewise_std_normalization=True)\n",
        "# specify imagenet mean values for centering\n",
        "datagen.mean = [0.485*255, 0.456*255, 0.406*255]#[0.6318*255, 0.5199*255, 0.4509*255]   \n",
        "datagen.std = 0.226*255\n",
        "# create data generator\n",
        "# prepare iterators\n",
        "train = datagen.flow_from_directory(input_path+'train/',class_mode=\"categorical\", batch_size=18, target_size=(224, 224))\n",
        "val = datagen.flow_from_directory(input_path+'val/',class_mode=\"categorical\", batch_size=18, target_size=(224, 224))\n",
        "test= datagen.flow_from_directory(input_path+'test/',class_mode=\"categorical\", batch_size=16, target_size=(224, 224))"
      ],
      "execution_count": null,
      "outputs": [
        {
          "name": "stdout",
          "output_type": "stream",
          "text": [
            "Found 15998 images belonging to 2 classes.\n",
            "Found 4000 images belonging to 2 classes.\n",
            "Found 5002 images belonging to 2 classes.\n"
          ]
        }
      ]
    },
    {
      "cell_type": "code",
      "metadata": {
        "colab": {
          "base_uri": "https://localhost:8080/"
        },
        "id": "8a5fmtoaykwy",
        "outputId": "a5e4ba73-129d-428a-9cac-b797ec139267"
      },
      "source": [
        "model.compile(optimizer='adam', loss='categorical_crossentropy', metrics=['accuracy'])\n",
        "es=EarlyStopping(monitor='val_accuracy', mode='max', verbose=1, patience=10)\n",
        "mc = ModelCheckpoint('best_model.h5', monitor='val_accuracy', mode='max',save_best_only=True)\n",
        "history = model.fit_generator(train,validation_data=val,epochs=15,callbacks=[mc,es])"
      ],
      "execution_count": null,
      "outputs": [
        {
          "name": "stderr",
          "output_type": "stream",
          "text": [
            "/usr/local/lib/python3.7/dist-packages/ipykernel_launcher.py:4: UserWarning: `Model.fit_generator` is deprecated and will be removed in a future version. Please use `Model.fit`, which supports generators.\n",
            "  after removing the cwd from sys.path.\n"
          ]
        },
        {
          "name": "stdout",
          "output_type": "stream",
          "text": [
            "Epoch 1/15\n",
            "889/889 [==============================] - ETA: 0s - loss: 0.4870 - accuracy: 0.7995"
          ]
        },
        {
          "name": "stderr",
          "output_type": "stream",
          "text": [
            "/usr/local/lib/python3.7/dist-packages/keras/engine/functional.py:1410: CustomMaskWarning: Custom mask layers require a config and must override get_config. When loading, the custom mask layer must be passed to the custom_objects argument.\n",
            "  layer_config = serialize_layer_fn(layer)\n"
          ]
        },
        {
          "name": "stdout",
          "output_type": "stream",
          "text": [
            "889/889 [==============================] - 485s 503ms/step - loss: 0.4870 - accuracy: 0.7995 - val_loss: 0.3955 - val_accuracy: 0.8420\n",
            "Epoch 2/15\n",
            "889/889 [==============================] - 444s 499ms/step - loss: 0.2308 - accuracy: 0.9065 - val_loss: 0.3123 - val_accuracy: 0.8982\n",
            "Epoch 3/15\n",
            "889/889 [==============================] - 440s 494ms/step - loss: 0.2172 - accuracy: 0.9107 - val_loss: 0.5888 - val_accuracy: 0.8012\n",
            "Epoch 4/15\n",
            "889/889 [==============================] - 444s 499ms/step - loss: 0.2201 - accuracy: 0.9104 - val_loss: 0.2367 - val_accuracy: 0.9085\n",
            "Epoch 5/15\n",
            "889/889 [==============================] - 444s 500ms/step - loss: 0.1525 - accuracy: 0.9386 - val_loss: 0.1956 - val_accuracy: 0.9342\n",
            "Epoch 6/15\n",
            "889/889 [==============================] - 436s 490ms/step - loss: 0.1390 - accuracy: 0.9462 - val_loss: 0.2653 - val_accuracy: 0.8903\n",
            "Epoch 7/15\n",
            "889/889 [==============================] - 436s 491ms/step - loss: 0.1884 - accuracy: 0.9279 - val_loss: 0.2800 - val_accuracy: 0.8947\n",
            "Epoch 8/15\n",
            "889/889 [==============================] - 437s 492ms/step - loss: 0.1155 - accuracy: 0.9548 - val_loss: 0.2415 - val_accuracy: 0.9095\n",
            "Epoch 9/15\n",
            "889/889 [==============================] - 436s 491ms/step - loss: 0.1154 - accuracy: 0.9566 - val_loss: 0.2469 - val_accuracy: 0.9003\n",
            "Epoch 10/15\n",
            "889/889 [==============================] - 435s 489ms/step - loss: 0.1095 - accuracy: 0.9594 - val_loss: 0.4709 - val_accuracy: 0.8060\n",
            "Epoch 11/15\n",
            "889/889 [==============================] - 436s 490ms/step - loss: 0.1354 - accuracy: 0.9502 - val_loss: 0.3727 - val_accuracy: 0.8652\n",
            "Epoch 12/15\n",
            "889/889 [==============================] - 441s 496ms/step - loss: 0.0782 - accuracy: 0.9699 - val_loss: 0.1763 - val_accuracy: 0.9335\n",
            "Epoch 13/15\n",
            "889/889 [==============================] - 437s 492ms/step - loss: 0.0727 - accuracy: 0.9729 - val_loss: 0.2110 - val_accuracy: 0.9295\n",
            "Epoch 14/15\n",
            "889/889 [==============================] - 445s 500ms/step - loss: 0.0809 - accuracy: 0.9694 - val_loss: 0.1875 - val_accuracy: 0.9400\n",
            "Epoch 15/15\n",
            "889/889 [==============================] - 437s 492ms/step - loss: 0.0691 - accuracy: 0.9747 - val_loss: 0.2615 - val_accuracy: 0.8920\n"
          ]
        }
      ]
    },
    {
      "cell_type": "code",
      "metadata": {
        "colab": {
          "base_uri": "https://localhost:8080/"
        },
        "id": "kya8yh8rykwy",
        "outputId": "e2cf3c28-fd86-4cee-b5d3-b3c77243021d"
      },
      "source": [
        "model.load_weights(\"best_model.h5\")\n",
        "model.evaluate_generator(test)"
      ],
      "execution_count": null,
      "outputs": [
        {
          "name": "stderr",
          "output_type": "stream",
          "text": [
            "/usr/local/lib/python3.7/dist-packages/ipykernel_launcher.py:2: UserWarning: `Model.evaluate_generator` is deprecated and will be removed in a future version. Please use `Model.evaluate`, which supports generators.\n",
            "  \n"
          ]
        },
        {
          "data": {
            "text/plain": [
              "[0.1671431064605713, 0.9386245608329773]"
            ]
          },
          "execution_count": 25,
          "metadata": {},
          "output_type": "execute_result"
        }
      ]
    },
    {
      "cell_type": "code",
      "metadata": {
        "colab": {
          "base_uri": "https://localhost:8080/",
          "height": 591
        },
        "id": "jgHrvRZdykwy",
        "outputId": "465f3bbf-104b-47b0-bd3f-a89389f3d4fe"
      },
      "source": [
        "from matplotlib import pyplot as plt\n",
        "# list all data in history\n",
        "print(history.history.keys())\n",
        "# summarize history for accuracy\n",
        "plt.plot(history.history['accuracy'], label='accuracy')\n",
        "plt.plot(history.history['val_accuracy'], label='val_accuracy')\n",
        "#plt.plot(history.history['test_accuracy'])\n",
        "plt.title('model accuracy')\n",
        "plt.ylabel('accuracy')\n",
        "plt.xlabel('epoch')\n",
        "#plt.legend(['train', 'test'], loc='upper left')\n",
        "plt.show()\n",
        "# summarize history for loss\n",
        "plt.plot(history.history['loss'], label='loss')\n",
        "plt.plot(history.history['val_loss'], label='val_loss')\n",
        "#plt.plot(history.history['test_loss'])\n",
        "plt.title('model loss')\n",
        "plt.ylabel('loss')\n",
        "plt.xlabel('epoch')\n",
        "#plt.legend(['train', 'test'], loc='upper left')\n",
        "plt.show()"
      ],
      "execution_count": null,
      "outputs": [
        {
          "name": "stdout",
          "output_type": "stream",
          "text": [
            "dict_keys(['loss', 'accuracy', 'val_loss', 'val_accuracy'])\n"
          ]
        },
        {
          "data": {
            "image/png": "[encoded data removed]",
            "text/plain": [
              "<Figure size 432x288 with 1 Axes>"
            ]
          },
          "metadata": {},
          "output_type": "display_data"
        },
        {
          "data": {
            "image/png": "[encoded data removed]",
            "text/plain": [
              "<Figure size 432x288 with 1 Axes>"
            ]
          },
          "metadata": {},
          "output_type": "display_data"
        }
      ]
    }
  ]
}