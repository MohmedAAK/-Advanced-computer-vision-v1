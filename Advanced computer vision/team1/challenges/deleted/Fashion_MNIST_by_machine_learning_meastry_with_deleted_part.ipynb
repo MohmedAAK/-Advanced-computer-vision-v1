{
  "nbformat": 4,
  "nbformat_minor": 0,
  "metadata": {
    "colab": {
      "name": "Fashion-MNIST-by-machine learning meastry with_deleted_part.ipynb",
      "provenance": [],
      "collapsed_sections": [
        "ZYHyNNGpsAY7",
        "PqU9JzNxwRmF",
        "HjpM_PBXsCzt",
        "lLyqOWLssNTr",
        "XbV3BADrsTcW",
        "0f-YXgEN3Hct"
      ],
      "include_colab_link": true
    },
    "kernelspec": {
      "name": "python3",
      "display_name": "Python 3"
    },
    "accelerator": "GPU"
  },
  "cells": [
    {
      "cell_type": "markdown",
      "metadata": {
        "id": "view-in-github",
        "colab_type": "text"
      },
      "source": [
        "<a href=\"https://colab.research.google.com/github/MohmedAAK/-Advanced-computer-vision-v1/blob/main/Advanced%20computer%20vision/team1/Fashion_MNIST_by_machine_learning_meastry_with_deleted_part.ipynb\" target=\"_parent\"><img src=\"https://colab.research.google.com/assets/colab-badge.svg\" alt=\"Open In Colab\"/></a>"
      ]
    },
    {
      "cell_type": "code",
      "metadata": {
        "id": "vNDZioP9PcsH"
      },
      "source": [
        "# model with padded convolutions for the fashion mnist dataset\n",
        "from numpy import mean\n",
        "from numpy import std\n",
        "from matplotlib import pyplot\n",
        "from sklearn.model_selection import KFold\n",
        "from keras.datasets import fashion_mnist\n",
        "from tensorflow.keras.utils import to_categorical\n",
        "from tensorflow.keras.models import Sequential\n",
        "from tensorflow.keras.layers import Conv2D\n",
        "from tensorflow.keras.layers import MaxPooling2D\n",
        "from tensorflow.keras.layers import Dense\n",
        "from tensorflow.keras.layers import Flatten\n",
        "from tensorflow.keras.optimizers import SGD"
      ],
      "execution_count": null,
      "outputs": []
    },
    {
      "cell_type": "code",
      "metadata": {
        "id": "1-ri8fZyQWWr"
      },
      "source": [
        "# load train and test dataset\n",
        "def load_dataset():\n",
        "\t# load dataset\n",
        "\t(trainX, trainY), (testX, testY) = fashion_mnist.load_data()\n",
        "\t# reshape dataset to have a single channel\n",
        "\ttrainX = trainX.reshape((trainX.shape[0], 28, 28, 1))\n",
        "\ttestX = testX.reshape((testX.shape[0], 28, 28, 1))\n",
        "\t# one hot encode target values\n",
        "\ttrainY = to_categorical(trainY)\n",
        "\ttestY = to_categorical(testY)\n",
        "\treturn trainX, trainY, testX, testY"
      ],
      "execution_count": null,
      "outputs": []
    },
    {
      "cell_type": "code",
      "metadata": {
        "id": "k9GEVp9TQWhY"
      },
      "source": [
        "# scale pixels\n",
        "def prep_pixels(train, test):\n",
        "\t# convert from integers to floats\n",
        "\ttrain_norm = train.astype('float32')\n",
        "\ttest_norm = test.astype('float32')\n",
        "\t# normalize to range 0-1\n",
        "\ttrain_norm = train_norm / 255.0\n",
        "\ttest_norm = test_norm / 255.0\n",
        "\t# return normalized images\n",
        "\treturn train_norm, test_norm"
      ],
      "execution_count": null,
      "outputs": []
    },
    {
      "cell_type": "code",
      "metadata": {
        "id": "hdk4gQsgQWqM"
      },
      "source": [
        "# define cnn model\n",
        "def define_model():\n",
        "\tmodel = Sequential()\n",
        "\tmodel.add(Conv2D(32, (3, 3), padding='same', activation='relu', kernel_initializer='he_uniform', input_shape=(28, 28, 1)))\n",
        "\tmodel.add(MaxPooling2D((2, 2)))\n",
        "\tmodel.add(Flatten())\n",
        "\tmodel.add(Dense(100, activation='relu', kernel_initializer='he_uniform'))\n",
        "\tmodel.add(Dense(10, activation='softmax'))\n",
        "\t# compile model\n",
        "\topt = SGD(lr=0.01, momentum=0.9)\n",
        "\tmodel.compile(optimizer=opt, loss='categorical_crossentropy', metrics=['accuracy'])\n",
        "\treturn model"
      ],
      "execution_count": null,
      "outputs": []
    },
    {
      "cell_type": "code",
      "metadata": {
        "id": "P5-EIumTQW1y"
      },
      "source": [
        "# evaluate a model using k-fold cross-validation\n",
        "def evaluate_model(dataX, dataY, n_folds=5):\n",
        "  scores, histories = list(), list()\n",
        "  # prepare cross validation\n",
        "  kfold = KFold(n_folds, shuffle=True, random_state=1)\n",
        "  counter=0\n",
        "  # enumerate splits\n",
        "  for train_ix, test_ix in kfold.split(dataX):\n",
        "    # define model\n",
        "    model = define_model()\n",
        "    # select rows for train and test\n",
        "    trainX, trainY, testX, testY = dataX[train_ix], dataY[train_ix], dataX[test_ix], dataY[test_ix]\n",
        "    # fit model\n",
        "    print(\"model \"+str(counter)+\" ------------------------\")\n",
        "    counter+=1\n",
        "    history = model.fit(trainX, trainY, epochs=10, batch_size=32, validation_data=(testX, testY), verbose=1)\n",
        "    # evaluate model\n",
        "    _, acc = model.evaluate(testX, testY, verbose=0)\n",
        "    print('>accuarcy %.3f' % (acc * 100.0))\n",
        "    # append scores\n",
        "    scores.append(acc)\n",
        "    histories.append(history)\n",
        "  return scores, histories"
      ],
      "execution_count": null,
      "outputs": []
    },
    {
      "cell_type": "code",
      "metadata": {
        "id": "JAw8z6VTQeB1"
      },
      "source": [
        "# plot diagnostic learning curves\n",
        "def summarize_diagnostics(histories):\n",
        "\tfor i in range(len(histories)):\n",
        "\t\t# plot loss\n",
        "\t\tpyplot.subplot(211)\n",
        "\t\tpyplot.title('Cross Entropy Loss')\n",
        "\t\tpyplot.plot(histories[i].history['loss'], color='blue', label='train')\n",
        "\t\tpyplot.plot(histories[i].history['val_loss'], color='orange', label='test')\n",
        "\t\t# plot accuracy\n",
        "\t\tpyplot.subplot(212)\n",
        "\t\tpyplot.title('Classification Accuracy')\n",
        "\t\tpyplot.plot(histories[i].history['accuracy'], color='blue', label='train')\n",
        "\t\tpyplot.plot(histories[i].history['val_accuracy'], color='orange', label='test')\n",
        "\tpyplot.show()\n",
        " "
      ],
      "execution_count": null,
      "outputs": []
    },
    {
      "cell_type": "code",
      "metadata": {
        "id": "Gj3mFyKuQeIC"
      },
      "source": [
        "# summarize model performance\n",
        "def summarize_performance(scores):\n",
        "\t# print summary\n",
        "\tprint('Accuracy: mean=%.3f std=%.3f, n=%d' % (mean(scores)*100, std(scores)*100, len(scores)))\n",
        "\t# box and whisker plots of results\n",
        "\tpyplot.boxplot(scores)\n",
        "\tpyplot.show()\n",
        " "
      ],
      "execution_count": null,
      "outputs": []
    },
    {
      "cell_type": "code",
      "metadata": {
        "colab": {
          "base_uri": "https://localhost:8080/",
          "height": 1000
        },
        "id": "6whIBk5QQi44",
        "outputId": "2e7e5e95-299b-4bae-ac96-8f88a9f1f08f"
      },
      "source": [
        "# run the test harness for evaluating a model\n",
        "def run_test_harness():\n",
        "\t# load dataset\n",
        "\ttrainX, trainY, testX, testY = load_dataset()\n",
        "\t# prepare pixel data\n",
        "\ttrainX, testX = prep_pixels(trainX, testX)\n",
        "\t# evaluate model\n",
        "\tscores, histories = evaluate_model(trainX, trainY)\n",
        "\t# learning curves\n",
        "\tsummarize_diagnostics(histories)\n",
        "\t# summarize estimated performance\n",
        "\tsummarize_performance(scores)\n",
        " \n",
        "# entry point, run the test harness\n",
        "run_test_harness()"
      ],
      "execution_count": null,
      "outputs": [
        {
          "metadata": {
            "tags": null
          },
          "name": "stderr",
          "output_type": "stream",
          "text": [
            "/usr/local/lib/python3.7/dist-packages/keras/optimizer_v2/gradient_descent.py:102: UserWarning: The `lr` argument is deprecated, use `learning_rate` instead.\n",
            "  super(SGD, self).__init__(name, **kwargs)\n"
          ]
        },
        {
          "output_type": "stream",
          "name": "stdout",
          "text": [
            "model 0 ------------------------\n",
            "Epoch 1/10\n",
            "1500/1500 [==============================] - 9s 6ms/step - loss: 0.4402 - accuracy: 0.8422 - val_loss: 0.3289 - val_accuracy: 0.8799\n",
            "Epoch 2/10\n",
            "1500/1500 [==============================] - 8s 5ms/step - loss: 0.2984 - accuracy: 0.8913 - val_loss: 0.3061 - val_accuracy: 0.8878\n",
            "Epoch 3/10\n",
            "1500/1500 [==============================] - 9s 6ms/step - loss: 0.2533 - accuracy: 0.9072 - val_loss: 0.2755 - val_accuracy: 0.8997\n",
            "Epoch 4/10\n",
            "1500/1500 [==============================] - 8s 6ms/step - loss: 0.2274 - accuracy: 0.9165 - val_loss: 0.2664 - val_accuracy: 0.9023\n",
            "Epoch 5/10\n",
            "1500/1500 [==============================] - 8s 6ms/step - loss: 0.2021 - accuracy: 0.9263 - val_loss: 0.2765 - val_accuracy: 0.8998\n",
            "Epoch 6/10\n",
            "1500/1500 [==============================] - 9s 6ms/step - loss: 0.1848 - accuracy: 0.9320 - val_loss: 0.2805 - val_accuracy: 0.9030\n",
            "Epoch 7/10\n",
            "1500/1500 [==============================] - 9s 6ms/step - loss: 0.1687 - accuracy: 0.9373 - val_loss: 0.2798 - val_accuracy: 0.8975\n",
            "Epoch 8/10\n",
            "1500/1500 [==============================] - 9s 6ms/step - loss: 0.1508 - accuracy: 0.9442 - val_loss: 0.2745 - val_accuracy: 0.9078\n",
            "Epoch 9/10\n",
            "1500/1500 [==============================] - 9s 6ms/step - loss: 0.1376 - accuracy: 0.9485 - val_loss: 0.2647 - val_accuracy: 0.9117\n",
            "Epoch 10/10\n",
            "1500/1500 [==============================] - 9s 6ms/step - loss: 0.1238 - accuracy: 0.9542 - val_loss: 0.3057 - val_accuracy: 0.8994\n",
            ">accuarcy 89.942\n",
            "model 1 ------------------------\n",
            "Epoch 1/10\n",
            "1500/1500 [==============================] - 9s 6ms/step - loss: 0.4608 - accuracy: 0.8360 - val_loss: 0.3451 - val_accuracy: 0.8773\n",
            "Epoch 2/10\n",
            "1500/1500 [==============================] - 8s 6ms/step - loss: 0.3053 - accuracy: 0.8892 - val_loss: 0.2910 - val_accuracy: 0.8916\n",
            "Epoch 3/10\n",
            "1500/1500 [==============================] - 8s 6ms/step - loss: 0.2601 - accuracy: 0.9048 - val_loss: 0.3010 - val_accuracy: 0.8913\n",
            "Epoch 4/10\n",
            "1500/1500 [==============================] - 9s 6ms/step - loss: 0.2350 - accuracy: 0.9132 - val_loss: 0.2558 - val_accuracy: 0.9095\n",
            "Epoch 5/10\n",
            "1500/1500 [==============================] - 8s 6ms/step - loss: 0.2087 - accuracy: 0.9225 - val_loss: 0.2915 - val_accuracy: 0.8949\n",
            "Epoch 6/10\n",
            "1500/1500 [==============================] - 9s 6ms/step - loss: 0.1873 - accuracy: 0.9316 - val_loss: 0.2531 - val_accuracy: 0.9082\n",
            "Epoch 7/10\n",
            "1500/1500 [==============================] - 9s 6ms/step - loss: 0.1738 - accuracy: 0.9351 - val_loss: 0.2608 - val_accuracy: 0.9058\n",
            "Epoch 8/10\n",
            "1500/1500 [==============================] - 9s 6ms/step - loss: 0.1554 - accuracy: 0.9417 - val_loss: 0.2715 - val_accuracy: 0.9132\n",
            "Epoch 9/10\n",
            "1500/1500 [==============================] - 9s 6ms/step - loss: 0.1424 - accuracy: 0.9472 - val_loss: 0.2694 - val_accuracy: 0.9077\n",
            "Epoch 10/10\n",
            "1500/1500 [==============================] - 9s 6ms/step - loss: 0.1295 - accuracy: 0.9529 - val_loss: 0.2607 - val_accuracy: 0.9145\n",
            ">accuarcy 91.450\n",
            "model 2 ------------------------\n",
            "Epoch 1/10\n",
            "1500/1500 [==============================] - 9s 6ms/step - loss: 0.4449 - accuracy: 0.8396 - val_loss: 0.3310 - val_accuracy: 0.8842\n",
            "Epoch 2/10\n",
            "1500/1500 [==============================] - 8s 6ms/step - loss: 0.2930 - accuracy: 0.8912 - val_loss: 0.3079 - val_accuracy: 0.8906\n",
            "Epoch 3/10\n",
            "1500/1500 [==============================] - 8s 6ms/step - loss: 0.2480 - accuracy: 0.9079 - val_loss: 0.2695 - val_accuracy: 0.9027\n",
            "Epoch 4/10\n",
            "1500/1500 [==============================] - 9s 6ms/step - loss: 0.2185 - accuracy: 0.9190 - val_loss: 0.2605 - val_accuracy: 0.9072\n",
            "Epoch 5/10\n",
            "1500/1500 [==============================] - 9s 6ms/step - loss: 0.1950 - accuracy: 0.9270 - val_loss: 0.2602 - val_accuracy: 0.9065\n",
            "Epoch 6/10\n",
            "1500/1500 [==============================] - 9s 6ms/step - loss: 0.1761 - accuracy: 0.9350 - val_loss: 0.2536 - val_accuracy: 0.9117\n",
            "Epoch 7/10\n",
            "1500/1500 [==============================] - 9s 6ms/step - loss: 0.1570 - accuracy: 0.9419 - val_loss: 0.2454 - val_accuracy: 0.9137\n",
            "Epoch 8/10\n",
            "1500/1500 [==============================] - 8s 6ms/step - loss: 0.1404 - accuracy: 0.9483 - val_loss: 0.2866 - val_accuracy: 0.9040\n",
            "Epoch 9/10\n",
            "1500/1500 [==============================] - 8s 6ms/step - loss: 0.1266 - accuracy: 0.9530 - val_loss: 0.2840 - val_accuracy: 0.9089\n",
            "Epoch 10/10\n",
            "1500/1500 [==============================] - 9s 6ms/step - loss: 0.1140 - accuracy: 0.9588 - val_loss: 0.2847 - val_accuracy: 0.9090\n",
            ">accuarcy 90.900\n",
            "model 3 ------------------------\n",
            "Epoch 1/10\n",
            "1500/1500 [==============================] - 75s 6ms/step - loss: 0.4375 - accuracy: 0.8453 - val_loss: 0.3144 - val_accuracy: 0.8822\n",
            "Epoch 2/10\n",
            "1500/1500 [==============================] - 8s 6ms/step - loss: 0.2929 - accuracy: 0.8939 - val_loss: 0.2940 - val_accuracy: 0.8932\n",
            "Epoch 3/10\n",
            "1500/1500 [==============================] - 8s 6ms/step - loss: 0.2480 - accuracy: 0.9090 - val_loss: 0.2889 - val_accuracy: 0.8938\n",
            "Epoch 4/10\n",
            "1500/1500 [==============================] - 9s 6ms/step - loss: 0.2165 - accuracy: 0.9196 - val_loss: 0.2645 - val_accuracy: 0.9024\n",
            "Epoch 5/10\n",
            "1500/1500 [==============================] - 9s 6ms/step - loss: 0.1940 - accuracy: 0.9288 - val_loss: 0.2612 - val_accuracy: 0.9044\n",
            "Epoch 6/10\n",
            "1500/1500 [==============================] - 8s 6ms/step - loss: 0.1746 - accuracy: 0.9361 - val_loss: 0.2568 - val_accuracy: 0.9079\n",
            "Epoch 7/10\n",
            "1500/1500 [==============================] - 9s 6ms/step - loss: 0.1565 - accuracy: 0.9421 - val_loss: 0.2497 - val_accuracy: 0.9135\n",
            "Epoch 8/10\n",
            "1500/1500 [==============================] - 9s 6ms/step - loss: 0.1419 - accuracy: 0.9473 - val_loss: 0.2610 - val_accuracy: 0.9105\n",
            "Epoch 9/10\n",
            "1500/1500 [==============================] - 9s 6ms/step - loss: 0.1253 - accuracy: 0.9547 - val_loss: 0.2704 - val_accuracy: 0.9128\n",
            "Epoch 10/10\n",
            "1500/1500 [==============================] - 9s 6ms/step - loss: 0.1116 - accuracy: 0.9590 - val_loss: 0.2928 - val_accuracy: 0.9092\n",
            ">accuarcy 90.917\n",
            "model 4 ------------------------\n",
            "Epoch 1/10\n",
            "1500/1500 [==============================] - 9s 6ms/step - loss: 0.4125 - accuracy: 0.8520 - val_loss: 0.3026 - val_accuracy: 0.8923\n",
            "Epoch 2/10\n",
            "1500/1500 [==============================] - 8s 5ms/step - loss: 0.2840 - accuracy: 0.8961 - val_loss: 0.3113 - val_accuracy: 0.8875\n",
            "Epoch 3/10\n",
            "1500/1500 [==============================] - 8s 5ms/step - loss: 0.2404 - accuracy: 0.9106 - val_loss: 0.2609 - val_accuracy: 0.9083\n",
            "Epoch 4/10\n",
            "1500/1500 [==============================] - 8s 6ms/step - loss: 0.2080 - accuracy: 0.9222 - val_loss: 0.2972 - val_accuracy: 0.8960\n",
            "Epoch 5/10\n",
            "1500/1500 [==============================] - 9s 6ms/step - loss: 0.1872 - accuracy: 0.9307 - val_loss: 0.2667 - val_accuracy: 0.9061\n",
            "Epoch 6/10\n",
            "1500/1500 [==============================] - 9s 6ms/step - loss: 0.1666 - accuracy: 0.9382 - val_loss: 0.2611 - val_accuracy: 0.9062\n",
            "Epoch 7/10\n",
            "1500/1500 [==============================] - 9s 6ms/step - loss: 0.1493 - accuracy: 0.9461 - val_loss: 0.2706 - val_accuracy: 0.9110\n",
            "Epoch 8/10\n",
            "1500/1500 [==============================] - 9s 6ms/step - loss: 0.1322 - accuracy: 0.9511 - val_loss: 0.2679 - val_accuracy: 0.9073\n",
            "Epoch 9/10\n",
            "1500/1500 [==============================] - 9s 6ms/step - loss: 0.1179 - accuracy: 0.9579 - val_loss: 0.2598 - val_accuracy: 0.9150\n",
            "Epoch 10/10\n",
            "1500/1500 [==============================] - 9s 6ms/step - loss: 0.1065 - accuracy: 0.9608 - val_loss: 0.3023 - val_accuracy: 0.9066\n",
            ">accuarcy 90.658\n"
          ]
        },
        {
          "output_type": "stream",
          "name": "stderr",
          "text": [
            "/usr/local/lib/python3.7/dist-packages/ipykernel_launcher.py:5: MatplotlibDeprecationWarning: Adding an axes using the same arguments as a previous axes currently reuses the earlier instance.  In a future version, a new instance will always be created and returned.  Meanwhile, this warning can be suppressed, and the future behavior ensured, by passing a unique label to each axes instance.\n",
            "  \"\"\"\n",
            "/usr/local/lib/python3.7/dist-packages/ipykernel_launcher.py:10: MatplotlibDeprecationWarning: Adding an axes using the same arguments as a previous axes currently reuses the earlier instance.  In a future version, a new instance will always be created and returned.  Meanwhile, this warning can be suppressed, and the future behavior ensured, by passing a unique label to each axes instance.\n",
            "  # Remove the CWD from sys.path while we load stuff.\n"
          ]
        },
        {
          "output_type": "display_data",
          "data": {
            "image/png": "[encoded data removed]",
            "text/plain": [
              "<Figure size 432x288 with 2 Axes>"
            ]
          },
          "metadata": {
            "needs_background": "light"
          }
        },
        {
          "output_type": "stream",
          "name": "stdout",
          "text": [
            "Accuracy: mean=90.773 std=0.490, n=5\n"
          ]
        },
        {
          "output_type": "display_data",
          "data": {
            "image/png": "[encoded data removed]",
            "text/plain": [
              "<Figure size 432x288 with 1 Axes>"
            ]
          },
          "metadata": {
            "needs_background": "light"
          }
        }
      ]
    },
    {
      "cell_type": "markdown",
      "metadata": {
        "id": "Et3cSsaiPjZH"
      },
      "source": [
        "#deleted"
      ]
    },
    {
      "cell_type": "markdown",
      "metadata": {
        "id": "ZYHyNNGpsAY7"
      },
      "source": [
        "## 1. Prepare dataset"
      ]
    },
    {
      "cell_type": "code",
      "metadata": {
        "id": "uQCnTxM4TIY8"
      },
      "source": [
        "import tensorflow_datasets as tfds\n",
        "import tensorflow as tf\n",
        "\n",
        "#print(tfds.list_builders())\n",
        "dataset, info = tfds.load('fashion_mnist', as_supervised = True, with_info = True)\n",
        "dataset_test, dataset_train = dataset['test'], dataset['train']\n",
        "print(info)"
      ],
      "execution_count": null,
      "outputs": []
    },
    {
      "cell_type": "code",
      "metadata": {
        "id": "uzTPgfh7WoP-"
      },
      "source": [
        "def convert_types(image, label):\n",
        "    image = tf.cast(image, tf.float32)\n",
        "    image /= 255\n",
        "    return image, label\n",
        "\n",
        "batch_size = 128\n",
        "\n",
        "dataset_train = dataset_train.map(convert_types).shuffle(10000).batch(batch_size)\n",
        "dataset_test = dataset_test.map(convert_types).batch(batch_size)"
      ],
      "execution_count": null,
      "outputs": []
    },
    {
      "cell_type": "markdown",
      "metadata": {
        "id": "PqU9JzNxwRmF"
      },
      "source": [
        "## 2. Data Augmentation"
      ]
    },
    {
      "cell_type": "code",
      "metadata": {
        "id": "fgxq02WjwZE9"
      },
      "source": [
        "from tensorflow.keras.preprocessing.image import ImageDataGenerator\n",
        "\n",
        "#datagen = ImageDataGenerator()\n",
        "datagen = ImageDataGenerator(rotation_range = 10, horizontal_flip = True, zoom_range = 0.1)"
      ],
      "execution_count": null,
      "outputs": []
    },
    {
      "cell_type": "markdown",
      "metadata": {
        "id": "HjpM_PBXsCzt"
      },
      "source": [
        "## 3. Define model"
      ]
    },
    {
      "cell_type": "code",
      "metadata": {
        "id": "ZKsXTb-1YiX6"
      },
      "source": [
        "from tensorflow.keras.layers import Conv2D, Dense, BatchNormalization, Activation, MaxPool2D, GlobalAveragePooling2D, Add\n",
        "from tensorflow.keras import Model\n",
        "\n",
        "class ResidualBlock(Model):\n",
        "    def __init__(self, channel_in = 64, channel_out = 256):\n",
        "        super().__init__()\n",
        "        \n",
        "        channel = channel_out // 4\n",
        "        \n",
        "        self.conv1 = Conv2D(channel, kernel_size = (1, 1), padding = \"same\")\n",
        "        self.bn1 = BatchNormalization()\n",
        "        self.av1 = Activation(tf.nn.relu)\n",
        "        self.conv2 = Conv2D(channel, kernel_size = (3, 3), padding = \"same\")\n",
        "        self.bn2 = BatchNormalization()\n",
        "        self.av2 = Activation(tf.nn.relu)\n",
        "        self.conv3 = Conv2D(channel_out, kernel_size = (1, 1), padding = \"same\")\n",
        "        self.bn3 = BatchNormalization()\n",
        "        self.shortcut = self._shortcut(channel_in, channel_out)\n",
        "        self.add = Add()\n",
        "        self.av3 = Activation(tf.nn.relu)\n",
        "        \n",
        "    def call(self, x):\n",
        "        h = self.conv1(x)\n",
        "        h = self.bn1(h)\n",
        "        h = self.av1(h)\n",
        "        h = self.conv2(h)\n",
        "        h = self.bn2(h)\n",
        "        h = self.av2(h)\n",
        "        h = self.conv3(h)\n",
        "        h = self.bn3(h)\n",
        "        shortcut = self.shortcut(x)\n",
        "        h = self.add([h, shortcut])\n",
        "        y = self.av3(h)\n",
        "        return y\n",
        "    \n",
        "    def _shortcut(self, channel_in, channel_out):\n",
        "        if channel_in == channel_out:\n",
        "            return lambda x : x\n",
        "        else:\n",
        "            return self._projection(channel_out)\n",
        "        \n",
        "    def _projection(self, channel_out):\n",
        "        return Conv2D(channel_out, kernel_size = (1, 1), padding = \"same\")\n",
        "           \n",
        "class ResNet50(Model):\n",
        "    def __init__(self, input_shape, output_dim):\n",
        "        super().__init__()                \n",
        "        \n",
        "        self._layers = [\n",
        "            # conv1\n",
        "            Conv2D(64, input_shape = input_shape, kernel_size = (7, 7), strides=(2, 2), padding = \"same\"),\n",
        "            BatchNormalization(),\n",
        "            Activation(tf.nn.relu),\n",
        "            # conv2_x\n",
        "            MaxPool2D(pool_size = (3, 3), strides = (2, 2), padding = \"same\"),\n",
        "            ResidualBlock(64, 256),\n",
        "            [\n",
        "                ResidualBlock(256, 256) for _ in range(2)                \n",
        "            ],\n",
        "            # conv3_x\n",
        "            Conv2D(512, kernel_size = (1, 1), strides=(2, 2)),\n",
        "            [\n",
        "                ResidualBlock(512, 512) for _ in range(4)                \n",
        "            ],\n",
        "            # conv4_x\n",
        "            Conv2D(1024, kernel_size = (1, 1), strides=(2, 2)),\n",
        "            [\n",
        "                ResidualBlock(1024, 1024) for _ in range(6)                \n",
        "            ],\n",
        "            # conv5_x\n",
        "            Conv2D(2048, kernel_size = (1, 1), strides=(2, 2)),\n",
        "            [\n",
        "                ResidualBlock(2048, 2048) for _ in range(3)\n",
        "            ],\n",
        "            # last part\n",
        "            GlobalAveragePooling2D(),\n",
        "            Dense(1000, activation = tf.nn.relu),\n",
        "            Dense(output_dim, activation = tf.nn.softmax)\n",
        "        ]\n",
        "        \n",
        "    def call(self, x):\n",
        "        for layer in self._layers:\n",
        "            if isinstance(layer, list):\n",
        "                for l in layer:\n",
        "                    x = l(x)    \n",
        "            else:\n",
        "                x = layer(x)\n",
        "        return x\n",
        "       \n",
        "    \n",
        "model = ResNet50((28, 28, 1), 10)\n",
        "model.build(input_shape = (None, 28, 28, 1))\n",
        "model.summary()"
      ],
      "execution_count": null,
      "outputs": []
    },
    {
      "cell_type": "code",
      "metadata": {
        "id": "I1CUVBw7f464"
      },
      "source": [
        "loss_object = tf.keras.losses.SparseCategoricalCrossentropy()\n",
        "optimizer = tf.keras.optimizers.Adam()\n",
        "#optimizer = tf.keras.optimizers.SGD(learning_rate = 0.1, momentum = 0.9, decay =  0.0001)"
      ],
      "execution_count": null,
      "outputs": []
    },
    {
      "cell_type": "markdown",
      "metadata": {
        "id": "lLyqOWLssNTr"
      },
      "source": [
        "## 4. Prepare training"
      ]
    },
    {
      "cell_type": "code",
      "metadata": {
        "id": "OPCBWDw0gXJ6"
      },
      "source": [
        "train_loss = tf.keras.metrics.Mean(name = 'train_loss')\n",
        "train_accuracy = tf.keras.metrics.SparseCategoricalAccuracy(name = 'train_accuracy')\n",
        "\n",
        "test_loss = tf.keras.metrics.Mean(name = 'test_loss')\n",
        "test_accuracy = tf.keras.metrics.SparseCategoricalAccuracy(name = 'test_accuracy')"
      ],
      "execution_count": null,
      "outputs": []
    },
    {
      "cell_type": "code",
      "metadata": {
        "id": "wVKWF-4MhE2W"
      },
      "source": [
        "@tf.function\n",
        "def train_step(image, label):\n",
        "    with tf.GradientTape() as tape:\n",
        "        predictions = model(image)\n",
        "        loss = loss_object(label, predictions)\n",
        "    gradients = tape.gradient(loss, model.trainable_variables)\n",
        "    optimizer.apply_gradients(zip(gradients, model.trainable_variables))\n",
        "    \n",
        "    train_loss(loss)\n",
        "    train_accuracy(label, predictions)\n",
        "        \n",
        "@tf.function\n",
        "def test_step(image, label):\n",
        "    predictions = model(image)\n",
        "    loss = loss_object(label, predictions)\n",
        "    \n",
        "    test_loss(loss)\n",
        "    test_accuracy(label, predictions)"
      ],
      "execution_count": null,
      "outputs": []
    },
    {
      "cell_type": "markdown",
      "metadata": {
        "id": "XbV3BADrsTcW"
      },
      "source": [
        "## 5. Train"
      ]
    },
    {
      "cell_type": "code",
      "metadata": {
        "id": "iQoh1m9oit4-"
      },
      "source": [
        "import time\n",
        "\n",
        "num_epoch = 400\n",
        "start_time = time.time()\n",
        "\n",
        "train_accuracies = []\n",
        "test_accuracies = []\n",
        "\n",
        "for epoch in range(num_epoch):    \n",
        "    for image, label in dataset_train:\n",
        "        for _image, _label in datagen.flow(image, label, batch_size = batch_size):\n",
        "            train_step(_image, _label)\n",
        "            break\n",
        "        \n",
        "    for test_image, test_label in dataset_test:\n",
        "        test_step(test_image, test_label)\n",
        "        \n",
        "    train_accuracies.append(train_accuracy.result())\n",
        "    test_accuracies.append(test_accuracy.result())    \n",
        "    \n",
        "    template = 'Epoch {}, Loss: {}, Accuracy: {}, Test Loss: {}, Test Accuracy: {}, spent_time: {} min'\n",
        "    spent_time = time.time() - start_time\n",
        "    print(template.format(epoch + 1, train_loss.result(), train_accuracy.result() * 100, test_loss.result(), test_accuracy.result() * 100, spent_time / 60))"
      ],
      "execution_count": null,
      "outputs": []
    },
    {
      "cell_type": "markdown",
      "metadata": {
        "id": "0f-YXgEN3Hct"
      },
      "source": [
        "## 6. Show transition of accuracy"
      ]
    },
    {
      "cell_type": "code",
      "metadata": {
        "id": "kNi_-yTD3GwO"
      },
      "source": [
        "import matplotlib.pyplot as plt\n",
        "\n",
        "plt.plot(train_accuracies, label = 'Train Accuracy')\n",
        "plt.plot(test_accuracies, linestyle = 'dashed', label = 'Test Accuracy')\n",
        "plt.legend()\n",
        "plt.show()"
      ],
      "execution_count": null,
      "outputs": []
    }
  ]
}
