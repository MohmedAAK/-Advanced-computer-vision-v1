{
  "nbformat": 4,
  "nbformat_minor": 0,
  "metadata": {
    "colab": {
      "name": "MNIST-handwritten-digit-recognition-using-CN.ipynb",
      "provenance": [],
      "collapsed_sections": [],
      "authorship_tag": "ABX9TyPd9UCpqKFQn4xB/oBZMhif",
      "include_colab_link": true
    },
    "kernelspec": {
      "display_name": "Python 3",
      "name": "python3"
    },
    "language_info": {
      "name": "python"
    }
  },
  "cells": [
    {
      "cell_type": "markdown",
      "metadata": {
        "id": "view-in-github",
        "colab_type": "text"
      },
      "source": [
        "<a href=\"https://colab.research.google.com/github/MohmedAAK/-Advanced-computer-vision-v1/blob/main/Advanced%20computer%20vision/team1/MNIST_handwritten_digit_recognition_using_CN.ipynb\" target=\"_parent\"><img src=\"https://colab.research.google.com/assets/colab-badge.svg\" alt=\"Open In Colab\"/></a>"
      ]
    },
    {
      "cell_type": "code",
      "metadata": {
        "id": "VqCFKvAMQ9YJ"
      },
      "source": [
        "from tensorflow.keras.datasets import mnist\n",
        "from tensorflow.keras.models import Sequential\n",
        "from tensorflow.keras.layers import Dense\n",
        "from tensorflow.keras.layers import Dropout\n",
        "from tensorflow.keras.layers import Flatten\n",
        "from tensorflow.keras.layers import Conv2D\n",
        "from tensorflow.keras.layers import MaxPooling2D\n",
        "from tensorflow.keras import utils"
      ],
      "execution_count": null,
      "outputs": []
    },
    {
      "cell_type": "code",
      "metadata": {
        "id": "2LWVMkoUQ9aK"
      },
      "source": [
        "# load data\n",
        "(X_train, y_train), (X_test, y_test) = mnist.load_data()\n",
        "# reshape to be [samples][width][height][channels]\n",
        "X_train = X_train.reshape((X_train.shape[0], 28, 28, 1)).astype('float32')\n",
        "X_test = X_test.reshape((X_test.shape[0], 28, 28, 1)).astype('float32')\n",
        "# normalize inputs from 0-255 to 0-1\n",
        "X_train = X_train / 255\n",
        "X_test = X_test / 255\n",
        "# one hot encode outputs\n",
        "y_train = utils.to_categorical(y_train)\n",
        "y_test = utils.to_categorical(y_test)\n",
        "num_classes = y_test.shape[1]"
      ],
      "execution_count": null,
      "outputs": []
    },
    {
      "cell_type": "code",
      "metadata": {
        "id": "l7pdjBpZQ9cy"
      },
      "source": [
        "# define the larger model\n",
        "def larger_model():\n",
        "\t# create model\n",
        "\tmodel = Sequential()\n",
        "\tmodel.add(Conv2D(30, (5, 5), input_shape=(28, 28, 1), activation='relu'))\n",
        "\tmodel.add(MaxPooling2D())\n",
        "\tmodel.add(Conv2D(15, (3, 3), activation='relu'))\n",
        "\tmodel.add(MaxPooling2D())\n",
        "\tmodel.add(Dropout(0.2))\n",
        "\tmodel.add(Flatten())\n",
        "\tmodel.add(Dense(128, activation='relu'))\n",
        "\tmodel.add(Dense(50, activation='relu'))\n",
        "\tmodel.add(Dense(num_classes, activation='softmax'))\n",
        "\t# Compile model\n",
        "\tmodel.compile(loss='categorical_crossentropy', optimizer='adam', metrics=['accuracy'])\n",
        "\treturn model"
      ],
      "execution_count": null,
      "outputs": []
    },
    {
      "cell_type": "code",
      "metadata": {
        "colab": {
          "base_uri": "https://localhost:8080/"
        },
        "id": "ukZBuN-UVeUD",
        "outputId": "f5e4f9b5-57fc-4d03-af75-d133d94291f8"
      },
      "source": [
        "# build the model\n",
        "model = larger_model()\n",
        "# Fit the model\n",
        "model.fit(X_train, y_train, validation_data=(X_test, y_test), epochs=10, batch_size=200)\n",
        "# Final evaluation of the model\n",
        "scores = model.evaluate(X_test, y_test, verbose=0)\n",
        "print(scores)\n",
        "print(\"Large CNN Error: %.2f%%\" % (100-scores[1]*100))"
      ],
      "execution_count": 1,
      "outputs": [
        {
          "output_type": "stream",
          "name": "stdout",
          "text": [
            "Downloading data from https://storage.googleapis.com/tensorflow/tf-keras-datasets/mnist.npz\n",
            "11493376/11490434 [==============================] - 0s 0us/step\n",
            "11501568/11490434 [==============================] - 0s 0us/step\n",
            "Epoch 1/10\n",
            "300/300 [==============================] - 35s 116ms/step - loss: 0.3975 - accuracy: 0.8797 - val_loss: 0.0827 - val_accuracy: 0.9743\n",
            "Epoch 2/10\n",
            "300/300 [==============================] - 35s 116ms/step - loss: 0.0988 - accuracy: 0.9703 - val_loss: 0.0640 - val_accuracy: 0.9809\n",
            "Epoch 3/10\n",
            "300/300 [==============================] - 35s 116ms/step - loss: 0.0732 - accuracy: 0.9776 - val_loss: 0.0400 - val_accuracy: 0.9874\n",
            "Epoch 4/10\n",
            "300/300 [==============================] - 35s 116ms/step - loss: 0.0584 - accuracy: 0.9819 - val_loss: 0.0332 - val_accuracy: 0.9893\n",
            "Epoch 5/10\n",
            "300/300 [==============================] - 35s 116ms/step - loss: 0.0497 - accuracy: 0.9844 - val_loss: 0.0292 - val_accuracy: 0.9912\n",
            "Epoch 6/10\n",
            "300/300 [==============================] - 35s 116ms/step - loss: 0.0440 - accuracy: 0.9859 - val_loss: 0.0317 - val_accuracy: 0.9901\n",
            "Epoch 7/10\n",
            "300/300 [==============================] - 35s 117ms/step - loss: 0.0398 - accuracy: 0.9874 - val_loss: 0.0280 - val_accuracy: 0.9917\n",
            "Epoch 8/10\n",
            "300/300 [==============================] - 35s 117ms/step - loss: 0.0372 - accuracy: 0.9887 - val_loss: 0.0270 - val_accuracy: 0.9912\n",
            "Epoch 9/10\n",
            "300/300 [==============================] - 35s 116ms/step - loss: 0.0331 - accuracy: 0.9892 - val_loss: 0.0263 - val_accuracy: 0.9918\n",
            "Epoch 10/10\n",
            "300/300 [==============================] - 35s 115ms/step - loss: 0.0320 - accuracy: 0.9896 - val_loss: 0.0243 - val_accuracy: 0.9929\n",
            "[0.0242681372910738, 0.992900013923645]\n",
            "Large CNN Error: 0.71%\n"
          ]
        }
      ]
    }
  ]
}