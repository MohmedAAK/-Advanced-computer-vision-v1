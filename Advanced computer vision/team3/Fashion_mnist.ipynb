{
  "cells": [
    {
      "cell_type": "markdown",
      "metadata": {
        "id": "view-in-github",
        "colab_type": "text"
      },
      "source": [
        "<a href=\"https://colab.research.google.com/github/MohmedAAK/-Advanced-computer-vision-v1/blob/main/Advanced%20computer%20vision/team3/Fashion_mnist.ipynb\" target=\"_parent\"><img src=\"https://colab.research.google.com/assets/colab-badge.svg\" alt=\"Open In Colab\"/></a>"
      ]
    },
    {
      "cell_type": "code",
      "execution_count": 1,
      "metadata": {
        "id": "pf8sLBhNJZqV"
      },
      "outputs": [],
      "source": [
        "# import relevant libraries\n",
        "import numpy as np\n",
        "import pandas as pd\n",
        "import matplotlib.pyplot as plt\n",
        "%matplotlib inline\n",
        "import seaborn as sns\n",
        "import tensorflow\n",
        "from tensorflow import keras\n",
        "from keras.preprocessing.image import ImageDataGenerator, load_img\n",
        "from tensorflow.keras import utils as np_utils\n",
        "from keras.utils.np_utils import to_categorical\n",
        "import numpy as np\n",
        "# import keras"
      ]
    },
    {
      "cell_type": "markdown",
      "source": [
        "**Loading the Fashion MNIST dataset in Keras **"
      ],
      "metadata": {
        "id": "8atFj00x8ZFa"
      }
    },
    {
      "cell_type": "code",
      "execution_count": 2,
      "metadata": {
        "colab": {
          "base_uri": "https://localhost:8080/"
        },
        "id": "KG79F4cQPwUX",
        "outputId": "1383ae26-8cf5-4a68-ad5a-bc375e929c25"
      },
      "outputs": [
        {
          "output_type": "stream",
          "name": "stdout",
          "text": [
            "Downloading data from https://storage.googleapis.com/tensorflow/tf-keras-datasets/train-labels-idx1-ubyte.gz\n",
            "32768/29515 [=================================] - 0s 0us/step\n",
            "40960/29515 [=========================================] - 0s 0us/step\n",
            "Downloading data from https://storage.googleapis.com/tensorflow/tf-keras-datasets/train-images-idx3-ubyte.gz\n",
            "26427392/26421880 [==============================] - 0s 0us/step\n",
            "26435584/26421880 [==============================] - 0s 0us/step\n",
            "Downloading data from https://storage.googleapis.com/tensorflow/tf-keras-datasets/t10k-labels-idx1-ubyte.gz\n",
            "16384/5148 [===============================================================================================] - 0s 0us/step\n",
            "Downloading data from https://storage.googleapis.com/tensorflow/tf-keras-datasets/t10k-images-idx3-ubyte.gz\n",
            "4423680/4422102 [==============================] - 0s 0us/step\n",
            "4431872/4422102 [==============================] - 0s 0us/step\n"
          ]
        }
      ],
      "source": [
        "from tensorflow.keras.datasets import fashion_mnist\n",
        "\n",
        "def load_data():\n",
        "  (train_samples,train_labels), (test_samples,test_labels) = fashion_mnist.load_data()\n",
        "  return train_samples, train_labels, test_samples, test_labels\n",
        "\n",
        "train_samples, train_labels, test_samples, test_labels = load_data()"
      ]
    },
    {
      "cell_type": "code",
      "execution_count": 3,
      "metadata": {
        "colab": {
          "base_uri": "https://localhost:8080/"
        },
        "id": "U5vtKpUuQMd8",
        "outputId": "70646a49-0ae7-46f6-fcc8-c8303fbb90c2"
      },
      "outputs": [
        {
          "output_type": "stream",
          "name": "stdout",
          "text": [
            "(60000, 28, 28)\n",
            "(60000,)\n",
            "(10000, 28, 28)\n",
            "(10000,)\n",
            "[9 0 0 3 0 2 7 2]\n"
          ]
        }
      ],
      "source": [
        "print(train_samples.shape)\n",
        "print(train_labels.shape)\n",
        "print(test_samples.shape)\n",
        "print(test_labels.shape)\n",
        "\n",
        "print(train_labels[0:8])"
      ]
    },
    {
      "cell_type": "code",
      "execution_count": 4,
      "metadata": {
        "colab": {
          "base_uri": "https://localhost:8080/"
        },
        "id": "ft_7_qjhQXZ-",
        "outputId": "754f519e-09b0-4d3b-b1a4-268769f62391"
      },
      "outputs": [
        {
          "output_type": "stream",
          "name": "stdout",
          "text": [
            "255\n",
            "0\n"
          ]
        }
      ],
      "source": [
        "print(np.amax(train_samples))\n",
        "print(np.amin(train_samples))"
      ]
    },
    {
      "cell_type": "code",
      "execution_count": 5,
      "metadata": {
        "colab": {
          "base_uri": "https://localhost:8080/",
          "height": 813
        },
        "id": "N9vQVlPAQZe5",
        "outputId": "81de95f3-7ef1-4138-a094-b9bc00b4c2d8"
      },
      "outputs": [
        {
          "output_type": "display_data",
          "data": {
            "image/png": "[encoded data removed]",
            "text/plain": [
              "<Figure size 432x288 with 1 Axes>"
            ]
          },
          "metadata": {
            "needs_background": "light"
          }
        },
        {
          "output_type": "stream",
          "name": "stdout",
          "text": [
            "Label of image is 9\n"
          ]
        },
        {
          "output_type": "display_data",
          "data": {
            "image/png": "[encoded data removed]",
            "text/plain": [
              "<Figure size 432x288 with 1 Axes>"
            ]
          },
          "metadata": {
            "needs_background": "light"
          }
        },
        {
          "output_type": "stream",
          "name": "stdout",
          "text": [
            "Label of image is 0\n"
          ]
        },
        {
          "output_type": "display_data",
          "data": {
            "image/png": "[encoded data removed]",
            "text/plain": [
              "<Figure size 432x288 with 1 Axes>"
            ]
          },
          "metadata": {
            "needs_background": "light"
          }
        },
        {
          "output_type": "stream",
          "name": "stdout",
          "text": [
            "Label of image is 0\n"
          ]
        }
      ],
      "source": [
        "for i in range(0,3):\n",
        "  pixels=train_samples[i]\n",
        "  plt.imshow(pixels, cmap = plt.cm.binary)\n",
        "  plt.show()\n",
        "  print(\"Label of image is\", train_labels[i])"
      ]
    },
    {
      "cell_type": "code",
      "execution_count": 6,
      "metadata": {
        "colab": {
          "base_uri": "https://localhost:8080/",
          "height": 813
        },
        "id": "Cs51JQ50YwME",
        "outputId": "1a340f92-a2f5-46ee-a890-9429070b20c0"
      },
      "outputs": [
        {
          "output_type": "display_data",
          "data": {
            "image/png": "[encoded data removed]",
            "text/plain": [
              "<Figure size 432x288 with 1 Axes>"
            ]
          },
          "metadata": {
            "needs_background": "light"
          }
        },
        {
          "output_type": "stream",
          "name": "stdout",
          "text": [
            "Label of image is Ankle boot\n"
          ]
        },
        {
          "output_type": "display_data",
          "data": {
            "image/png": "[encoded data removed]",
            "text/plain": [
              "<Figure size 432x288 with 1 Axes>"
            ]
          },
          "metadata": {
            "needs_background": "light"
          }
        },
        {
          "output_type": "stream",
          "name": "stdout",
          "text": [
            "Label of image is T-shirt/top\n"
          ]
        },
        {
          "output_type": "display_data",
          "data": {
            "image/png": "[encoded data removed]",
            "text/plain": [
              "<Figure size 432x288 with 1 Axes>"
            ]
          },
          "metadata": {
            "needs_background": "light"
          }
        },
        {
          "output_type": "stream",
          "name": "stdout",
          "text": [
            "Label of image is T-shirt/top\n"
          ]
        }
      ],
      "source": [
        "df=[]\n",
        "for i in train_labels:\n",
        "    if i == 0:\n",
        "        df.append('T-shirt/top')\n",
        "    elif i==1:\n",
        "        df.append('Trouser')\n",
        "    elif i==2:\n",
        "        df.append('Pullover')\n",
        "    elif i==3:\n",
        "        df.append('Dress')\n",
        "    elif i==4:\n",
        "        df.append('Coat')\n",
        "    elif i==5:\n",
        "        df.append('Sandal')\n",
        "    elif i==6:\n",
        "        df.append('Shirt')\n",
        "    elif i==7:\n",
        "        df.append('Sneaker')\n",
        "    elif i==8:\n",
        "        df.append('Bag')\n",
        "    elif i==9:\n",
        "        df.append('Ankle boot')\n",
        "    \n",
        "for i in range(0,3):\n",
        "  pixels=train_samples[i]\n",
        "  plt.imshow(pixels, cmap = plt.cm.binary)\n",
        "  plt.show()\n",
        "  print(\"Label of image is\", df[i])\n"
      ]
    },
    {
      "cell_type": "code",
      "execution_count": 7,
      "metadata": {
        "colab": {
          "base_uri": "https://localhost:8080/",
          "height": 337
        },
        "id": "QZBEVnkgYula",
        "outputId": "d669d67f-34ba-4b83-8118-201cbea9714f"
      },
      "outputs": [
        {
          "output_type": "stream",
          "name": "stderr",
          "text": [
            "/usr/local/lib/python3.7/dist-packages/seaborn/_decorators.py:43: FutureWarning: Pass the following variable as a keyword arg: x. From version 0.12, the only valid positional argument will be `data`, and passing other arguments without an explicit keyword will result in an error or misinterpretation.\n",
            "  FutureWarning\n"
          ]
        },
        {
          "output_type": "execute_result",
          "data": {
            "text/plain": [
              "<matplotlib.axes._subplots.AxesSubplot at 0x7f9e38945e90>"
            ]
          },
          "metadata": {},
          "execution_count": 7
        },
        {
          "output_type": "display_data",
          "data": {
            "image/png": "[encoded data removed]",
            "text/plain": [
              "<Figure size 432x288 with 1 Axes>"
            ]
          },
          "metadata": {
            "needs_background": "light"
          }
        }
      ],
      "source": [
        " sns.countplot(df)"
      ]
    },
    {
      "cell_type": "code",
      "execution_count": 8,
      "metadata": {
        "id": "xt_Xs4eUDmwG"
      },
      "outputs": [],
      "source": [
        "train_labels=np_utils.to_categorical(train_labels)\n",
        "test_labels=np_utils.to_categorical(test_labels)\n",
        "train_samples=train_samples/255.0\n",
        "test_samples=test_samples/255.0"
      ]
    },
    {
      "cell_type": "markdown",
      "source": [
        "**The network architecture**"
      ],
      "metadata": {
        "id": "ZaWrfG6g9dIB"
      }
    },
    {
      "cell_type": "code",
      "execution_count": 9,
      "metadata": {
        "id": "RqwEwInE0PME"
      },
      "outputs": [],
      "source": [
        "from keras.models import Sequential\n",
        "from keras.layers import Conv2D, MaxPooling2D, Dropout, Flatten, Dense, Activation, BatchNormalization\n",
        "\n",
        "model = Sequential()\n",
        "\n",
        "model.add(Conv2D(32, (3, 3), activation='relu', input_shape=(28,28,1)))\n",
        "model.add(BatchNormalization())\n",
        "model.add(MaxPooling2D(pool_size=(2, 2)))\n",
        "model.add(Dropout(0.25))\n",
        "\n",
        "model.add(Conv2D(64, (3, 3), activation='relu'))\n",
        "model.add(BatchNormalization())\n",
        "model.add(MaxPooling2D(pool_size=(2, 2)))\n",
        "model.add(Dropout(0.25))\n",
        "model.add(Conv2D(128, (3, 3), activation='relu'))\n",
        "model.add(BatchNormalization())\n",
        "model.add(MaxPooling2D(pool_size=(2, 2)))\n",
        "model.add(Dropout(0.25))\n",
        "\n",
        "model.add(Flatten())\n",
        "model.add(Dense(512, activation='relu'))\n",
        "model.add(BatchNormalization())\n",
        "model.add(Dropout(0.5))\n",
        "model.add(Dense(10, activation='softmax'))  \n",
        "\n",
        "\n"
      ]
    },
    {
      "cell_type": "markdown",
      "source": [
        "**COMPLITION STEP**"
      ],
      "metadata": {
        "id": "6cfdsGad-Il0"
      }
    },
    {
      "cell_type": "code",
      "source": [
        "model.compile(loss='categorical_crossentropy', optimizer='rmsprop', metrics=['accuracy'])\n",
        "\n",
        "model.summary()"
      ],
      "metadata": {
        "colab": {
          "base_uri": "https://localhost:8080/"
        },
        "id": "EvPZM5e--Fc3",
        "outputId": "cd2f766e-e195-4f8a-b14e-5f9252ec1ddf"
      },
      "execution_count": 10,
      "outputs": [
        {
          "output_type": "stream",
          "name": "stdout",
          "text": [
            "Model: \"sequential\"\n",
            "_________________________________________________________________\n",
            " Layer (type)                Output Shape              Param #   \n",
            "=================================================================\n",
            " conv2d (Conv2D)             (None, 26, 26, 32)        320       \n",
            "                                                                 \n",
            " batch_normalization (BatchN  (None, 26, 26, 32)       128       \n",
            " ormalization)                                                   \n",
            "                                                                 \n",
            " max_pooling2d (MaxPooling2D  (None, 13, 13, 32)       0         \n",
            " )                                                               \n",
            "                                                                 \n",
            " dropout (Dropout)           (None, 13, 13, 32)        0         \n",
            "                                                                 \n",
            " conv2d_1 (Conv2D)           (None, 11, 11, 64)        18496     \n",
            "                                                                 \n",
            " batch_normalization_1 (Batc  (None, 11, 11, 64)       256       \n",
            " hNormalization)                                                 \n",
            "                                                                 \n",
            " max_pooling2d_1 (MaxPooling  (None, 5, 5, 64)         0         \n",
            " 2D)                                                             \n",
            "                                                                 \n",
            " dropout_1 (Dropout)         (None, 5, 5, 64)          0         \n",
            "                                                                 \n",
            " conv2d_2 (Conv2D)           (None, 3, 3, 128)         73856     \n",
            "                                                                 \n",
            " batch_normalization_2 (Batc  (None, 3, 3, 128)        512       \n",
            " hNormalization)                                                 \n",
            "                                                                 \n",
            " max_pooling2d_2 (MaxPooling  (None, 1, 1, 128)        0         \n",
            " 2D)                                                             \n",
            "                                                                 \n",
            " dropout_2 (Dropout)         (None, 1, 1, 128)         0         \n",
            "                                                                 \n",
            " flatten (Flatten)           (None, 128)               0         \n",
            "                                                                 \n",
            " dense (Dense)               (None, 512)               66048     \n",
            "                                                                 \n",
            " batch_normalization_3 (Batc  (None, 512)              2048      \n",
            " hNormalization)                                                 \n",
            "                                                                 \n",
            " dropout_3 (Dropout)         (None, 512)               0         \n",
            "                                                                 \n",
            " dense_1 (Dense)             (None, 10)                5130      \n",
            "                                                                 \n",
            "=================================================================\n",
            "Total params: 166,794\n",
            "Trainable params: 165,322\n",
            "Non-trainable params: 1,472\n",
            "_________________________________________________________________\n"
          ]
        }
      ]
    },
    {
      "cell_type": "markdown",
      "source": [
        "**\"Fitting\" the model**\n"
      ],
      "metadata": {
        "id": "hoDDpovq-Pg4"
      }
    },
    {
      "cell_type": "code",
      "execution_count": 11,
      "metadata": {
        "colab": {
          "base_uri": "https://localhost:8080/"
        },
        "id": "S4DbzUUZ2fSF",
        "outputId": "d69cb0e5-a70d-4c85-b4b7-2b12a85229ef"
      },
      "outputs": [
        {
          "output_type": "stream",
          "name": "stdout",
          "text": [
            "Epoch 1/50\n",
            "375/375 [==============================] - 14s 9ms/step - loss: 0.8071 - accuracy: 0.7234 - val_loss: 1.4725 - val_accuracy: 0.5543\n",
            "Epoch 2/50\n",
            "375/375 [==============================] - 3s 8ms/step - loss: 0.5117 - accuracy: 0.8161 - val_loss: 0.4243 - val_accuracy: 0.8467\n",
            "Epoch 3/50\n",
            "375/375 [==============================] - 3s 8ms/step - loss: 0.4335 - accuracy: 0.8428 - val_loss: 0.3711 - val_accuracy: 0.8661\n",
            "Epoch 4/50\n",
            "375/375 [==============================] - 3s 7ms/step - loss: 0.3991 - accuracy: 0.8545 - val_loss: 0.3594 - val_accuracy: 0.8658\n",
            "Epoch 5/50\n",
            "375/375 [==============================] - 3s 7ms/step - loss: 0.3743 - accuracy: 0.8643 - val_loss: 0.3155 - val_accuracy: 0.8836\n",
            "Epoch 6/50\n",
            "375/375 [==============================] - 3s 7ms/step - loss: 0.3599 - accuracy: 0.8678 - val_loss: 0.3240 - val_accuracy: 0.8817\n",
            "Epoch 7/50\n",
            "375/375 [==============================] - 3s 7ms/step - loss: 0.3465 - accuracy: 0.8737 - val_loss: 0.3111 - val_accuracy: 0.8893\n",
            "Epoch 8/50\n",
            "375/375 [==============================] - 3s 7ms/step - loss: 0.3334 - accuracy: 0.8794 - val_loss: 0.5135 - val_accuracy: 0.8268\n",
            "Epoch 9/50\n",
            "375/375 [==============================] - 3s 7ms/step - loss: 0.3239 - accuracy: 0.8821 - val_loss: 0.3096 - val_accuracy: 0.8856\n",
            "Epoch 10/50\n",
            "375/375 [==============================] - 3s 7ms/step - loss: 0.3173 - accuracy: 0.8848 - val_loss: 0.3180 - val_accuracy: 0.8804\n",
            "Epoch 11/50\n",
            "375/375 [==============================] - 3s 7ms/step - loss: 0.3088 - accuracy: 0.8871 - val_loss: 0.3459 - val_accuracy: 0.8676\n",
            "Epoch 12/50\n",
            "375/375 [==============================] - 3s 7ms/step - loss: 0.3023 - accuracy: 0.8895 - val_loss: 0.3008 - val_accuracy: 0.8906\n",
            "Epoch 13/50\n",
            "375/375 [==============================] - 3s 7ms/step - loss: 0.2990 - accuracy: 0.8898 - val_loss: 0.2810 - val_accuracy: 0.8943\n",
            "Epoch 14/50\n",
            "375/375 [==============================] - 3s 7ms/step - loss: 0.2928 - accuracy: 0.8930 - val_loss: 0.2761 - val_accuracy: 0.8987\n",
            "Epoch 15/50\n",
            "375/375 [==============================] - 3s 8ms/step - loss: 0.2886 - accuracy: 0.8944 - val_loss: 0.3067 - val_accuracy: 0.8858\n",
            "Epoch 16/50\n",
            "375/375 [==============================] - 3s 8ms/step - loss: 0.2816 - accuracy: 0.8981 - val_loss: 0.2810 - val_accuracy: 0.8957\n",
            "Epoch 17/50\n",
            "375/375 [==============================] - 3s 7ms/step - loss: 0.2809 - accuracy: 0.8977 - val_loss: 0.2975 - val_accuracy: 0.8925\n",
            "Epoch 18/50\n",
            "375/375 [==============================] - 3s 7ms/step - loss: 0.2750 - accuracy: 0.8991 - val_loss: 0.2793 - val_accuracy: 0.8954\n",
            "Epoch 19/50\n",
            "375/375 [==============================] - 3s 7ms/step - loss: 0.2713 - accuracy: 0.9006 - val_loss: 0.2685 - val_accuracy: 0.9029\n",
            "Epoch 20/50\n",
            "375/375 [==============================] - 3s 8ms/step - loss: 0.2687 - accuracy: 0.9007 - val_loss: 0.2623 - val_accuracy: 0.9028\n",
            "Epoch 21/50\n",
            "375/375 [==============================] - 3s 7ms/step - loss: 0.2654 - accuracy: 0.9033 - val_loss: 0.2903 - val_accuracy: 0.8954\n",
            "Epoch 22/50\n",
            "375/375 [==============================] - 3s 8ms/step - loss: 0.2633 - accuracy: 0.9040 - val_loss: 0.2917 - val_accuracy: 0.8929\n",
            "Epoch 23/50\n",
            "375/375 [==============================] - 3s 7ms/step - loss: 0.2607 - accuracy: 0.9049 - val_loss: 0.2619 - val_accuracy: 0.9066\n",
            "Epoch 24/50\n",
            "375/375 [==============================] - 3s 7ms/step - loss: 0.2572 - accuracy: 0.9057 - val_loss: 0.2728 - val_accuracy: 0.8958\n",
            "Epoch 25/50\n",
            "375/375 [==============================] - 3s 7ms/step - loss: 0.2561 - accuracy: 0.9068 - val_loss: 0.2595 - val_accuracy: 0.9057\n",
            "Epoch 26/50\n",
            "375/375 [==============================] - 3s 7ms/step - loss: 0.2540 - accuracy: 0.9066 - val_loss: 0.2681 - val_accuracy: 0.9045\n",
            "Epoch 27/50\n",
            "375/375 [==============================] - 3s 7ms/step - loss: 0.2491 - accuracy: 0.9086 - val_loss: 0.2537 - val_accuracy: 0.9084\n",
            "Epoch 28/50\n",
            "375/375 [==============================] - 3s 8ms/step - loss: 0.2489 - accuracy: 0.9087 - val_loss: 0.2622 - val_accuracy: 0.9079\n",
            "Epoch 29/50\n",
            "375/375 [==============================] - 3s 7ms/step - loss: 0.2481 - accuracy: 0.9091 - val_loss: 0.2615 - val_accuracy: 0.9028\n",
            "Epoch 30/50\n",
            "375/375 [==============================] - 3s 7ms/step - loss: 0.2449 - accuracy: 0.9115 - val_loss: 0.3173 - val_accuracy: 0.8885\n",
            "Epoch 31/50\n",
            "375/375 [==============================] - 3s 7ms/step - loss: 0.2422 - accuracy: 0.9111 - val_loss: 0.2544 - val_accuracy: 0.9076\n",
            "Epoch 32/50\n",
            "375/375 [==============================] - 3s 7ms/step - loss: 0.2416 - accuracy: 0.9130 - val_loss: 0.2861 - val_accuracy: 0.8975\n",
            "Epoch 33/50\n",
            "375/375 [==============================] - 3s 7ms/step - loss: 0.2436 - accuracy: 0.9112 - val_loss: 0.2481 - val_accuracy: 0.9093\n",
            "Epoch 34/50\n",
            "375/375 [==============================] - 3s 8ms/step - loss: 0.2347 - accuracy: 0.9150 - val_loss: 0.2609 - val_accuracy: 0.9080\n",
            "Epoch 35/50\n",
            "375/375 [==============================] - 3s 8ms/step - loss: 0.2371 - accuracy: 0.9121 - val_loss: 0.2627 - val_accuracy: 0.9047\n",
            "Epoch 36/50\n",
            "375/375 [==============================] - 3s 8ms/step - loss: 0.2355 - accuracy: 0.9126 - val_loss: 0.2566 - val_accuracy: 0.9039\n",
            "Epoch 37/50\n",
            "375/375 [==============================] - 3s 7ms/step - loss: 0.2339 - accuracy: 0.9144 - val_loss: 0.2674 - val_accuracy: 0.9032\n",
            "Epoch 38/50\n",
            "375/375 [==============================] - 3s 8ms/step - loss: 0.2312 - accuracy: 0.9143 - val_loss: 0.2571 - val_accuracy: 0.9054\n",
            "Epoch 39/50\n",
            "375/375 [==============================] - 3s 8ms/step - loss: 0.2286 - accuracy: 0.9154 - val_loss: 0.2426 - val_accuracy: 0.9111\n",
            "Epoch 40/50\n",
            "375/375 [==============================] - 3s 8ms/step - loss: 0.2299 - accuracy: 0.9152 - val_loss: 0.2578 - val_accuracy: 0.9068\n",
            "Epoch 41/50\n",
            "375/375 [==============================] - 3s 8ms/step - loss: 0.2311 - accuracy: 0.9148 - val_loss: 0.2757 - val_accuracy: 0.9007\n",
            "Epoch 42/50\n",
            "375/375 [==============================] - 3s 8ms/step - loss: 0.2225 - accuracy: 0.9180 - val_loss: 0.2549 - val_accuracy: 0.9108\n",
            "Epoch 43/50\n",
            "375/375 [==============================] - 3s 8ms/step - loss: 0.2258 - accuracy: 0.9166 - val_loss: 0.2715 - val_accuracy: 0.9053\n",
            "Epoch 44/50\n",
            "375/375 [==============================] - 3s 8ms/step - loss: 0.2249 - accuracy: 0.9168 - val_loss: 0.2476 - val_accuracy: 0.9078\n",
            "Epoch 45/50\n",
            "375/375 [==============================] - 3s 8ms/step - loss: 0.2229 - accuracy: 0.9176 - val_loss: 0.2480 - val_accuracy: 0.9098\n",
            "Epoch 46/50\n",
            "375/375 [==============================] - 3s 8ms/step - loss: 0.2184 - accuracy: 0.9190 - val_loss: 0.3282 - val_accuracy: 0.8903\n",
            "Epoch 47/50\n",
            "375/375 [==============================] - 3s 8ms/step - loss: 0.2206 - accuracy: 0.9196 - val_loss: 0.2546 - val_accuracy: 0.9094\n",
            "Epoch 48/50\n",
            "375/375 [==============================] - 3s 8ms/step - loss: 0.2207 - accuracy: 0.9203 - val_loss: 0.2707 - val_accuracy: 0.8997\n",
            "Epoch 49/50\n",
            "375/375 [==============================] - 3s 8ms/step - loss: 0.2191 - accuracy: 0.9202 - val_loss: 0.2500 - val_accuracy: 0.9093\n",
            "Epoch 50/50\n",
            "375/375 [==============================] - 3s 8ms/step - loss: 0.2206 - accuracy: 0.9194 - val_loss: 0.2819 - val_accuracy: 0.9038\n"
          ]
        }
      ],
      "source": [
        "history=model.fit(train_samples,train_labels,epochs=50,batch_size=128,validation_split=0.2)"
      ]
    },
    {
      "cell_type": "code",
      "execution_count": 12,
      "metadata": {
        "colab": {
          "base_uri": "https://localhost:8080/",
          "height": 265
        },
        "id": "cyF0oYNSKpTm",
        "outputId": "cf2b437c-9762-40b3-c319-3d5b92d8ecb3"
      },
      "outputs": [
        {
          "output_type": "display_data",
          "data": {
            "image/png": "[encoded data removed]",
            "text/plain": [
              "<Figure size 432x288 with 1 Axes>"
            ]
          },
          "metadata": {
            "needs_background": "light"
          }
        }
      ],
      "source": [
        "history.history.keys()\n",
        "\n",
        "plt.plot(range(len(history.history['val_loss'])), history.history['val_loss'])\n",
        "plt.show()"
      ]
    },
    {
      "cell_type": "code",
      "execution_count": 13,
      "metadata": {
        "colab": {
          "base_uri": "https://localhost:8080/",
          "height": 873
        },
        "id": "oXVKFjOLK6Xa",
        "outputId": "00aaa4ad-ed6b-4474-d321-3930cbad0f44"
      },
      "outputs": [
        {
          "output_type": "display_data",
          "data": {
            "image/png": "[encoded data removed]",
            "text/plain": [
              "<Figure size 864x864 with 2 Axes>"
            ]
          },
          "metadata": {
            "needs_background": "light"
          }
        }
      ],
      "source": [
        "epochs=50\n",
        "fig, (ax1, ax2) = plt.subplots(2, 1, figsize=(12, 12))\n",
        "ax1.plot(history.history['loss'], color='b', label=\"Training loss\")\n",
        "ax1.plot(history.history['val_loss'], color='r', label=\"validation loss\")\n",
        "ax1.set_xticks(np.arange(1, epochs, 1))\n",
        "ax1.set_yticks(np.arange(0, 1, 0.1))\n",
        "\n",
        "ax2.plot(history.history['accuracy'], color='b', label=\"Training accuracy\")\n",
        "ax2.plot(history.history['val_accuracy'], color='r',label=\"Validation accuracy\")\n",
        "ax2.set_xticks(np.arange(1, epochs, 1))\n",
        "\n",
        "legend = plt.legend(loc='best', shadow=True)\n",
        "plt.tight_layout()\n",
        "plt.show()"
      ]
    },
    {
      "cell_type": "markdown",
      "source": [
        "**Evaluating**"
      ],
      "metadata": {
        "id": "zpGywwp9-qsQ"
      }
    },
    {
      "cell_type": "code",
      "execution_count": 14,
      "metadata": {
        "colab": {
          "base_uri": "https://localhost:8080/"
        },
        "id": "f45_OwNbJIsk",
        "outputId": "93a300a9-026f-49d9-d0d0-02f122a10820"
      },
      "outputs": [
        {
          "output_type": "stream",
          "name": "stdout",
          "text": [
            "313/313 [==============================] - 1s 4ms/step - loss: 0.3008 - accuracy: 0.9007\n"
          ]
        },
        {
          "output_type": "execute_result",
          "data": {
            "text/plain": [
              "[0.30080968141555786, 0.9006999731063843]"
            ]
          },
          "metadata": {},
          "execution_count": 14
        }
      ],
      "source": [
        "model.evaluate(test_samples,test_labels)"
      ]
    }
  ],
  "metadata": {
    "accelerator": "GPU",
    "colab": {
      "name": "Fashion_mnist.ipynb",
      "provenance": [],
      "collapsed_sections": [],
      "include_colab_link": true
    },
    "kernelspec": {
      "display_name": "Python 3",
      "name": "python3"
    },
    "language_info": {
      "name": "python"
    }
  },
  "nbformat": 4,
  "nbformat_minor": 0
}