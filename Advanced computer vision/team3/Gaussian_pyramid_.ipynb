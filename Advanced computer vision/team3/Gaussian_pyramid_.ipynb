{
  "nbformat": 4,
  "nbformat_minor": 0,
  "metadata": {
    "colab": {
      "name": "Gaussian pyramid .ipynb",
      "provenance": [],
      "collapsed_sections": [],
      "mount_file_id": "1HmYkmuEaIkLPmIhQ34K2M0nWsZLW2pO8",
      "authorship_tag": "ABX9TyMJ7ckA2TxVqd4+YjMvftn6",
      "include_colab_link": true
    },
    "kernelspec": {
      "display_name": "Python 3",
      "name": "python3"
    },
    "language_info": {
      "name": "python"
    }
  },
  "cells": [
    {
      "cell_type": "markdown",
      "metadata": {
        "id": "view-in-github",
        "colab_type": "text"
      },
      "source": [
        "<a href=\"https://colab.research.google.com/github/MohmedAAK/-Advanced-computer-vision-v1/blob/main/Advanced%20computer%20vision/team3/Gaussian_pyramid_.ipynb\" target=\"_parent\"><img src=\"https://colab.research.google.com/assets/colab-badge.svg\" alt=\"Open In Colab\"/></a>"
      ]
    },
    {
      "cell_type": "code",
      "metadata": {
        "id": "37DmEtcaRVad"
      },
      "source": [
        "import cv2\n",
        "import numpy as np\n",
        "from google.colab.patches import cv2_imshow\n",
        " "
      ],
      "execution_count": 17,
      "outputs": []
    },
    {
      "cell_type": "code",
      "metadata": {
        "id": "ela_7EnFzqdV"
      },
      "source": [
        "img= cv2.imread(\"steve-job .jpg\")\n",
        "\n"
      ],
      "execution_count": null,
      "outputs": []
    },
    {
      "cell_type": "markdown",
      "metadata": {
        "id": "6sXxlB9XUf5H"
      },
      "source": [
        "# New Section"
      ]
    },
    {
      "cell_type": "code",
      "metadata": {
        "id": "2XrGAu1UUoE8"
      },
      "source": [
        " \n",
        "layer1=cv2.pyrDown(img)\n",
        "layer2=cv2.pyrDown(layer1)\n",
        "layer3=cv2.pyrDown(layer2)\n",
        "\n",
        "\n",
        " "
      ],
      "execution_count": 18,
      "outputs": []
    },
    {
      "cell_type": "code",
      "metadata": {
        "id": "VOLv1k2I4Y9D"
      },
      "source": [
        "cv2_imshow(  img) \n"
      ],
      "execution_count": null,
      "outputs": []
    },
    {
      "cell_type": "code",
      "metadata": {
        "id": "l_rllSVY4bdz"
      },
      "source": [
        "cv2_imshow( layer1) \n"
      ],
      "execution_count": null,
      "outputs": []
    },
    {
      "cell_type": "code",
      "metadata": {
        "id": "-8MkzLAY4dXT"
      },
      "source": [
        "cv2_imshow( layer2) \n"
      ],
      "execution_count": null,
      "outputs": []
    },
    {
      "cell_type": "code",
      "metadata": {
        "id": "S6_hXrEu4e2e"
      },
      "source": [
        "cv2_imshow(  layer3) \n"
      ],
      "execution_count": null,
      "outputs": []
    },
    {
      "cell_type": "code",
      "metadata": {
        "id": "RhRfZ-sz4gko"
      },
      "source": [
        "layer4=cv2.pyrUp (layer3)\n",
        "layer5=cv2.pyrUp(layer2)\n",
        "layer3=cv2.pyrUp(layer1)\n"
      ],
      "execution_count": null,
      "outputs": []
    },
    {
      "cell_type": "code",
      "metadata": {
        "id": "q1y4HHeN4iCx"
      },
      "source": [
        " \n",
        "cv2_imshow( layer4) \n"
      ],
      "execution_count": null,
      "outputs": []
    },
    {
      "cell_type": "code",
      "metadata": {
        "id": "mntNWXLM4j4s"
      },
      "source": [
        "cv2_imshow( layer5) \n",
        " "
      ],
      "execution_count": null,
      "outputs": []
    },
    {
      "cell_type": "code",
      "metadata": {
        "id": "8g9LJwKH4kEP"
      },
      "source": [
        "cv2_imshow(  layer3) "
      ],
      "execution_count": null,
      "outputs": []
    },
    {
      "cell_type": "code",
      "metadata": {
        "id": "8Mz3WHRP4Zgo"
      },
      "source": [
        ""
      ],
      "execution_count": null,
      "outputs": []
    }
  ]
}