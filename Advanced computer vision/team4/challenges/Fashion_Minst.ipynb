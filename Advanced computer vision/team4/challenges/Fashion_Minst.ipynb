{
  "nbformat": 4,
  "nbformat_minor": 0,
  "metadata": {
    "colab": {
      "name": "Fashion-MNIST-by-machine learning meastry.ipynb",
      "provenance": [],
      "collapsed_sections": [
        "ZYHyNNGpsAY7",
        "PqU9JzNxwRmF",
        "HjpM_PBXsCzt",
        "lLyqOWLssNTr",
        "XbV3BADrsTcW",
        "0f-YXgEN3Hct"
      ],
      "include_colab_link": true
    },
    "kernelspec": {
      "name": "python3",
      "display_name": "Python 3"
    },
    "accelerator": "GPU"
  },
  "cells": [
    {
      "cell_type": "markdown",
      "metadata": {
        "id": "view-in-github",
        "colab_type": "text"
      },
      "source": [
        "<a href=\"https://colab.research.google.com/github/MohmedAAK/-Advanced-computer-vision-v1/blob/main/Advanced%20computer%20vision/team4/challenges/Fashion_Minst.ipynb\" target=\"_parent\"><img src=\"https://colab.research.google.com/assets/colab-badge.svg\" alt=\"Open In Colab\"/></a>"
      ]
    },
    {
      "cell_type": "code",
      "metadata": {
        "id": "vNDZioP9PcsH"
      },
      "source": [
        "# model with padded convolutions for the fashion mnist dataset\n",
        "from numpy import mean\n",
        "from numpy import std\n",
        "from matplotlib import pyplot\n",
        "from sklearn.model_selection import KFold\n",
        "from keras.datasets import fashion_mnist\n",
        "from tensorflow.keras.utils import to_categorical\n",
        "from tensorflow.keras.models import Sequential\n",
        "from tensorflow.keras.layers import Conv2D\n",
        "from tensorflow.keras.layers import MaxPooling2D\n",
        "from tensorflow.keras.layers import Dense\n",
        "from tensorflow.keras.layers import Flatten\n",
        "from tensorflow.keras.optimizers import SGD"
      ],
      "execution_count": 1,
      "outputs": []
    },
    {
      "cell_type": "code",
      "metadata": {
        "id": "1-ri8fZyQWWr"
      },
      "source": [
        "# load train and test dataset\n",
        "def load_dataset():\n",
        "\t# load dataset\n",
        "\t(trainX, trainY), (testX, testY) = fashion_mnist.load_data()\n",
        "\t# reshape dataset to have a single channel\n",
        "\ttrainX = trainX.reshape((trainX.shape[0], 28, 28, 1))\n",
        "\ttestX = testX.reshape((testX.shape[0], 28, 28, 1))\n",
        "\t# one hot encode target values\n",
        "\ttrainY = to_categorical(trainY)\n",
        "\ttestY = to_categorical(testY)\n",
        "\treturn trainX, trainY, testX, testY"
      ],
      "execution_count": 2,
      "outputs": []
    },
    {
      "cell_type": "code",
      "metadata": {
        "id": "k9GEVp9TQWhY"
      },
      "source": [
        "# scale pixels\n",
        "def prep_pixels(train, test):\n",
        "\t# convert from integers to floats\n",
        "\ttrain_norm = train.astype('float32')\n",
        "\ttest_norm = test.astype('float32')\n",
        "\t# normalize to range 0-1\n",
        "\ttrain_norm = train_norm / 255.0\n",
        "\ttest_norm = test_norm / 255.0\n",
        "\t# return normalized images\n",
        "\treturn train_norm, test_norm"
      ],
      "execution_count": 3,
      "outputs": []
    },
    {
      "cell_type": "code",
      "metadata": {
        "id": "hdk4gQsgQWqM"
      },
      "source": [
        "# define cnn model\n",
        "def define_model():\n",
        "\tmodel = Sequential()\n",
        "\tmodel.add(Conv2D(32, (3, 3), padding='same', activation='relu', kernel_initializer='he_uniform', input_shape=(28, 28, 1)))\n",
        "\tmodel.add(MaxPooling2D((2, 2)))\n",
        "\tmodel.add(Flatten())\n",
        "\tmodel.add(Dense(100, activation='relu', kernel_initializer='he_uniform'))\n",
        "\tmodel.add(Dense(10, activation='softmax'))\n",
        "\t# compile model\n",
        "\topt = SGD(lr=0.01, momentum=0.9)\n",
        "\tmodel.compile(optimizer=opt, loss='categorical_crossentropy', metrics=['accuracy'])\n",
        "\treturn model"
      ],
      "execution_count": 4,
      "outputs": []
    },
    {
      "cell_type": "code",
      "metadata": {
        "id": "P5-EIumTQW1y"
      },
      "source": [
        "# evaluate a model using k-fold cross-validation\n",
        "def evaluate_model(dataX, dataY, n_folds=5):\n",
        "  scores, histories = list(), list()\n",
        "  # prepare cross validation\n",
        "  kfold = KFold(n_folds, shuffle=True, random_state=1)\n",
        "  counter=0\n",
        "  # enumerate splits\n",
        "  for train_ix, test_ix in kfold.split(dataX):\n",
        "    # define model\n",
        "    model = define_model()\n",
        "    # select rows for train and test\n",
        "    trainX, trainY, testX, testY = dataX[train_ix], dataY[train_ix], dataX[test_ix], dataY[test_ix]\n",
        "    # fit model\n",
        "    print(\"model \"+str(counter)+\" ------------------------\")\n",
        "    counter+=1\n",
        "    history = model.fit(trainX, trainY, epochs=10, batch_size=32, validation_data=(testX, testY), verbose=1)\n",
        "    # evaluate model\n",
        "    _, acc = model.evaluate(testX, testY, verbose=0)\n",
        "    print('>accuarcy %.3f' % (acc * 100.0))\n",
        "    # append scores\n",
        "    scores.append(acc)\n",
        "    histories.append(history)\n",
        "  return scores, histories"
      ],
      "execution_count": 5,
      "outputs": []
    },
    {
      "cell_type": "code",
      "metadata": {
        "id": "JAw8z6VTQeB1"
      },
      "source": [
        "# plot diagnostic learning curves\n",
        "def summarize_diagnostics(histories):\n",
        "\tfor i in range(len(histories)):\n",
        "\t\t# plot loss\n",
        "\t\tpyplot.subplot(211)\n",
        "\t\tpyplot.title('Cross Entropy Loss')\n",
        "\t\tpyplot.plot(histories[i].history['loss'], color='blue', label='train')\n",
        "\t\tpyplot.plot(histories[i].history['val_loss'], color='orange', label='test')\n",
        "\t\t# plot accuracy\n",
        "\t\tpyplot.subplot(212)\n",
        "\t\tpyplot.title('Classification Accuracy')\n",
        "\t\tpyplot.plot(histories[i].history['accuracy'], color='blue', label='train')\n",
        "\t\tpyplot.plot(histories[i].history['val_accuracy'], color='orange', label='test')\n",
        "\tpyplot.show()\n",
        " "
      ],
      "execution_count": 6,
      "outputs": []
    },
    {
      "cell_type": "code",
      "metadata": {
        "id": "Gj3mFyKuQeIC"
      },
      "source": [
        "# summarize model performance\n",
        "def summarize_performance(scores):\n",
        "\t# print summary\n",
        "\tprint('Accuracy: mean=%.3f std=%.3f, n=%d' % (mean(scores)*100, std(scores)*100, len(scores)))\n",
        "\t# box and whisker plots of results\n",
        "\tpyplot.boxplot(scores)\n",
        "\tpyplot.show()\n",
        " "
      ],
      "execution_count": 7,
      "outputs": []
    },
    {
      "cell_type": "code",
      "metadata": {
        "colab": {
          "base_uri": "https://localhost:8080/",
          "height": 1000
        },
        "id": "6whIBk5QQi44",
        "outputId": "f270077d-b043-457a-9b60-f2eea521a8cf"
      },
      "source": [
        "# run the test harness for evaluating a model\n",
        "def run_test_harness():\n",
        "\t# load dataset\n",
        "\ttrainX, trainY, testX, testY = load_dataset()\n",
        "\t# prepare pixel data\n",
        "\ttrainX, testX = prep_pixels(trainX, testX)\n",
        "\t# evaluate model\n",
        "\tscores, histories = evaluate_model(trainX, trainY)\n",
        "\t# learning curves\n",
        "\tsummarize_diagnostics(histories)\n",
        "\t# summarize estimated performance\n",
        "\tsummarize_performance(scores)\n",
        " \n",
        "# entry point, run the test harness\n",
        "run_test_harness()"
      ],
      "execution_count": 8,
      "outputs": [
        {
          "output_type": "stream",
          "name": "stdout",
          "text": [
            "Downloading data from https://storage.googleapis.com/tensorflow/tf-keras-datasets/train-labels-idx1-ubyte.gz\n",
            "32768/29515 [=================================] - 0s 0us/step\n",
            "40960/29515 [=========================================] - 0s 0us/step\n",
            "Downloading data from https://storage.googleapis.com/tensorflow/tf-keras-datasets/train-images-idx3-ubyte.gz\n",
            "26427392/26421880 [==============================] - 0s 0us/step\n",
            "26435584/26421880 [==============================] - 0s 0us/step\n",
            "Downloading data from https://storage.googleapis.com/tensorflow/tf-keras-datasets/t10k-labels-idx1-ubyte.gz\n",
            "16384/5148 [===============================================================================================] - 0s 0us/step\n",
            "Downloading data from https://storage.googleapis.com/tensorflow/tf-keras-datasets/t10k-images-idx3-ubyte.gz\n",
            "4423680/4422102 [==============================] - 0s 0us/step\n",
            "4431872/4422102 [==============================] - 0s 0us/step\n"
          ]
        },
        {
          "output_type": "stream",
          "name": "stderr",
          "text": [
            "/usr/local/lib/python3.7/dist-packages/keras/optimizer_v2/gradient_descent.py:102: UserWarning: The `lr` argument is deprecated, use `learning_rate` instead.\n",
            "  super(SGD, self).__init__(name, **kwargs)\n"
          ]
        },
        {
          "output_type": "stream",
          "name": "stdout",
          "text": [
            "model 0 ------------------------\n",
            "Epoch 1/10\n",
            "1500/1500 [==============================] - 17s 6ms/step - loss: 0.4305 - accuracy: 0.8471 - val_loss: 0.3188 - val_accuracy: 0.8842\n",
            "Epoch 2/10\n",
            "1500/1500 [==============================] - 8s 5ms/step - loss: 0.2909 - accuracy: 0.8945 - val_loss: 0.2921 - val_accuracy: 0.8918\n",
            "Epoch 3/10\n",
            "1500/1500 [==============================] - 8s 5ms/step - loss: 0.2458 - accuracy: 0.9101 - val_loss: 0.2687 - val_accuracy: 0.9028\n",
            "Epoch 4/10\n",
            "1500/1500 [==============================] - 8s 5ms/step - loss: 0.2156 - accuracy: 0.9209 - val_loss: 0.2541 - val_accuracy: 0.9048\n",
            "Epoch 5/10\n",
            "1500/1500 [==============================] - 8s 5ms/step - loss: 0.1881 - accuracy: 0.9309 - val_loss: 0.2697 - val_accuracy: 0.9023\n",
            "Epoch 6/10\n",
            "1500/1500 [==============================] - 9s 6ms/step - loss: 0.1697 - accuracy: 0.9375 - val_loss: 0.2625 - val_accuracy: 0.9091\n",
            "Epoch 7/10\n",
            "1500/1500 [==============================] - 8s 5ms/step - loss: 0.1515 - accuracy: 0.9432 - val_loss: 0.2518 - val_accuracy: 0.9134\n",
            "Epoch 8/10\n",
            "1500/1500 [==============================] - 8s 6ms/step - loss: 0.1349 - accuracy: 0.9499 - val_loss: 0.2597 - val_accuracy: 0.9128\n",
            "Epoch 9/10\n",
            "1500/1500 [==============================] - 9s 6ms/step - loss: 0.1201 - accuracy: 0.9568 - val_loss: 0.2672 - val_accuracy: 0.9110\n",
            "Epoch 10/10\n",
            "1500/1500 [==============================] - 8s 5ms/step - loss: 0.1096 - accuracy: 0.9598 - val_loss: 0.2706 - val_accuracy: 0.9181\n",
            ">accuarcy 91.808\n",
            "model 1 ------------------------\n",
            "Epoch 1/10\n",
            "1500/1500 [==============================] - 8s 5ms/step - loss: 0.4328 - accuracy: 0.8444 - val_loss: 0.3148 - val_accuracy: 0.8863\n",
            "Epoch 2/10\n",
            "1500/1500 [==============================] - 8s 5ms/step - loss: 0.2959 - accuracy: 0.8923 - val_loss: 0.2778 - val_accuracy: 0.9004\n",
            "Epoch 3/10\n",
            "1500/1500 [==============================] - 8s 5ms/step - loss: 0.2500 - accuracy: 0.9088 - val_loss: 0.2613 - val_accuracy: 0.9044\n",
            "Epoch 4/10\n",
            "1500/1500 [==============================] - 8s 5ms/step - loss: 0.2193 - accuracy: 0.9183 - val_loss: 0.2586 - val_accuracy: 0.9065\n",
            "Epoch 5/10\n",
            "1500/1500 [==============================] - 8s 5ms/step - loss: 0.1927 - accuracy: 0.9287 - val_loss: 0.2488 - val_accuracy: 0.9126\n",
            "Epoch 6/10\n",
            "1500/1500 [==============================] - 8s 5ms/step - loss: 0.1742 - accuracy: 0.9346 - val_loss: 0.2385 - val_accuracy: 0.9163\n",
            "Epoch 7/10\n",
            "1500/1500 [==============================] - 8s 5ms/step - loss: 0.1552 - accuracy: 0.9417 - val_loss: 0.2427 - val_accuracy: 0.9152\n",
            "Epoch 8/10\n",
            "1500/1500 [==============================] - 8s 5ms/step - loss: 0.1386 - accuracy: 0.9488 - val_loss: 0.2551 - val_accuracy: 0.9130\n",
            "Epoch 9/10\n",
            "1500/1500 [==============================] - 8s 5ms/step - loss: 0.1236 - accuracy: 0.9536 - val_loss: 0.2579 - val_accuracy: 0.9173\n",
            "Epoch 10/10\n",
            "1500/1500 [==============================] - 8s 5ms/step - loss: 0.1097 - accuracy: 0.9588 - val_loss: 0.2693 - val_accuracy: 0.9137\n",
            ">accuarcy 91.367\n",
            "model 2 ------------------------\n",
            "Epoch 1/10\n",
            "1500/1500 [==============================] - 9s 6ms/step - loss: 0.4275 - accuracy: 0.8465 - val_loss: 0.3293 - val_accuracy: 0.8841\n",
            "Epoch 2/10\n",
            "1500/1500 [==============================] - 8s 5ms/step - loss: 0.2876 - accuracy: 0.8941 - val_loss: 0.2948 - val_accuracy: 0.8940\n",
            "Epoch 3/10\n",
            "1500/1500 [==============================] - 8s 5ms/step - loss: 0.2464 - accuracy: 0.9100 - val_loss: 0.3021 - val_accuracy: 0.8953\n",
            "Epoch 4/10\n",
            "1500/1500 [==============================] - 8s 5ms/step - loss: 0.2195 - accuracy: 0.9187 - val_loss: 0.2635 - val_accuracy: 0.9086\n",
            "Epoch 5/10\n",
            "1500/1500 [==============================] - 8s 5ms/step - loss: 0.1941 - accuracy: 0.9283 - val_loss: 0.2837 - val_accuracy: 0.9013\n",
            "Epoch 6/10\n",
            "1500/1500 [==============================] - 8s 5ms/step - loss: 0.1782 - accuracy: 0.9341 - val_loss: 0.2641 - val_accuracy: 0.9087\n",
            "Epoch 7/10\n",
            "1500/1500 [==============================] - 8s 5ms/step - loss: 0.1590 - accuracy: 0.9413 - val_loss: 0.2848 - val_accuracy: 0.9045\n",
            "Epoch 8/10\n",
            "1500/1500 [==============================] - 8s 5ms/step - loss: 0.1472 - accuracy: 0.9462 - val_loss: 0.2634 - val_accuracy: 0.9113\n",
            "Epoch 9/10\n",
            "1500/1500 [==============================] - 8s 5ms/step - loss: 0.1302 - accuracy: 0.9519 - val_loss: 0.2571 - val_accuracy: 0.9162\n",
            "Epoch 10/10\n",
            "1500/1500 [==============================] - 8s 5ms/step - loss: 0.1191 - accuracy: 0.9562 - val_loss: 0.2805 - val_accuracy: 0.9059\n",
            ">accuarcy 90.592\n",
            "model 3 ------------------------\n",
            "Epoch 1/10\n",
            "1500/1500 [==============================] - 9s 6ms/step - loss: 0.4569 - accuracy: 0.8367 - val_loss: 0.3252 - val_accuracy: 0.8811\n",
            "Epoch 2/10\n",
            "1500/1500 [==============================] - 8s 5ms/step - loss: 0.3011 - accuracy: 0.8919 - val_loss: 0.2891 - val_accuracy: 0.8962\n",
            "Epoch 3/10\n",
            "1500/1500 [==============================] - 8s 5ms/step - loss: 0.2558 - accuracy: 0.9072 - val_loss: 0.2817 - val_accuracy: 0.8958\n",
            "Epoch 4/10\n",
            "1500/1500 [==============================] - 8s 5ms/step - loss: 0.2254 - accuracy: 0.9169 - val_loss: 0.2741 - val_accuracy: 0.8999\n",
            "Epoch 5/10\n",
            "1500/1500 [==============================] - 8s 5ms/step - loss: 0.2032 - accuracy: 0.9249 - val_loss: 0.2571 - val_accuracy: 0.9044\n",
            "Epoch 6/10\n",
            "1500/1500 [==============================] - 8s 5ms/step - loss: 0.1836 - accuracy: 0.9329 - val_loss: 0.2624 - val_accuracy: 0.9055\n",
            "Epoch 7/10\n",
            "1500/1500 [==============================] - 8s 5ms/step - loss: 0.1671 - accuracy: 0.9388 - val_loss: 0.2683 - val_accuracy: 0.9093\n",
            "Epoch 8/10\n",
            "1500/1500 [==============================] - 8s 5ms/step - loss: 0.1495 - accuracy: 0.9455 - val_loss: 0.2570 - val_accuracy: 0.9127\n",
            "Epoch 9/10\n",
            "1500/1500 [==============================] - 8s 5ms/step - loss: 0.1364 - accuracy: 0.9499 - val_loss: 0.2905 - val_accuracy: 0.9047\n",
            "Epoch 10/10\n",
            "1500/1500 [==============================] - 8s 5ms/step - loss: 0.1250 - accuracy: 0.9545 - val_loss: 0.2687 - val_accuracy: 0.9114\n",
            ">accuarcy 91.142\n",
            "model 4 ------------------------\n",
            "Epoch 1/10\n",
            "1500/1500 [==============================] - 8s 5ms/step - loss: 0.4303 - accuracy: 0.8461 - val_loss: 0.3272 - val_accuracy: 0.8806\n",
            "Epoch 2/10\n",
            "1500/1500 [==============================] - 8s 5ms/step - loss: 0.2920 - accuracy: 0.8926 - val_loss: 0.2814 - val_accuracy: 0.9006\n",
            "Epoch 3/10\n",
            "1500/1500 [==============================] - 8s 5ms/step - loss: 0.2468 - accuracy: 0.9091 - val_loss: 0.2816 - val_accuracy: 0.8963\n",
            "Epoch 4/10\n",
            "1500/1500 [==============================] - 8s 5ms/step - loss: 0.2182 - accuracy: 0.9185 - val_loss: 0.2583 - val_accuracy: 0.9096\n",
            "Epoch 5/10\n",
            "1500/1500 [==============================] - 8s 5ms/step - loss: 0.1908 - accuracy: 0.9280 - val_loss: 0.2763 - val_accuracy: 0.9032\n",
            "Epoch 6/10\n",
            "1500/1500 [==============================] - 8s 5ms/step - loss: 0.1714 - accuracy: 0.9369 - val_loss: 0.2547 - val_accuracy: 0.9122\n",
            "Epoch 7/10\n",
            "1500/1500 [==============================] - 8s 5ms/step - loss: 0.1561 - accuracy: 0.9419 - val_loss: 0.2754 - val_accuracy: 0.9078\n",
            "Epoch 8/10\n",
            "1500/1500 [==============================] - 8s 5ms/step - loss: 0.1388 - accuracy: 0.9481 - val_loss: 0.2649 - val_accuracy: 0.9117\n",
            "Epoch 9/10\n",
            "1500/1500 [==============================] - 8s 5ms/step - loss: 0.1251 - accuracy: 0.9541 - val_loss: 0.2791 - val_accuracy: 0.9086\n",
            "Epoch 10/10\n",
            "1500/1500 [==============================] - 8s 5ms/step - loss: 0.1114 - accuracy: 0.9593 - val_loss: 0.2839 - val_accuracy: 0.9093\n",
            ">accuarcy 90.925\n"
          ]
        },
        {
          "output_type": "stream",
          "name": "stderr",
          "text": [
            "/usr/local/lib/python3.7/dist-packages/ipykernel_launcher.py:5: MatplotlibDeprecationWarning: Adding an axes using the same arguments as a previous axes currently reuses the earlier instance.  In a future version, a new instance will always be created and returned.  Meanwhile, this warning can be suppressed, and the future behavior ensured, by passing a unique label to each axes instance.\n",
            "  \"\"\"\n",
            "/usr/local/lib/python3.7/dist-packages/ipykernel_launcher.py:10: MatplotlibDeprecationWarning: Adding an axes using the same arguments as a previous axes currently reuses the earlier instance.  In a future version, a new instance will always be created and returned.  Meanwhile, this warning can be suppressed, and the future behavior ensured, by passing a unique label to each axes instance.\n",
            "  # Remove the CWD from sys.path while we load stuff.\n"
          ]
        },
        {
          "output_type": "display_data",
          "data": {
            "image/png": "[encoded data removed]",
            "text/plain": [
              "<Figure size 432x288 with 2 Axes>"
            ]
          },
          "metadata": {
            "needs_background": "light"
          }
        },
        {
          "output_type": "stream",
          "name": "stdout",
          "text": [
            "Accuracy: mean=91.167 std=0.410, n=5\n"
          ]
        },
        {
          "output_type": "display_data",
          "data": {
            "image/png": "[encoded data removed]",
            "text/plain": [
              "<Figure size 432x288 with 1 Axes>"
            ]
          },
          "metadata": {
            "needs_background": "light"
          }
        }
      ]
    }
  ]
}