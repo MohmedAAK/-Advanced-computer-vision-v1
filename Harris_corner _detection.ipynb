{
  "nbformat": 4,
  "nbformat_minor": 0,
  "metadata": {
    "colab": {
      "name": "Untitled1.ipynb",
      "provenance": [],
      "authorship_tag": "ABX9TyNt+c/BCCMHy2jaPFUMpLIv",
      "include_colab_link": true
    },
    "kernelspec": {
      "name": "python3",
      "display_name": "Python 3"
    },
    "language_info": {
      "name": "python"
    }
  },
  "cells": [
    {
      "cell_type": "markdown",
      "metadata": {
        "id": "view-in-github",
        "colab_type": "text"
      },
      "source": [
        "<a href=\"https://colab.research.google.com/github/MohmedAAK/-Advanced-computer-vision-v1/blob/main/Harris_corner%20_detection.ipynb\" target=\"_parent\"><img src=\"https://colab.research.google.com/assets/colab-badge.svg\" alt=\"Open In Colab\"/></a>"
      ]
    },
    {
      "cell_type": "code",
      "metadata": {
        "id": "mR-PIXKxNXsZ"
      },
      "source": [
        "#Implementation of Harris Corner Detector\n",
        "\n",
        "#Import Libraries\n",
        "import matplotlib.pyplot as plt\n",
        "import numpy as np\n",
        "import imageio\n",
        "from scipy import ndimage"
      ],
      "execution_count": null,
      "outputs": []
    },
    {
      "cell_type": "code",
      "metadata": {
        "id": "6IgxG5SuNY1Q"
      },
      "source": [
        "#This cell contains all the functions used in Phase I\n",
        "\n",
        "#Define RGB2gray function\n",
        "def rgb2gray(img) :\n",
        "    return np.dot(img[..., :3], [0.2989, 0.5870, 0.1140])\n",
        "\n",
        "\n",
        "#Detemine gradient function for Fx and Fy using sobel filter(normlized)\n",
        "def gradient_x(img) :\n",
        "    grad_img = ndimage.convolve(img, np.array([[-1, 0, 1],[-2, 0, 2],[-1, 0, 1]]))\n",
        "    return grad_img/np.max(grad_img)\n",
        "\n",
        "def gradient_y(img) :\n",
        "    grad_img = ndimage.convolve(img, np.array([[-1, -2, -1],[0, 0, 0],[1, 2, 1]]))\n",
        "    return grad_img/np.max(grad_img)"
      ],
      "execution_count": null,
      "outputs": []
    },
    {
      "cell_type": "code",
      "metadata": {
        "id": "jVwUjNeoNa-v"
      },
      "source": [
        "#Harris Corner Detector Implementation and test\n",
        "input_path = \"../data/\"\n",
        "output_path = \"../harris_output/\"\n",
        "img_name = [\"bicycle.bmp\", \"bird.bmp\", \"dog.bmp\", \"einstein.bmp\", \"plane.bmp\", \"toy_image.jpg\"]\n",
        "ratio = [0.05, 0.05, 0.05, 0.05, 0.01, 0.001]\n",
        "count = 0 #for equivalent ratio access\n",
        "\n",
        "for img in img_name :\n",
        "#Phase I : Find filtered grdient\n",
        "    #Load the input images\n",
        "    input_img = imageio.imread(input_path + img)\n",
        "    print(input_img.dtype)\n",
        "\n",
        "    #Convert the image to grayscale\n",
        "    gray_input_img = rgb2gray(input_img)\n",
        "\n",
        "    #Apply gaussian blurring\n",
        "    blur_img = ndimage.gaussian_filter(gray_input_img, sigma = 1.0)\n",
        "\n",
        "    #Find gradient Fx\n",
        "    x_grad = gradient_x(blur_img)\n",
        "\n",
        "    #Find gradient Fy\n",
        "    y_grad = gradient_y(blur_img)\n",
        "    \n",
        "#Phase II : Find corners\n",
        "    xx_grad = x_grad * x_grad\n",
        "    yy_grad = y_grad * y_grad\n",
        "    xy_grad = x_grad * y_grad\n",
        "    tuple_data = [] #Contains y, x Co-ordinates and its corner response\n",
        "    k = 0.04\n",
        "    max = 0\n",
        "\n",
        "    for i in range(1, int(input_img.shape[0] - 1)) :\n",
        "            for j in range(1, int(input_img.shape[1] - 1)) :\n",
        "                window_x = xx_grad[i-4 : i+5 , j-4 : j+5]\n",
        "                window_y = yy_grad[i-4 : i+5 , j-4 : j+5]\n",
        "                window_xy = xy_grad[i-4 : i+5 , j-4 : j+5] \n",
        "                sum_xx = np.sum(window_x)\n",
        "                sum_yy = np.sum(window_y)\n",
        "                sum_xy = np.sum(window_xy)\n",
        "                determinant = (sum_xx * sum_yy) - (sum_xy * sum_xy)\n",
        "                trace = sum_xx + sum_yy\n",
        "                R = determinant - (k * trace * trace)\n",
        "                tuple_data.append((i, j, R))\n",
        "                if(R > max) :\n",
        "                    max = R\n",
        "    print(max)\n",
        "    #L contains y, x co-ordinate(whose value is greater than threshold) and their corner response of those co-ordinates\n",
        "    L = []\n",
        "    thres_ratio = ratio[count]\n",
        "    count+=1\n",
        "    threshold = thres_ratio * max\n",
        "    for res in tuple_data :\n",
        "        i, j, R = res\n",
        "        if R > threshold :\n",
        "            L.append([i, j, R])\n",
        "            #Phase III : Non maximal suppression\n",
        "    sorted_L = sorted(L, key = lambda x: x[2], reverse = True)\n",
        "    final_L = [] #final_l contains list after non maximal suppression\n",
        "    final_L.append(sorted_L[0][:-1])\n",
        "    dis = 10\n",
        "    xc, yc = [], []\n",
        "    for i in sorted_L :\n",
        "        for j in final_L :\n",
        "            if(abs(i[0] - j[0] <= dis) and abs(i[1] - j[1]) <= dis) :\n",
        "                break\n",
        "        else :\n",
        "            final_L.append(i[:-1])\n",
        "            xc.append(i[1])\n",
        "            yc.append(i[0])\n",
        "    print(len(sorted_L))\n",
        "    print(len(final_L))\n",
        "\n",
        "     #Print Final Image\n",
        "    corner_img = np.zeros(input_img.shape)\n",
        "    #(input_img.shape[0], input_img.shape[1], 3), dtype = np.uint8)\n",
        "\n",
        "    for i in final_L :\n",
        "        y, x = i[0], i[1]\n",
        "        corner_img[y][x] = 1\n",
        "\n",
        "    plt.imshow(input_img, cmap = plt.get_cmap('gray'))\n",
        "    plt.plot(xc, yc, '*', color='red')\n",
        "    plt.savefig(output_path + img.split('.')[0] + \"/img2_corners.jpg\")\n",
        "    plt.show()\n",
        "    imageio.imwrite(output_path + img.split('.')[0] + \"/img1_corners.jpg\", corner_img, cmap = 'gray') "
      ],
      "execution_count": null,
      "outputs": []
    }
  ]
}